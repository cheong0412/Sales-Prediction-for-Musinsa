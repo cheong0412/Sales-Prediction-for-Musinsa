{
 "cells": [
  {
   "cell_type": "code",
   "execution_count": 1,
   "metadata": {
    "id": "7Q5yTq-Ufqh5"
   },
   "outputs": [],
   "source": [
    "import requests\n",
    "import random as rd\n",
    "import re\n",
    "import time\n",
    "import pandas as pd\n",
    "from datetime import datetime\n",
    "from urllib.request import urlopen\n",
    "from bs4 import BeautifulSoup\n",
    "from selenium import webdriver\n",
    "from selenium.webdriver.common.by import By\n",
    "from selenium.webdriver.common.action_chains import ActionChains\n",
    "from tqdm import tqdm"
   ]
  },
  {
   "cell_type": "markdown",
   "metadata": {
    "id": "qFsm7oWYfqiB"
   },
   "source": [
    "# 상의\n",
    "수집 데이터\n",
    "카테고리, 아이템품번, 아이템 이름, 한정판매, 단독판매, 색상, 타겟 성별, 구매 성별, 구매 나이, 1개월 조회수, 좋아요 수, 가격(회원가), 배송정보, 평점, 후기수, Q&A 수, 1년 누적 판매량"
   ]
  },
  {
   "cell_type": "code",
   "execution_count": null,
   "metadata": {
    "id": "0WxtwBzMfqiE"
   },
   "outputs": [],
   "source": [
    "# driver.close()"
   ]
  },
  {
   "cell_type": "code",
   "execution_count": 3,
   "metadata": {
    "id": "2RO6a1gHfqiG"
   },
   "outputs": [],
   "source": [
    "# 상의 페이지(1 page)\n",
    "driver = webdriver.Chrome()\n",
    "driver.get(\"https://www.musinsa.com/categories/item/002?d_cat_cd=001&brand=&list_kind=small&sort=pop_category&sub_sort=&page={}&display_cnt=90&group_sale=&exclusive_yn=&sale_goods=&timesale_yn=&ex_soldout=&plusDeliveryYn=&kids=&color=&price1=&price2=&shoeSizeOption=&tags=&campaign_id=&includeKeywords=&measure=\".format(1))\n",
    "driver.maximize_window()"
   ]
  },
  {
   "cell_type": "code",
   "execution_count": 4,
   "metadata": {
    "id": "xxGFxkQVfqiH"
   },
   "outputs": [],
   "source": [
    "# 제품 선택 (임의로 1의 제품을 선택하여 수집)\n",
    "first_content = driver.find_element(By.CSS_SELECTOR, '#searchList > li:nth-child(1) > div.li_inner > div.article_info > p.list_info > a')\n",
    "first_content.click()\n",
    "# searchList > li:nth-child(9) > div.li_inner > div.article_info > p.item_title > a\n",
    "# li:nth-child(9) 여기서 괄호 안에 숫자가 제품의 추천순"
   ]
  },
  {
   "cell_type": "code",
   "execution_count": 10,
   "metadata": {
    "id": "qUDzH3lKfqiI"
   },
   "outputs": [],
   "source": [
    "req = driver.page_source\n",
    "soup = BeautifulSoup(req, 'html.parser')"
   ]
  },
  {
   "cell_type": "markdown",
   "metadata": {
    "id": "IUj4_DD8gDcC"
   },
   "source": [
    "#### 대분류, 중분류"
   ]
  },
  {
   "cell_type": "code",
   "execution_count": 11,
   "metadata": {
    "id": "oMWZWUpKfyCW"
   },
   "outputs": [
    {
     "data": {
      "text/plain": [
       "'아우터'"
      ]
     },
     "execution_count": 11,
     "metadata": {},
     "output_type": "execute_result"
    }
   ],
   "source": [
    "category1 = soup.select_one('div.product-detail__sc-up77yl-0.htaeEr').get_text().split('\\xa0')[0]\n",
    "category1"
   ]
  },
  {
   "cell_type": "code",
   "execution_count": 12,
   "metadata": {
    "id": "ztrzGFEDgI6r"
   },
   "outputs": [
    {
     "data": {
      "text/plain": [
       "'숏패딩/숏헤비 아우터'"
      ]
     },
     "execution_count": 12,
     "metadata": {},
     "output_type": "execute_result"
    }
   ],
   "source": [
    "category2 = soup.select_one('div.product-detail__sc-up77yl-0.htaeEr').get_text().split('\\xa0')[2]\n",
    "category2"
   ]
  },
  {
   "cell_type": "markdown",
   "metadata": {
    "id": "Zw7PeB3yfqiM"
   },
   "source": [
    "#### 아이템 이름"
   ]
  },
  {
   "cell_type": "code",
   "execution_count": 13,
   "metadata": {
    "id": "xipkjFhwfqiN"
   },
   "outputs": [
    {
     "data": {
      "text/plain": [
       "'베이직 푸퍼_SPJPE11C11'"
      ]
     },
     "execution_count": 13,
     "metadata": {},
     "output_type": "execute_result"
    }
   ],
   "source": [
    "# <span class=\"product_title\"><em>하트 벌룬 스웻 셔츠-레드</em><span class=\"product_title_eng\">Heart Balloon Sweat Shirt-Red</span> </span>\n",
    "name = soup.select_one('h3.product-detail__sc-1klhlce-3.fjguJZ').get_text()\n",
    "name"
   ]
  },
  {
   "cell_type": "markdown",
   "metadata": {
    "id": "6-x0erdIfqiO"
   },
   "source": [
    "#### 아이템 품번"
   ]
  },
  {
   "cell_type": "code",
   "execution_count": 14,
   "metadata": {
    "id": "8oCZrkAwfqiP"
   },
   "outputs": [
    {
     "data": {
      "text/plain": [
       "'SPJPE11C11'"
      ]
     },
     "execution_count": 14,
     "metadata": {},
     "output_type": "execute_result"
    }
   ],
   "source": [
    "def 품번():\n",
    "    overlap = []\n",
    "    for i in soup.select('.product-detail__sc-achptn-4.flVcwF'):\n",
    "        overlap.append(i.get_text())\n",
    "\n",
    "    if '품번' in overlap:\n",
    "        index_num = overlap.index('품번')\n",
    "\n",
    "        if overlap[index_num+1][0] == ' ':\n",
    "            return overlap[index_num+1][1:]\n",
    "        return overlap[index_num+1]\n",
    "    else: return None\n",
    "\n",
    "품번()"
   ]
  },
  {
   "cell_type": "markdown",
   "metadata": {
    "id": "L1T9OuJd9DqH"
   },
   "source": [
    "### 한정판매, 무신사 단독 통합\n",
    "0: False, 1: True"
   ]
  },
  {
   "cell_type": "code",
   "execution_count": 15,
   "metadata": {
    "id": "5A-qGdhi9L5Y"
   },
   "outputs": [
    {
     "data": {
      "text/plain": [
       "(1, 0)"
      ]
     },
     "execution_count": 15,
     "metadata": {},
     "output_type": "execute_result"
    }
   ],
   "source": [
    "# 해당 태그가 없는 상품이 있을까봐 예외처리\n",
    "def 한정_단독():\n",
    "    '''\n",
    "    return: limited_sales, exclusive_sale\\n(한정판매 여부, 단독 여부) 튜플입니다.\n",
    "    '''\n",
    "    try:\n",
    "        sales = soup.select_one('h4.product-detail__sc-1qpt7wc-1.dbnyPg').get_text()\n",
    "        if sales == '한정판매':\n",
    "            limited_sales = 1\n",
    "        else:\n",
    "            limited_sales = 0\n",
    "\n",
    "        if sales == '무신사 단독':\n",
    "            exclusive_sale = 1\n",
    "        else:\n",
    "            exclusive_sale = 0\n",
    "\n",
    "    except:\n",
    "        limited_sales = 0\n",
    "        exclusive_sale = 0\n",
    "\n",
    "    return limited_sales, exclusive_sale\n",
    "\n",
    "한정_단독()"
   ]
  },
  {
   "cell_type": "markdown",
   "metadata": {
    "id": "w3dmd1tAfqiS"
   },
   "source": [
    "### 타겟 성별\n",
    "- 남자 = 0\n",
    "- 여자 = 1\n",
    "- 남/여 = 2"
   ]
  },
  {
   "cell_type": "code",
   "execution_count": 16,
   "metadata": {
    "id": "Zfeq63LEfqiT"
   },
   "outputs": [
    {
     "data": {
      "text/plain": [
       "0"
      ]
     },
     "execution_count": 16,
     "metadata": {},
     "output_type": "execute_result"
    }
   ],
   "source": [
    "def 성별():\n",
    "    overlap = []\n",
    "    for i in soup.select('.product-detail__sc-achptn-4.flVcwF'):\n",
    "        overlap.append(i.get_text())\n",
    "    if '성별' in overlap:\n",
    "        index_num = overlap.index('성별')\n",
    "        # return '아아',overlap[index_num])\n",
    "        if overlap[index_num-1] == '시즌':\n",
    "            return overlap[index_num+2]\n",
    "        else: return overlap[index_num+1]\n",
    "    else: return None\n",
    "\n",
    "def 성별2():\n",
    "    if 성별() is None:\n",
    "        return 성별()\n",
    "    else:\n",
    "        if 성별() == '남성':\n",
    "            return  0\n",
    "        elif 성별() == '여성':\n",
    "            return  1\n",
    "        else: return  2\n",
    "성별2()"
   ]
  },
  {
   "cell_type": "markdown",
   "metadata": {
    "id": "VCdtZn-ffqiT"
   },
   "source": [
    "### 구매성별\n",
    "- 남 = 0\n",
    "- 여 = 1"
   ]
  },
  {
   "cell_type": "code",
   "execution_count": 17,
   "metadata": {
    "id": "OUuKJpTEfqiU"
   },
   "outputs": [
    {
     "data": {
      "text/plain": [
       "0"
      ]
     },
     "execution_count": 17,
     "metadata": {},
     "output_type": "execute_result"
    }
   ],
   "source": [
    "# man graph_set_text\n",
    "# 남성일 때와 여성일 때 태그가 다름\n",
    "def 구매성별():\n",
    "    try:\n",
    "        if soup.select_one('em.product-detail__sc-wep3gk-3.kJJbYq').get_text() == '남성':\n",
    "            buy_gender = 0\n",
    "    except:\n",
    "        try:\n",
    "            if soup.select_one('em.product-detail__sc-wep3gk-3.fdjMAR').get_text() == '여성':\n",
    "                buy_gender = 1\n",
    "        except:   #항목 자체가 없을 때\n",
    "            buy_gender = None\n",
    "\n",
    "    return buy_gender\n",
    "\n",
    "구매성별()"
   ]
  },
  {
   "cell_type": "markdown",
   "metadata": {
    "id": "2dAz_V4hgHGh"
   },
   "source": [
    "### 구매 나이"
   ]
  },
  {
   "cell_type": "code",
   "execution_count": 18,
   "metadata": {
    "id": "X-Y7lTYKh4pV"
   },
   "outputs": [
    {
     "data": {
      "text/plain": [
       "('19~23세', 0)"
      ]
     },
     "execution_count": 18,
     "metadata": {},
     "output_type": "execute_result"
    }
   ],
   "source": [
    "def 구매나이():\n",
    "    '''\n",
    "    return : (age_name_1, age_name_2) 튜플입니다.\n",
    "    '''\n",
    "\n",
    "    try:\n",
    "        # 해당 엘리먼트가 있는 곳까지 스크롤\n",
    "        target_element = driver.find_element(By.XPATH, '//*[@id=\"page_product_detail\"]/div[2]/div[7]/ul/li[1]/h3')   # 구매나이 클릭\n",
    "        driver.execute_script(\"arguments[0].scrollIntoView(true);\", target_element)\n",
    "        target_element.click()\n",
    "\n",
    "        respone = driver.page_source\n",
    "        soup = BeautifulSoup(respone, 'html.parser')\n",
    "\n",
    "        age_name = soup.select('ul.bar_wrap dl:has(span.bar.hightest) dt.bar_name')\n",
    "\n",
    "        try:\n",
    "            if age_name[0] in age_name or age_name[1] in age_name:\n",
    "                age_name_1 = ','.join(age_name[0]).split()\n",
    "                age_name_1 = age_name_1[0]\n",
    "                age_name_2 = ','.join(age_name[1]).split()\n",
    "                age_name_2 = age_name_2[0]\n",
    "\n",
    "        except:\n",
    "            age_name_2 = 0\n",
    "            # age_name[0]은 필히 존재 하고 age_name[1]의 유무로 인하여 오류가 발생하므로\n",
    "            # 오류 발생 시 age_name[1]의 텍스트 값인 age_name_2만 '0' 으로 설정\n",
    "    except:\n",
    "        age_name_1 = 0\n",
    "        age_name_2 = 0\n",
    "\n",
    "    return age_name_1, age_name_2\n",
    "\n",
    "구매나이()"
   ]
  },
  {
   "cell_type": "markdown",
   "metadata": {
    "id": "kECNXLZWfqiV"
   },
   "source": [
    "### 1개월 조회수"
   ]
  },
  {
   "cell_type": "code",
   "execution_count": 19,
   "metadata": {
    "id": "voBXSH4lfqiV"
   },
   "outputs": [
    {
     "name": "stdout",
     "output_type": "stream",
     "text": [
      "547000.0\n"
     ]
    }
   ],
   "source": [
    "def 조회수():\n",
    "    overlap = []\n",
    "    for i in soup.select('.product-detail__sc-achptn-4.flVcwF'):\n",
    "        overlap.append(i.get_text())\n",
    "\n",
    "    if '조회수(1개월)' in overlap:\n",
    "        index_num = overlap.index('조회수(1개월)')\n",
    "        sale = overlap[index_num+1][:-4]\n",
    "\n",
    "        if sale[-2] =='만':\n",
    "            return float(sale[:-2]) * 10000\n",
    "        elif sale[-2] =='천':\n",
    "            return float(sale[:-2]) * 1000\n",
    "        else: return float(sale)\n",
    "    else: return None\n",
    "\n",
    "def 조회수2():\n",
    "    some_tag = driver.find_element(By.CSS_SELECTOR, '#page_product_detail > div.right_area.page_detail_product > div.section_graph_detail > ul > li.graph_title_viewcount > h3')\n",
    "    action = ActionChains(driver)\n",
    "    action.move_to_element(some_tag).perform()\n",
    "\n",
    "    first_content = driver.find_element(By.CSS_SELECTOR, '#page_product_detail > div.right_area.page_detail_product > div.section_graph_detail > ul > li.graph_title_viewcount > h3')\n",
    "    first_content.click()\n",
    "\n",
    "    req = driver.page_source\n",
    "    soup = BeautifulSoup(req, 'html.parser')\n",
    "\n",
    "    view = soup.select_one('ul.graph_sub_title>li>h4>strong').get_text().split(' 회')[0]\n",
    "\n",
    "    if view[-1] =='만':\n",
    "        return float(view[:-1]) * 10000\n",
    "    elif view[-1] =='천':\n",
    "        return float(view[:-1]) * 1000\n",
    "    else: return float(view.split('회')[0])\n",
    "\n",
    "try: print(조회수2())\n",
    "except: print(조회수())"
   ]
  },
  {
   "cell_type": "markdown",
   "metadata": {
    "id": "4stsNx9hfqiW"
   },
   "source": [
    "### 좋아요 수"
   ]
  },
  {
   "cell_type": "code",
   "execution_count": 20,
   "metadata": {
    "id": "7F4sH-x1fqiW"
   },
   "outputs": [
    {
     "data": {
      "text/plain": [
       "127438"
      ]
     },
     "execution_count": 20,
     "metadata": {},
     "output_type": "execute_result"
    }
   ],
   "source": [
    "def 좋아요():\n",
    "    try:\n",
    "        tmp_like = int(soup.select_one('span.product-detail__sc-achptn-4.flUHrZ').get_text().replace(',', ''))\n",
    "    except:\n",
    "        tmp_like = 0\n",
    "\n",
    "    return tmp_like\n",
    "\n",
    "좋아요()"
   ]
  },
  {
   "cell_type": "markdown",
   "metadata": {
    "id": "rhE9q8oKfqiX"
   },
   "source": [
    "### 가격"
   ]
  },
  {
   "cell_type": "code",
   "execution_count": 21,
   "metadata": {
    "id": "Ng6tbTEQfqiX"
   },
   "outputs": [
    {
     "data": {
      "text/plain": [
       "62910.0"
      ]
     },
     "execution_count": 21,
     "metadata": {},
     "output_type": "execute_result"
    }
   ],
   "source": [
    "def 가격():\n",
    "    #일반\n",
    "    try:\n",
    "        price_element = soup.select('div.product-detail__sc-1p1ulhg-6.bIRSux span.product-detail__sc-1p1ulhg-7.hSwsZE')\n",
    "        price_element = ','.join(price_element[0]).split()\n",
    "\n",
    "        if len(price_element) == 3: # 30,000원 ~ 40,000원\n",
    "            price = float(price_element[2].replace(',', '').replace('원',''))\n",
    "        else: # 40,000원\n",
    "            price = float(price_element[0].replace(',', '').replace('원',''))\n",
    "    #클리어런스\n",
    "    except:\n",
    "        price = float(soup.select_one('span.product-detail__sc-1p1ulhg-7.kqpaoP').get_text()[:-1].replace(',', ''))\n",
    "\n",
    "    return price\n",
    "가격()"
   ]
  },
  {
   "cell_type": "markdown",
   "metadata": {
    "id": "XP1EiOtlfqiY"
   },
   "source": [
    "### 할인율"
   ]
  },
  {
   "cell_type": "code",
   "execution_count": 22,
   "metadata": {
    "id": "tcJ0li51fqiY"
   },
   "outputs": [
    {
     "data": {
      "text/plain": [
       "'10'"
      ]
     },
     "execution_count": 22,
     "metadata": {},
     "output_type": "execute_result"
    }
   ],
   "source": [
    "def 할인율():\n",
    "    if soup.select_one('div.product-detail__sc-1p1ulhg-14.gNkVLj')!=None:\n",
    "        discount=soup.select_one('div.product-detail__sc-1p1ulhg-14.gNkVLj').get_text().split('%')[0]\n",
    "\n",
    "    else :\n",
    "        discount = 0\n",
    "\n",
    "    return discount\n",
    "할인율()"
   ]
  },
  {
   "cell_type": "markdown",
   "metadata": {
    "id": "4DqwAJ8zfqiZ"
   },
   "source": [
    "### 배송 일수"
   ]
  },
  {
   "cell_type": "code",
   "execution_count": 23,
   "metadata": {
    "id": "v-8DBOvTfqiZ"
   },
   "outputs": [
    {
     "data": {
      "text/plain": [
       "6"
      ]
     },
     "execution_count": 23,
     "metadata": {},
     "output_type": "execute_result"
    }
   ],
   "source": [
    "def get_date_difference(estimated_date):\n",
    "    date_format = '%Y/%m/%d'  # 대문자 Y는 연도를 4자리로 표시\n",
    "    target_date = datetime.strptime(estimated_date, date_format)\n",
    "\n",
    "    # 오늘 날짜를 구합니다.\n",
    "    today = datetime.now()\n",
    "\n",
    "    # 날짜 차이를 계산합니다.\n",
    "    difference = today - target_date\n",
    "\n",
    "    return abs(difference.days)\n",
    "\n",
    "def 배송일자():\n",
    "        arrival_text = soup.select_one(\".product-detail__sc-1ys1x0v-4.bPYIon\")\n",
    "        if arrival_text is not None:\n",
    "            date_text = arrival_text.get_text().split('(')[0]\n",
    "            estimated_date = '2024/' + date_text\n",
    "\n",
    "            return  get_date_difference(estimated_date)\n",
    "\n",
    "        else:\n",
    "            # 배송 예정일이 없을 경우\n",
    "            a = []\n",
    "            for i in soup.select('span.product-detail__sc-1ts9zk8-4.hwqlaH'):\n",
    "                a.append(i.get_text())\n",
    "\n",
    "            try:\n",
    "                if '출고 정보' in a:\n",
    "                    print('출고 정보 + 2 :')\n",
    "                    num = a.index('출고 정보') # 0번 # '출고 정보'가 없을 경우 에러가 뜸!\n",
    "                    return  int(a[num+1].split(' ')[1].split('일')[0]) + 2\n",
    "                else:\n",
    "                    return  None\n",
    "            except:\n",
    "                 print('출고 정보에 날짜 없음(예: 13시 까지 주문 시 당일 출고)')\n",
    "                 return None\n",
    "\n",
    "배송일자()"
   ]
  },
  {
   "cell_type": "markdown",
   "metadata": {
    "id": "-qly1zuGfqib"
   },
   "source": [
    "### 평점"
   ]
  },
  {
   "cell_type": "code",
   "execution_count": 24,
   "metadata": {
    "id": "HsET-Jz7fqib"
   },
   "outputs": [
    {
     "data": {
      "text/plain": [
       "4.9"
      ]
     },
     "execution_count": 24,
     "metadata": {},
     "output_type": "execute_result"
    }
   ],
   "source": [
    "def 평점():\n",
    "    try:\n",
    "        tmp_pro_rating = float(soup.select_one('.product-detail__sc-achptn-4.iKKecn').get_text())\n",
    "    except:\n",
    "        tmp_pro_rating = None\n",
    "\n",
    "    return tmp_pro_rating\n",
    "\n",
    "평점()"
   ]
  },
  {
   "cell_type": "markdown",
   "metadata": {
    "id": "88pTt_n9fqib"
   },
   "source": [
    "### 후기 수"
   ]
  },
  {
   "cell_type": "code",
   "execution_count": 25,
   "metadata": {
    "id": "7BMoJJS-fqib"
   },
   "outputs": [
    {
     "data": {
      "text/plain": [
       "42739"
      ]
     },
     "execution_count": 25,
     "metadata": {},
     "output_type": "execute_result"
    }
   ],
   "source": [
    "def 후기수():\n",
    "    try:\n",
    "        tmp_review = int(soup.select_one('#review_total').get_text().replace(',', ''))\n",
    "    except:\n",
    "        tmp_review = None\n",
    "\n",
    "    return tmp_review\n",
    "\n",
    "후기수()"
   ]
  },
  {
   "cell_type": "markdown",
   "metadata": {
    "id": "T6zDs0JHfqik"
   },
   "source": [
    "### 구매수"
   ]
  },
  {
   "cell_type": "code",
   "execution_count": 26,
   "metadata": {
    "id": "wtSsZ0yxfqil"
   },
   "outputs": [
    {
     "data": {
      "text/plain": [
       "76000.0"
      ]
     },
     "execution_count": 26,
     "metadata": {},
     "output_type": "execute_result"
    }
   ],
   "source": [
    "def 누적판매():\n",
    "    overlap = []\n",
    "    for i in soup.select('.product-detail__sc-achptn-4.flVcwF'):\n",
    "        overlap.append(i.get_text())\n",
    "\n",
    "    if '누적판매(1년)' in overlap:\n",
    "        index_num = overlap.index('누적판매(1년)')\n",
    "        sale = overlap[index_num+1][:-4]\n",
    "        if sale[-2] =='만':\n",
    "            return float(sale[:-2]) * 10000\n",
    "        elif sale[-2] =='천':\n",
    "            return float(sale[:-2]) * 1000\n",
    "        else: return float(sale)\n",
    "    else: return None\n",
    "\n",
    "누적판매()"
   ]
  },
  {
   "cell_type": "markdown",
   "metadata": {
    "id": "twsi_wmfncGa"
   },
   "source": [
    "### 리뷰 크롤링1"
   ]
  },
  {
   "cell_type": "code",
   "execution_count": 27,
   "metadata": {
    "id": "Ak4kd9bxnbZG"
   },
   "outputs": [],
   "source": [
    "# 리뷰 크롤링 함수1\n",
    "def review_crawling(soup):\n",
    "\n",
    "    # 유저명\n",
    "    tmp_user_names = []\n",
    "\n",
    "    for i in soup.select('p.review-profile__name'):\n",
    "        if i.get_text() == '탈퇴회원':\n",
    "            tmp_result = '탈퇴회원'\n",
    "\n",
    "        else:\n",
    "            tmp_result = i.get_text().split(' ', maxsplit=1)[1]\n",
    "        tmp_user_names.append(tmp_result)\n",
    "\n",
    "    # 유저 평점\n",
    "    tmp_user_ratings = []\n",
    "    search_review_rating = re.compile('\\d+')\n",
    "\n",
    "    for i in soup.select('span.review-list__rating__active'):\n",
    "        tmp_result = search_review_rating.findall(str(i))[0]\n",
    "        tmp_user_ratings.append(tmp_result)\n",
    "\n",
    "    # 유저 리뷰\n",
    "    tmp_user_reviews = []\n",
    "\n",
    "    for i in soup.select('div.review-contents__text'):\n",
    "        tmp_result = i.get_text()\n",
    "        tmp_user_reviews.append(tmp_result)\n",
    "\n",
    "    # 상품이름\n",
    "    name = soup.select_one('h3.product-detail__sc-1klhlce-3.fjguJZ').get_text()\n",
    "    tmp_names = [name] * len(tmp_user_ratings)\n",
    "\n",
    "    # 품번\n",
    "    number = soup.select_one('li.product-detail__sc-achptn-2.dEZkTF > div.product-detail__sc-achptn-6.gfoaTb > span.product-detail__sc-achptn-4.flVcwF').get_text()\n",
    "    if number[0] == ' ':   # 앞 자리 공백 제거\n",
    "        number = number[1:]\n",
    "    tmp_numbers = [number] * len(tmp_user_ratings)\n",
    "\n",
    "    return tmp_names, tmp_numbers, tmp_user_names, tmp_user_ratings, tmp_user_reviews"
   ]
  },
  {
   "cell_type": "markdown",
   "metadata": {
    "id": "QCcu2yy7nqR0"
   },
   "source": [
    "### 리뷰 크롤링2"
   ]
  },
  {
   "cell_type": "code",
   "execution_count": 29,
   "metadata": {
    "id": "YDbXFHk2nph0"
   },
   "outputs": [],
   "source": [
    "# 리뷰 크롤링 함수2 (함수1 사용)\n",
    "def get_tmp_df_musinsa_review_raw(driver, tag_dict):\n",
    "    '''\n",
    "    ex) tag_dict = {'name1':'tag1', ...}\n",
    "\n",
    "    '''\n",
    "    tmp_names = []\n",
    "    tmp_numbers = []\n",
    "    tmp_user_names = []\n",
    "    tmp_user_ratings = []\n",
    "    tmp_user_reviews = []\n",
    "\n",
    "    # 후기 클릭-----------------------------------------------------------------------------------------------\n",
    "    for key in tag_dict.keys():\n",
    "\n",
    "        driver.find_element(By.ID, tag_dict[key]).click()\n",
    "        time.sleep(1)\n",
    "        # 후기 리뷰 개수\n",
    "        search_review_num = re.compile('\\d+[,]?\\d+')\n",
    "        try:\n",
    "\n",
    "            tmp_review_count = int(search_review_num.findall(driver.find_element(By.ID, tag_dict[key]).text)[0])\n",
    "        except:\n",
    "            try:\n",
    "\n",
    "                tmp_review_count = int(search_review_num.findall(driver.find_element(By.ID, tag_dict[key]).text)[0].replace(',', ''))\n",
    "            except:\n",
    "                search_review_num = re.compile('\\d+')\n",
    "                tmp_review_count = int(search_review_num.findall(driver.find_element(By.ID, tag_dict[key]).text)[0])\n",
    "\n",
    "        if tmp_review_count == 0:\n",
    "            print(f'{key} 없음')\n",
    "            # 다음 리뷰 크롤링으로 이동\n",
    "\n",
    "        else:\n",
    "            # 리뷰 1페이지 크롤링\n",
    "            req = driver.page_source\n",
    "            soup = BeautifulSoup(req, 'html.parser')\n",
    "\n",
    "            tmp_names1, tmp_numbers1, tmp_user_names1, tmp_user_ratings1, tmp_user_reviews1 = review_crawling(soup)\n",
    "            # print(f'{key} 1페이지 유저 이름: {tmp_user_names1}')\n",
    "\n",
    "            tmp_names = tmp_names + tmp_names1\n",
    "            tmp_numbers = tmp_numbers + tmp_numbers1\n",
    "            tmp_user_names = tmp_user_names + tmp_user_names1\n",
    "            tmp_user_ratings = tmp_user_ratings + tmp_user_ratings1\n",
    "            tmp_user_reviews = tmp_user_reviews + tmp_user_reviews1\n",
    "\n",
    "            # 리뷰가 10개 초과여서 다음 페이지 크롤링이 필요한 경우\n",
    "            if tmp_review_count > 10:\n",
    "                # 후기 다음 페이지 클릭\n",
    "                # 다른 요소로 스크롤하여 클릭하려는 요소가 보이도록 만들기\n",
    "                # from selenium.webdriver.common.keys import Keys\n",
    "\n",
    "                try:\n",
    "                    target_element = driver.find_element(By.XPATH, '//*[@id=\"reviewListFragment\"]/div[11]/div[2]/div/a[4]')   #2페이지\n",
    "                    driver.execute_script(\"arguments[0].scrollIntoView(true);\", target_element)\n",
    "                    target_element.click()\n",
    "\n",
    "                except:\n",
    "                    print(\"2페이지로 넘어갈 수 없습니다.\")\n",
    "\n",
    "                # time.sleep(1)\n",
    "                # driver.find_element(By.XPATH, '//*[@id=\"reviewListFragment\"]/div[11]/div[2]/div/a[4]').click()\n",
    "                time.sleep(1)\n",
    "\n",
    "                req = driver.page_source\n",
    "                soup = BeautifulSoup(req, 'html.parser')\n",
    "\n",
    "                tmp_names2, tmp_numbers2, tmp_user_names2, tmp_user_ratings2, tmp_user_reviews2 = review_crawling(soup)\n",
    "                # print(f'{key} 2페이지 유저 이름: {tmp_user_names2}')\n",
    "\n",
    "                tmp_names = tmp_names + tmp_names2[:5]\n",
    "                tmp_numbers = tmp_numbers + tmp_numbers2[:5]\n",
    "                tmp_user_names = tmp_user_names + tmp_user_names2[:5]\n",
    "                tmp_user_ratings = tmp_user_ratings + tmp_user_ratings2[:5]\n",
    "                tmp_user_reviews = tmp_user_reviews + tmp_user_reviews2[:5]\n",
    "                # print(f'{key} 수집 후 유저 이름: {tmp_user_names}')\n",
    "\n",
    "\n",
    "            list_len = 15 if tmp_review_count >= 15 else tmp_review_count\n",
    "            print(f'{key} 수집: {list_len} 개')\n",
    "\n",
    "    return tmp_names, tmp_numbers, tmp_user_names, tmp_user_ratings, tmp_user_reviews"
   ]
  },
  {
   "cell_type": "markdown",
   "metadata": {
    "id": "y_L_MPC16xZC"
   },
   "source": [
    "\n",
    "\n",
    "---\n",
    "\n"
   ]
  },
  {
   "cell_type": "markdown",
   "metadata": {
    "id": "bBlWo0H6fqil"
   },
   "source": [
    "## 자동화"
   ]
  },
  {
   "cell_type": "code",
   "execution_count": 87,
   "metadata": {
    "id": "Te56qDMDfqil"
   },
   "outputs": [
    {
     "data": {
      "text/plain": [
       "[26]"
      ]
     },
     "execution_count": 87,
     "metadata": {},
     "output_type": "execute_result"
    }
   ],
   "source": [
    "# 실제로는 100페이지 정도를 추출해서 각 페이지 당 10개씩 추출하는 등으로 진행\n",
    "page = sorted(rd.sample(range(26, 27), 1))\n",
    "page"
   ]
  },
  {
   "cell_type": "code",
   "execution_count": 97,
   "metadata": {
    "id": "9AuMOkj0fqim"
   },
   "outputs": [
    {
     "data": {
      "text/plain": [
       "[82, 83, 84, 85, 86, 87, 88, 89]"
      ]
     },
     "execution_count": 97,
     "metadata": {},
     "output_type": "execute_result"
    }
   ],
   "source": [
    "import random as rd\n",
    "\n",
    "# 페이지 내에 상품 랜덤 추출\n",
    "random_product = rd.sample(range(82, 91), 8)\n",
    "random_product = sorted(random_product)\n",
    "random_product"
   ]
  },
  {
   "cell_type": "code",
   "execution_count": 98,
   "metadata": {
    "id": "7DvYELhofqim",
    "scrolled": true
   },
   "outputs": [
    {
     "name": "stdout",
     "output_type": "stream",
     "text": [
      "26페이지 82번 상품 리뷰 크롤링 시작-------------------\n",
      "스타일 후기 수집: 1 개\n",
      "상품 후기 수집: 2 개\n",
      "일반 후기 수집: 3 개\n",
      "Total DF rows: 6\n"
     ]
    },
    {
     "name": "stderr",
     "output_type": "stream",
     "text": [
      "C:\\Users\\Public\\Documents\\ESTsoft\\CreatorTemp\\ipykernel_29524\\2521031417.py:128: FutureWarning: Series.__getitem__ treating keys as positions is deprecated. In a future version, integer keys will always be treated as labels (consistent with DataFrame behavior). To access a value by position, use `ser.iloc[pos]`\n",
      "  print(f'Total DF rows: {df_musinsa_review_raw.count()[1]}')\n"
     ]
    },
    {
     "name": "stdout",
     "output_type": "stream",
     "text": [
      "26페이지 83번 상품 리뷰 크롤링 시작-------------------\n",
      "스타일 후기 없음\n",
      "상품 후기 없음\n",
      "일반 후기 수집: 1 개\n",
      "Total DF rows: 7\n"
     ]
    },
    {
     "name": "stderr",
     "output_type": "stream",
     "text": [
      "C:\\Users\\Public\\Documents\\ESTsoft\\CreatorTemp\\ipykernel_29524\\2521031417.py:128: FutureWarning: Series.__getitem__ treating keys as positions is deprecated. In a future version, integer keys will always be treated as labels (consistent with DataFrame behavior). To access a value by position, use `ser.iloc[pos]`\n",
      "  print(f'Total DF rows: {df_musinsa_review_raw.count()[1]}')\n"
     ]
    },
    {
     "name": "stdout",
     "output_type": "stream",
     "text": [
      "26페이지 84번 상품 리뷰 크롤링 시작-------------------\n",
      "스타일 후기 없음\n",
      "상품 후기 없음\n",
      "일반 후기 없음\n",
      "Total DF rows: 7\n"
     ]
    },
    {
     "name": "stderr",
     "output_type": "stream",
     "text": [
      "C:\\Users\\Public\\Documents\\ESTsoft\\CreatorTemp\\ipykernel_29524\\2521031417.py:128: FutureWarning: Series.__getitem__ treating keys as positions is deprecated. In a future version, integer keys will always be treated as labels (consistent with DataFrame behavior). To access a value by position, use `ser.iloc[pos]`\n",
      "  print(f'Total DF rows: {df_musinsa_review_raw.count()[1]}')\n"
     ]
    },
    {
     "name": "stdout",
     "output_type": "stream",
     "text": [
      "26페이지 85번 상품 리뷰 크롤링 시작-------------------\n",
      "스타일 후기 수집: 1 개\n",
      "상품 후기 수집: 2 개\n",
      "일반 후기 수집: 3 개\n",
      "Total DF rows: 13\n"
     ]
    },
    {
     "name": "stderr",
     "output_type": "stream",
     "text": [
      "C:\\Users\\Public\\Documents\\ESTsoft\\CreatorTemp\\ipykernel_29524\\2521031417.py:128: FutureWarning: Series.__getitem__ treating keys as positions is deprecated. In a future version, integer keys will always be treated as labels (consistent with DataFrame behavior). To access a value by position, use `ser.iloc[pos]`\n",
      "  print(f'Total DF rows: {df_musinsa_review_raw.count()[1]}')\n"
     ]
    },
    {
     "name": "stdout",
     "output_type": "stream",
     "text": [
      "26페이지 86번 상품 리뷰 크롤링 시작-------------------\n",
      "스타일 후기 수집: 1 개\n",
      "상품 후기 수집: 2 개\n",
      "일반 후기 수집: 3 개\n",
      "Total DF rows: 19\n"
     ]
    },
    {
     "name": "stderr",
     "output_type": "stream",
     "text": [
      "C:\\Users\\Public\\Documents\\ESTsoft\\CreatorTemp\\ipykernel_29524\\2521031417.py:128: FutureWarning: Series.__getitem__ treating keys as positions is deprecated. In a future version, integer keys will always be treated as labels (consistent with DataFrame behavior). To access a value by position, use `ser.iloc[pos]`\n",
      "  print(f'Total DF rows: {df_musinsa_review_raw.count()[1]}')\n"
     ]
    },
    {
     "name": "stdout",
     "output_type": "stream",
     "text": [
      "26페이지 87번 상품 리뷰 크롤링 시작-------------------\n",
      "2페이지로 넘어갈 수 없습니다.\n",
      "스타일 후기 수집: 15 개\n",
      "2페이지로 넘어갈 수 없습니다.\n",
      "상품 후기 수집: 15 개\n",
      "2페이지로 넘어갈 수 없습니다.\n",
      "일반 후기 수집: 15 개\n",
      "Total DF rows: 64\n"
     ]
    },
    {
     "name": "stderr",
     "output_type": "stream",
     "text": [
      "C:\\Users\\Public\\Documents\\ESTsoft\\CreatorTemp\\ipykernel_29524\\2521031417.py:128: FutureWarning: Series.__getitem__ treating keys as positions is deprecated. In a future version, integer keys will always be treated as labels (consistent with DataFrame behavior). To access a value by position, use `ser.iloc[pos]`\n",
      "  print(f'Total DF rows: {df_musinsa_review_raw.count()[1]}')\n"
     ]
    },
    {
     "name": "stdout",
     "output_type": "stream",
     "text": [
      "26페이지 88번 상품 리뷰 크롤링 시작-------------------\n",
      "2페이지로 넘어갈 수 없습니다.\n",
      "스타일 후기 수집: 15 개\n",
      "2페이지로 넘어갈 수 없습니다.\n",
      "상품 후기 수집: 15 개\n",
      "2페이지로 넘어갈 수 없습니다.\n",
      "일반 후기 수집: 15 개\n",
      "Total DF rows: 109\n"
     ]
    },
    {
     "name": "stderr",
     "output_type": "stream",
     "text": [
      "C:\\Users\\Public\\Documents\\ESTsoft\\CreatorTemp\\ipykernel_29524\\2521031417.py:128: FutureWarning: Series.__getitem__ treating keys as positions is deprecated. In a future version, integer keys will always be treated as labels (consistent with DataFrame behavior). To access a value by position, use `ser.iloc[pos]`\n",
      "  print(f'Total DF rows: {df_musinsa_review_raw.count()[1]}')\n"
     ]
    },
    {
     "name": "stdout",
     "output_type": "stream",
     "text": [
      "26페이지 89번 상품 리뷰 크롤링 시작-------------------\n",
      "스타일 후기 없음\n",
      "상품 후기 수집: 1 개\n",
      "일반 후기 없음\n",
      "Total DF rows: 110\n"
     ]
    },
    {
     "name": "stderr",
     "output_type": "stream",
     "text": [
      "C:\\Users\\Public\\Documents\\ESTsoft\\CreatorTemp\\ipykernel_29524\\2521031417.py:128: FutureWarning: Series.__getitem__ treating keys as positions is deprecated. In a future version, integer keys will always be treated as labels (consistent with DataFrame behavior). To access a value by position, use `ser.iloc[pos]`\n",
      "  print(f'Total DF rows: {df_musinsa_review_raw.count()[1]}')\n"
     ]
    }
   ],
   "source": [
    "import time\n",
    "# 상의 페이지(1 page)\n",
    "\n",
    "major_category = [] # 대분류\n",
    "middle_category = [] # 중분류\n",
    "names = [] # 제품명\n",
    "numbers = [] # 품번\n",
    "limit = [] # 한정판매\n",
    "exclusive = [] # 단독판매\n",
    "target_gen = [] # 타겟성별\n",
    "buy_gen = [] # 구매 성별\n",
    "buy_age = [] # 구매 나이\n",
    "month_view = [] # 1개월 조회수\n",
    "like_cnt = [] # 좋아요 수\n",
    "pro_price = [] # 판매 가격\n",
    "discount_rate=[] # 할인률\n",
    "delivery_date = [] # 배송일자\n",
    "pro_rating = [] # 평점\n",
    "review = [] # 리뷰 수\n",
    "buy = [] # 1년 간 누적 판매\n",
    "\n",
    "df_musinsa_review_raw = pd.DataFrame(columns=['product_names', 'product_ids', 'user_names', 'user_ratings', 'user_reviews'])   #리뷰 수집df\n",
    "tag_dict = {'스타일 후기': 'estimate_style', '상품 후기': 'estimate_photo', '일반 후기': 'estimate_goods'}\n",
    "\n",
    "driver = webdriver.Chrome()\n",
    "for i in page:\n",
    "    # 페이지 열기\n",
    "    driver.get(\"https://www.musinsa.com/categories/item/002?d_cat_cd=001&brand=&list_kind=small&sort=pop_category&sub_sort=&page={}&display_cnt=90&group_sale=&exclusive_yn=&sale_goods=&timesale_yn=&ex_soldout=&plusDeliveryYn=&kids=&color=&price1=&price2=&shoeSizeOption=&tags=&campaign_id=&includeKeywords=&measure=\".format(i))\n",
    "    driver.maximize_window()\n",
    "    time.sleep(3)\n",
    "\n",
    "    for j in random_product:\n",
    "        print(f'{i}페이지 {j}번 상품 리뷰 크롤링 시작-------------------')\n",
    "\n",
    "        try:\n",
    "        # 제품 클릭하기 여기서 화면 크기때문에 클릭이 안될 수 있음. if문으로 스크롤 넣어주기\n",
    "            first_content = driver.find_element(By.CSS_SELECTOR, '#searchList > li:nth-child({}) > div.li_inner > div.article_info > p.list_info > a'.format(j))\n",
    "            first_content.click()\n",
    "            time.sleep(2)\n",
    "\n",
    "        except:\n",
    "            driver.get(\"https://www.musinsa.com/categories/item/002?d_cat_cd=001&brand=&list_kind=small&sort=pop_category&sub_sort=&page={}&display_cnt=90&group_sale=&exclusive_yn=&sale_goods=&timesale_yn=&ex_soldout=&plusDeliveryYn=&kids=&color=&price1=&price2=&shoeSizeOption=&tags=&campaign_id=&includeKeywords=&measure=\".format(i))\n",
    "            first_content = driver.find_element(By.CSS_SELECTOR, '#searchList > li:nth-child({}) > div.li_inner > div.article_info > p.list_info > a'.format(j+1))\n",
    "            first_content.click()\n",
    "            time.sleep(2)\n",
    "\n",
    "        # 화면 html 코드 가져오기\n",
    "        req = driver.page_source\n",
    "        soup = BeautifulSoup(req, 'html.parser')\n",
    "\n",
    "        \n",
    "\n",
    "        # 대분류와 중분류\n",
    "        \n",
    "        # # out of list error 발생 시 time.sleep()을 걸어보세요.\n",
    "        # category1 = soup.select_one('div.product-detail__sc-up77yl-0.htaeEr').get_text().split('\\xa0')[0]\n",
    "        # major_category.append(category1)\n",
    "\n",
    "        try:\n",
    "            category1 = soup.select_one('div.product-detail__sc-up77yl-0.htaeEr').get_text().split('\\xa0')[0]\n",
    "            major_category.append(category1)\n",
    "        except:\n",
    "            driver.refresh()\n",
    "            time.sleep(2)\n",
    "            req = driver.page_source\n",
    "            soup = BeautifulSoup(req, 'html.parser')\n",
    "            category1 = soup.select_one('div.product-detail__sc-up77yl-0.htaeEr').get_text().split('\\xa0')[0]\n",
    "            major_category.append(category1)\n",
    "\n",
    "        category2 = soup.select_one('div.product-detail__sc-up77yl-0.htaeEr').get_text().split('\\xa0')[2]\n",
    "        middle_category.append(category2)\n",
    "\n",
    "        # 이름\n",
    "        name = soup.select_one('h3.product-detail__sc-1klhlce-3.fjguJZ').get_text()\n",
    "        names.append(name)\n",
    "\n",
    "        # 품번\n",
    "        numbers.append(품번())\n",
    "\n",
    "        # 한정판매\n",
    "        limit.append(한정_단독()[0])\n",
    "\n",
    "        # 단독판매\n",
    "        exclusive.append(한정_단독()[1])\n",
    "\n",
    "        # 타겟 젠더\n",
    "        target_gen.append(성별2())\n",
    "\n",
    "        # 구매 성별\n",
    "        buy_gen.append(구매성별())\n",
    "\n",
    "        # 구매 나이\n",
    "        buy_age.append(구매나이())\n",
    "\n",
    "        # 1개월 조회수\n",
    "        try:\n",
    "            month_view.append(조회수2())\n",
    "        except:\n",
    "            month_view.append(조회수())\n",
    "\n",
    "        # 좋아요 수\n",
    "        like_cnt.append(좋아요())\n",
    "\n",
    "        # 가격(가격)\n",
    "        pro_price.append(가격())\n",
    "\n",
    "        # 할인율\n",
    "        discount_rate.append(할인율())\n",
    "\n",
    "        # 배송일자\n",
    "        delivery_date.append(배송일자())\n",
    "\n",
    "        # 평점\n",
    "        pro_rating.append(평점())\n",
    "\n",
    "        # 후기수\n",
    "        review.append(후기수())\n",
    "\n",
    "        # 구매수\n",
    "        buy.append(누적판매())\n",
    "\n",
    "        #리뷰 크롤링\n",
    "        product_names, product_ids, user_names, user_ratings, user_reviews = get_tmp_df_musinsa_review_raw(driver, tag_dict)\n",
    "\n",
    "        tmp_df_musinsa_review_raw = pd.DataFrame({'product_names': product_names, 'product_ids': product_ids, 'user_names': user_names, 'user_ratings': user_ratings, 'user_reviews': user_reviews})\n",
    "\n",
    "        df_musinsa_review_raw = pd.concat([df_musinsa_review_raw, tmp_df_musinsa_review_raw], axis=0)\n",
    "        print(f'Total DF rows: {df_musinsa_review_raw.count()[1]}')\n",
    "        driver.back()\n",
    "        time.sleep(1)"
   ]
  },
  {
   "cell_type": "code",
   "execution_count": 99,
   "metadata": {
    "id": "cTI4T2ZAfqin",
    "scrolled": true
   },
   "outputs": [
    {
     "data": {
      "text/plain": [
       "(8, 8, 8, 8, 8, 8, 8, 8, 8, 8, 8, 8, 8, 8, 8, 8)"
      ]
     },
     "execution_count": 99,
     "metadata": {},
     "output_type": "execute_result"
    }
   ],
   "source": [
    "len(major_category),len(middle_category),len(names), len(numbers), len(limit), len(exclusive), len(target_gen), len(buy_gen), len(month_view), len(like_cnt), len(pro_price),len(discount_rate) ,len(delivery_date), len(pro_rating), len(review), len(buy)"
   ]
  },
  {
   "cell_type": "code",
   "execution_count": null,
   "metadata": {},
   "outputs": [],
   "source": []
  },
  {
   "cell_type": "markdown",
   "metadata": {},
   "source": [
    "---"
   ]
  },
  {
   "cell_type": "code",
   "execution_count": null,
   "metadata": {},
   "outputs": [],
   "source": []
  },
  {
   "cell_type": "code",
   "execution_count": 108,
   "metadata": {},
   "outputs": [
    {
     "data": {
      "text/plain": [
       "4"
      ]
     },
     "execution_count": 108,
     "metadata": {},
     "output_type": "execute_result"
    }
   ],
   "source": [
    "# df_4 = pd.read_csv('[이청하]musinsa_아우터_240119_4.csv')\n",
    "len(df_4)"
   ]
  },
  {
   "cell_type": "code",
   "execution_count": 120,
   "metadata": {},
   "outputs": [
    {
     "data": {
      "text/plain": [
       "7"
      ]
     },
     "execution_count": 120,
     "metadata": {},
     "output_type": "execute_result"
    }
   ],
   "source": [
    "# df_5 = pd.read_csv('D:/0_zerobase/프로젝트/2.크롤링한 파일 모음/sv 폴더 모음_내꺼_01.19/[이청하]musinsa_아우터_240119_5.csv')\n",
    "len(df_5)"
   ]
  },
  {
   "cell_type": "code",
   "execution_count": 121,
   "metadata": {},
   "outputs": [
    {
     "data": {
      "text/plain": [
       "11"
      ]
     },
     "execution_count": 121,
     "metadata": {},
     "output_type": "execute_result"
    }
   ],
   "source": [
    "df=[]\n",
    "df = pd.concat([df_4, df_5], axis=0, ignore_index=True)\n",
    "len(df)"
   ]
  },
  {
   "cell_type": "code",
   "execution_count": 122,
   "metadata": {},
   "outputs": [
    {
     "data": {
      "text/plain": [
       "149"
      ]
     },
     "execution_count": 122,
     "metadata": {},
     "output_type": "execute_result"
    }
   ],
   "source": [
    "len(df_6)"
   ]
  },
  {
   "cell_type": "code",
   "execution_count": 123,
   "metadata": {},
   "outputs": [
    {
     "data": {
      "text/plain": [
       "160"
      ]
     },
     "execution_count": 123,
     "metadata": {},
     "output_type": "execute_result"
    }
   ],
   "source": [
    "df = pd.concat([df, df_6], axis=0, ignore_index=True)\n",
    "len(df)"
   ]
  },
  {
   "cell_type": "code",
   "execution_count": 124,
   "metadata": {},
   "outputs": [
    {
     "data": {
      "text/plain": [
       "11"
      ]
     },
     "execution_count": 124,
     "metadata": {},
     "output_type": "execute_result"
    }
   ],
   "source": [
    "len(df_6_2)"
   ]
  },
  {
   "cell_type": "code",
   "execution_count": 125,
   "metadata": {},
   "outputs": [
    {
     "data": {
      "text/plain": [
       "171"
      ]
     },
     "execution_count": 125,
     "metadata": {},
     "output_type": "execute_result"
    }
   ],
   "source": [
    "df = pd.concat([df, df_6_2], axis=0, ignore_index=True)\n",
    "len(df)"
   ]
  },
  {
   "cell_type": "code",
   "execution_count": 126,
   "metadata": {},
   "outputs": [
    {
     "data": {
      "text/plain": [
       "8"
      ]
     },
     "execution_count": 126,
     "metadata": {},
     "output_type": "execute_result"
    }
   ],
   "source": [
    "len(df_6_3)"
   ]
  },
  {
   "cell_type": "code",
   "execution_count": 128,
   "metadata": {},
   "outputs": [
    {
     "data": {
      "text/plain": [
       "179"
      ]
     },
     "execution_count": 128,
     "metadata": {},
     "output_type": "execute_result"
    }
   ],
   "source": [
    "df = pd.concat([df, df_6_3], axis=0, ignore_index=True)\n",
    "len(df)"
   ]
  },
  {
   "cell_type": "code",
   "execution_count": 129,
   "metadata": {},
   "outputs": [
    {
     "data": {
      "text/plain": [
       "270"
      ]
     },
     "execution_count": 129,
     "metadata": {},
     "output_type": "execute_result"
    }
   ],
   "source": [
    "len(df_7)"
   ]
  },
  {
   "cell_type": "code",
   "execution_count": 130,
   "metadata": {},
   "outputs": [
    {
     "data": {
      "text/plain": [
       "449"
      ]
     },
     "execution_count": 130,
     "metadata": {},
     "output_type": "execute_result"
    }
   ],
   "source": [
    "df = pd.concat([df, df_7], axis=0, ignore_index=True)\n",
    "len(df)"
   ]
  },
  {
   "cell_type": "code",
   "execution_count": 131,
   "metadata": {},
   "outputs": [],
   "source": [
    "df.to_csv('[이청하]musinsa_아우터_240119.csv', index=False)"
   ]
  },
  {
   "cell_type": "markdown",
   "metadata": {},
   "source": [
    "---"
   ]
  },
  {
   "cell_type": "code",
   "execution_count": 135,
   "metadata": {},
   "outputs": [
    {
     "data": {
      "text/plain": [
       "38"
      ]
     },
     "execution_count": 135,
     "metadata": {},
     "output_type": "execute_result"
    }
   ],
   "source": [
    "# df_reivew_4 = pd.read_csv('[이청하]review_아우터_240119.csv_4')\n",
    "len(df_musinsa_review_raw_4)"
   ]
  },
  {
   "cell_type": "code",
   "execution_count": 136,
   "metadata": {},
   "outputs": [
    {
     "data": {
      "text/plain": [
       "184"
      ]
     },
     "execution_count": 136,
     "metadata": {},
     "output_type": "execute_result"
    }
   ],
   "source": [
    "# df_reivew_5 = pd.read_csv('[이청하]review_아우터_240118.csv_5')\n",
    "len(df_musinsa_review_raw_5)"
   ]
  },
  {
   "cell_type": "code",
   "execution_count": 137,
   "metadata": {},
   "outputs": [
    {
     "data": {
      "text/plain": [
       "222"
      ]
     },
     "execution_count": 137,
     "metadata": {},
     "output_type": "execute_result"
    }
   ],
   "source": [
    "df_review = pd.concat([df_musinsa_review_raw_4, df_musinsa_review_raw_5], axis=0, ignore_index=True)\n",
    "len(df_review)"
   ]
  },
  {
   "cell_type": "code",
   "execution_count": 138,
   "metadata": {},
   "outputs": [
    {
     "data": {
      "text/plain": [
       "3206"
      ]
     },
     "execution_count": 138,
     "metadata": {},
     "output_type": "execute_result"
    }
   ],
   "source": [
    "# df_musinsa_review_raw_6\n",
    "len(df_musinsa_review_raw_6)"
   ]
  },
  {
   "cell_type": "code",
   "execution_count": 139,
   "metadata": {},
   "outputs": [
    {
     "data": {
      "text/plain": [
       "3428"
      ]
     },
     "execution_count": 139,
     "metadata": {},
     "output_type": "execute_result"
    }
   ],
   "source": [
    "df_review = pd.concat([df_review, df_musinsa_review_raw_6], axis=0, ignore_index=True)\n",
    "len(df_review)"
   ]
  },
  {
   "cell_type": "code",
   "execution_count": 141,
   "metadata": {},
   "outputs": [
    {
     "data": {
      "text/plain": [
       "146"
      ]
     },
     "execution_count": 141,
     "metadata": {},
     "output_type": "execute_result"
    }
   ],
   "source": [
    "len(df_musinsa_review_raw_6_2)"
   ]
  },
  {
   "cell_type": "code",
   "execution_count": 142,
   "metadata": {},
   "outputs": [
    {
     "data": {
      "text/plain": [
       "3574"
      ]
     },
     "execution_count": 142,
     "metadata": {},
     "output_type": "execute_result"
    }
   ],
   "source": [
    "df_review = pd.concat([df_review, df_musinsa_review_raw_6_2], axis=0, ignore_index=True)\n",
    "len(df_review)"
   ]
  },
  {
   "cell_type": "code",
   "execution_count": 143,
   "metadata": {},
   "outputs": [
    {
     "data": {
      "text/plain": [
       "110"
      ]
     },
     "execution_count": 143,
     "metadata": {},
     "output_type": "execute_result"
    }
   ],
   "source": [
    "len(df_musinsa_review_raw_6_3)"
   ]
  },
  {
   "cell_type": "code",
   "execution_count": 144,
   "metadata": {},
   "outputs": [
    {
     "data": {
      "text/plain": [
       "3684"
      ]
     },
     "execution_count": 144,
     "metadata": {},
     "output_type": "execute_result"
    }
   ],
   "source": [
    "df_review = pd.concat([df_review, df_musinsa_review_raw_6_3], axis=0, ignore_index=True)\n",
    "len(df_review)"
   ]
  },
  {
   "cell_type": "code",
   "execution_count": 145,
   "metadata": {},
   "outputs": [
    {
     "data": {
      "text/plain": [
       "5579"
      ]
     },
     "execution_count": 145,
     "metadata": {},
     "output_type": "execute_result"
    }
   ],
   "source": [
    "len(df_musinsa_review_raw_7)"
   ]
  },
  {
   "cell_type": "code",
   "execution_count": 146,
   "metadata": {},
   "outputs": [
    {
     "data": {
      "text/plain": [
       "9263"
      ]
     },
     "execution_count": 146,
     "metadata": {},
     "output_type": "execute_result"
    }
   ],
   "source": [
    "df_review = pd.concat([df_review, df_musinsa_review_raw_7], axis=0, ignore_index=True)\n",
    "len(df_review)"
   ]
  },
  {
   "cell_type": "code",
   "execution_count": 147,
   "metadata": {},
   "outputs": [],
   "source": [
    "df_review.to_csv('[이청하]review_아우터_240119.csv', index=False)"
   ]
  },
  {
   "cell_type": "markdown",
   "metadata": {
    "jp-MarkdownHeadingCollapsed": true
   },
   "source": [
    "# df_6_3"
   ]
  },
  {
   "cell_type": "code",
   "execution_count": 100,
   "metadata": {},
   "outputs": [],
   "source": [
    "import pandas as pd\n",
    "\n",
    "df_6_3 = pd.DataFrame({'major_category':major_category,'middle_category': middle_category,'name': names, 'number': numbers, 'limit': limit, 'exclusive': exclusive, 'target_gender': target_gen,\n",
    "              'buy_gender': buy_gen, 'buy_age' : buy_age, 'view': month_view, 'like': like_cnt, 'price': pro_price, 'discount_rate':discount_rate, 'delivery_date': delivery_date,\n",
    "              'rating': pro_rating, 'review': review, 'buy':buy})"
   ]
  },
  {
   "cell_type": "code",
   "execution_count": 101,
   "metadata": {},
   "outputs": [],
   "source": [
    "df_6_3.to_csv('[이청하]musinsa_아우터_240119_6_3.csv', index=False)"
   ]
  },
  {
   "cell_type": "code",
   "execution_count": 102,
   "metadata": {},
   "outputs": [
    {
     "data": {
      "text/html": [
       "<div>\n",
       "<style scoped>\n",
       "    .dataframe tbody tr th:only-of-type {\n",
       "        vertical-align: middle;\n",
       "    }\n",
       "\n",
       "    .dataframe tbody tr th {\n",
       "        vertical-align: top;\n",
       "    }\n",
       "\n",
       "    .dataframe thead th {\n",
       "        text-align: right;\n",
       "    }\n",
       "</style>\n",
       "<table border=\"1\" class=\"dataframe\">\n",
       "  <thead>\n",
       "    <tr style=\"text-align: right;\">\n",
       "      <th></th>\n",
       "      <th>product_names</th>\n",
       "      <th>product_ids</th>\n",
       "      <th>user_names</th>\n",
       "      <th>user_ratings</th>\n",
       "      <th>user_reviews</th>\n",
       "    </tr>\n",
       "  </thead>\n",
       "  <tbody>\n",
       "    <tr>\n",
       "      <th>0</th>\n",
       "      <td>브리티시 울 헤링본 재킷</td>\n",
       "      <td>LE4FJKW04BR</td>\n",
       "      <td>leanie_minie</td>\n",
       "      <td>100</td>\n",
       "      <td>색도 예쁘고 옷이 가볍고 따뜻하구 보들보들해서 움직이기도 편해여 포장이 멋져요</td>\n",
       "    </tr>\n",
       "    <tr>\n",
       "      <th>1</th>\n",
       "      <td>브리티시 울 헤링본 재킷</td>\n",
       "      <td>LE4FJKW04BR</td>\n",
       "      <td>참도장깨기</td>\n",
       "      <td>100</td>\n",
       "      <td>m사이즈라 그런지 크진 않아요 어깨 좁은편인데 보완돼서 좋아요</td>\n",
       "    </tr>\n",
       "    <tr>\n",
       "      <th>2</th>\n",
       "      <td>브리티시 울 헤링본 재킷</td>\n",
       "      <td>LE4FJKW04BR</td>\n",
       "      <td>leanie_minie</td>\n",
       "      <td>100</td>\n",
       "      <td>색도 예쁘고 옷이 가볍고 따뜻하구 보들보들해서 움직이기도 편해여 포장이 멋져요</td>\n",
       "    </tr>\n",
       "    <tr>\n",
       "      <th>3</th>\n",
       "      <td>브리티시 울 헤링본 재킷</td>\n",
       "      <td>LE4FJKW04BR</td>\n",
       "      <td>어딕</td>\n",
       "      <td>100</td>\n",
       "      <td>작년부터 눈 여겨봤던 자켓인데 세일할 때 너무 잘 샀어요 품질도 좋고 핏도 디자인도...</td>\n",
       "    </tr>\n",
       "    <tr>\n",
       "      <th>4</th>\n",
       "      <td>브리티시 울 헤링본 재킷</td>\n",
       "      <td>LE4FJKW04BR</td>\n",
       "      <td>참도장깨기</td>\n",
       "      <td>100</td>\n",
       "      <td>m사이즈라 그런지 크진 않아요 어깨 좁은편인데 보완돼서 좋아요</td>\n",
       "    </tr>\n",
       "    <tr>\n",
       "      <th>...</th>\n",
       "      <td>...</td>\n",
       "      <td>...</td>\n",
       "      <td>...</td>\n",
       "      <td>...</td>\n",
       "      <td>...</td>\n",
       "    </tr>\n",
       "    <tr>\n",
       "      <th>41</th>\n",
       "      <td>오버사이즈 칼라드 보머 재킷 [더스티 베이지]</td>\n",
       "      <td>MMAUJ704-UI</td>\n",
       "      <td>뉴비_871bb64d</td>\n",
       "      <td>80</td>\n",
       "      <td>선물용으로 사이즈 고민했는데 잘 맞아요평소 넉넉하게 105 입는데 라지 좋습니다</td>\n",
       "    </tr>\n",
       "    <tr>\n",
       "      <th>42</th>\n",
       "      <td>오버사이즈 칼라드 보머 재킷 [더스티 베이지]</td>\n",
       "      <td>MMAUJ704-UI</td>\n",
       "      <td>hemaljisu</td>\n",
       "      <td>100</td>\n",
       "      <td>좋습니다 아주 다른색깔도 추가 구매할 예정입니다.</td>\n",
       "    </tr>\n",
       "    <tr>\n",
       "      <th>43</th>\n",
       "      <td>오버사이즈 칼라드 보머 재킷 [더스티 베이지]</td>\n",
       "      <td>MMAUJ704-UI</td>\n",
       "      <td>제이래브</td>\n",
       "      <td>100</td>\n",
       "      <td>옷 이쁘네요. ma-1 같은데 카라깃이 있어서 특이해요.</td>\n",
       "    </tr>\n",
       "    <tr>\n",
       "      <th>44</th>\n",
       "      <td>오버사이즈 칼라드 보머 재킷 [더스티 베이지]</td>\n",
       "      <td>MMAUJ704-UI</td>\n",
       "      <td>재이재이</td>\n",
       "      <td>100</td>\n",
       "      <td>좋은 제품 감사합니다 선생님 안녕하세요 여러분 추천</td>\n",
       "    </tr>\n",
       "    <tr>\n",
       "      <th>0</th>\n",
       "      <td>레더 덤블 카라 벨티드 크롭 푸퍼 무스탕 패딩 자켓 [블랙]</td>\n",
       "      <td>23 WINTER</td>\n",
       "      <td>뉴비_1c28e98ffadb</td>\n",
       "      <td>100</td>\n",
       "      <td>아 이게 진짜 정말 이쁘고 무스탕패딩이 그나마 있어도 이거 빼고 나머지 다 싸구려같...</td>\n",
       "    </tr>\n",
       "  </tbody>\n",
       "</table>\n",
       "<p>110 rows × 5 columns</p>\n",
       "</div>"
      ],
      "text/plain": [
       "                        product_names  product_ids       user_names  \\\n",
       "0                       브리티시 울 헤링본 재킷  LE4FJKW04BR     leanie_minie   \n",
       "1                       브리티시 울 헤링본 재킷  LE4FJKW04BR            참도장깨기   \n",
       "2                       브리티시 울 헤링본 재킷  LE4FJKW04BR     leanie_minie   \n",
       "3                       브리티시 울 헤링본 재킷  LE4FJKW04BR               어딕   \n",
       "4                       브리티시 울 헤링본 재킷  LE4FJKW04BR            참도장깨기   \n",
       "..                                ...          ...              ...   \n",
       "41          오버사이즈 칼라드 보머 재킷 [더스티 베이지]  MMAUJ704-UI      뉴비_871bb64d   \n",
       "42          오버사이즈 칼라드 보머 재킷 [더스티 베이지]  MMAUJ704-UI        hemaljisu   \n",
       "43          오버사이즈 칼라드 보머 재킷 [더스티 베이지]  MMAUJ704-UI             제이래브   \n",
       "44          오버사이즈 칼라드 보머 재킷 [더스티 베이지]  MMAUJ704-UI             재이재이   \n",
       "0   레더 덤블 카라 벨티드 크롭 푸퍼 무스탕 패딩 자켓 [블랙]    23 WINTER  뉴비_1c28e98ffadb   \n",
       "\n",
       "   user_ratings                                       user_reviews  \n",
       "0           100        색도 예쁘고 옷이 가볍고 따뜻하구 보들보들해서 움직이기도 편해여 포장이 멋져요  \n",
       "1           100                 m사이즈라 그런지 크진 않아요 어깨 좁은편인데 보완돼서 좋아요  \n",
       "2           100        색도 예쁘고 옷이 가볍고 따뜻하구 보들보들해서 움직이기도 편해여 포장이 멋져요  \n",
       "3           100  작년부터 눈 여겨봤던 자켓인데 세일할 때 너무 잘 샀어요 품질도 좋고 핏도 디자인도...  \n",
       "4           100                 m사이즈라 그런지 크진 않아요 어깨 좁은편인데 보완돼서 좋아요  \n",
       "..          ...                                                ...  \n",
       "41           80       선물용으로 사이즈 고민했는데 잘 맞아요평소 넉넉하게 105 입는데 라지 좋습니다  \n",
       "42          100                        좋습니다 아주 다른색깔도 추가 구매할 예정입니다.  \n",
       "43          100                    옷 이쁘네요. ma-1 같은데 카라깃이 있어서 특이해요.  \n",
       "44          100                      좋은 제품 감사합니다 선생님 안녕하세요 여러분 추천   \n",
       "0           100  아 이게 진짜 정말 이쁘고 무스탕패딩이 그나마 있어도 이거 빼고 나머지 다 싸구려같...  \n",
       "\n",
       "[110 rows x 5 columns]"
      ]
     },
     "execution_count": 102,
     "metadata": {},
     "output_type": "execute_result"
    }
   ],
   "source": [
    "df_musinsa_review_raw_6_3 = df_musinsa_review_raw\n",
    "df_musinsa_review_raw_6_3"
   ]
  },
  {
   "cell_type": "code",
   "execution_count": 103,
   "metadata": {},
   "outputs": [],
   "source": [
    "df_musinsa_review_raw_6_3.to_csv('[이청하]review_아우터_240119.csv_6_3', index=False)"
   ]
  },
  {
   "cell_type": "markdown",
   "metadata": {
    "jp-MarkdownHeadingCollapsed": true
   },
   "source": [
    "# df_6_2"
   ]
  },
  {
   "cell_type": "code",
   "execution_count": 92,
   "metadata": {},
   "outputs": [],
   "source": [
    "import pandas as pd\n",
    "\n",
    "df_6_2 = pd.DataFrame({'major_category':major_category,'middle_category': middle_category,'name': names, 'number': numbers, 'limit': limit, 'exclusive': exclusive, 'target_gender': target_gen,\n",
    "              'buy_gender': buy_gen, 'buy_age' : buy_age, 'view': month_view, 'like': like_cnt, 'price': pro_price, 'discount_rate':discount_rate, 'delivery_date': delivery_date,\n",
    "              'rating': pro_rating, 'review': review, 'buy':buy})"
   ]
  },
  {
   "cell_type": "code",
   "execution_count": 93,
   "metadata": {},
   "outputs": [],
   "source": [
    "df_6_2.to_csv('[이청하]musinsa_아우터_240119_6_2.csv', index=False)"
   ]
  },
  {
   "cell_type": "code",
   "execution_count": 94,
   "metadata": {
    "scrolled": true
   },
   "outputs": [
    {
     "data": {
      "text/html": [
       "<div>\n",
       "<style scoped>\n",
       "    .dataframe tbody tr th:only-of-type {\n",
       "        vertical-align: middle;\n",
       "    }\n",
       "\n",
       "    .dataframe tbody tr th {\n",
       "        vertical-align: top;\n",
       "    }\n",
       "\n",
       "    .dataframe thead th {\n",
       "        text-align: right;\n",
       "    }\n",
       "</style>\n",
       "<table border=\"1\" class=\"dataframe\">\n",
       "  <thead>\n",
       "    <tr style=\"text-align: right;\">\n",
       "      <th></th>\n",
       "      <th>product_names</th>\n",
       "      <th>product_ids</th>\n",
       "      <th>user_names</th>\n",
       "      <th>user_ratings</th>\n",
       "      <th>user_reviews</th>\n",
       "    </tr>\n",
       "  </thead>\n",
       "  <tbody>\n",
       "    <tr>\n",
       "      <th>0</th>\n",
       "      <td>Crochet Knit Jacket Orange</td>\n",
       "      <td>TN223KKNJK01OR</td>\n",
       "      <td>Kwhiln</td>\n",
       "      <td>100</td>\n",
       "      <td>정말 실물 예쁘네요. 재질도 엄청 좋습니다. 특이하지만 이상하지 않고 잘 입고 다닐...</td>\n",
       "    </tr>\n",
       "    <tr>\n",
       "      <th>1</th>\n",
       "      <td>Crochet Knit Jacket Orange</td>\n",
       "      <td>TN223KKNJK01OR</td>\n",
       "      <td>마웅융</td>\n",
       "      <td>100</td>\n",
       "      <td>크로쉐가 주는 빈티지하고 귀여운 느낌과 디네댓의 감성이 조화로워 독특한 느낌을 줍니...</td>\n",
       "    </tr>\n",
       "    <tr>\n",
       "      <th>2</th>\n",
       "      <td>Crochet Knit Jacket Orange</td>\n",
       "      <td>TN223KKNJK01OR</td>\n",
       "      <td>마웅융</td>\n",
       "      <td>100</td>\n",
       "      <td>크로쉐가 주는 귀여운 느낌과 디네댓의 감성이 조화로워 독특한 느낌을 줍니다. 소매가...</td>\n",
       "    </tr>\n",
       "    <tr>\n",
       "      <th>0</th>\n",
       "      <td>[사계절] 커스터마이징 세미오버 핏 수트 블레이저 (5컬러)</td>\n",
       "      <td>5000196047</td>\n",
       "      <td>웁둥</td>\n",
       "      <td>100</td>\n",
       "      <td>포장도 꼼꼼하고 스타일도 좋아지고 소개팅 할때 입으면 좋을 것 같아요~</td>\n",
       "    </tr>\n",
       "    <tr>\n",
       "      <th>1</th>\n",
       "      <td>[사계절] 커스터마이징 세미오버 핏 수트 블레이저 (5컬러)</td>\n",
       "      <td>5000196047</td>\n",
       "      <td>나뭇잎 마을의 몽키 D 루피</td>\n",
       "      <td>100</td>\n",
       "      <td>생각보다 색이 더 어두웠는 느낌도 있고 재질도 살짝 까끌까끌했지만 핏은 마음에 듭니다!</td>\n",
       "    </tr>\n",
       "    <tr>\n",
       "      <th>...</th>\n",
       "      <td>...</td>\n",
       "      <td>...</td>\n",
       "      <td>...</td>\n",
       "      <td>...</td>\n",
       "      <td>...</td>\n",
       "    </tr>\n",
       "    <tr>\n",
       "      <th>35</th>\n",
       "      <td>니트 투웨이 집업</td>\n",
       "      <td>FRK-1263</td>\n",
       "      <td>park9912</td>\n",
       "      <td>60</td>\n",
       "      <td>전체적으로 그냥 다 평범한 느낌인데 그냥 잠깐 외출이나 편의점 슈퍼 등 갈 따 잊으...</td>\n",
       "    </tr>\n",
       "    <tr>\n",
       "      <th>36</th>\n",
       "      <td>니트 투웨이 집업</td>\n",
       "      <td>FRK-1263</td>\n",
       "      <td>Pubgwat</td>\n",
       "      <td>100</td>\n",
       "      <td>기장이 살짝 길어 아쉽긴한데 이쁘게 입기 좋은 옷</td>\n",
       "    </tr>\n",
       "    <tr>\n",
       "      <th>37</th>\n",
       "      <td>니트 투웨이 집업</td>\n",
       "      <td>FRK-1263</td>\n",
       "      <td>갓영구</td>\n",
       "      <td>80</td>\n",
       "      <td>생각했던 것보다는 얇아요지퍼도 조금 빡빡 그래도 디자인은 마음에 들어요</td>\n",
       "    </tr>\n",
       "    <tr>\n",
       "      <th>38</th>\n",
       "      <td>니트 투웨이 집업</td>\n",
       "      <td>FRK-1263</td>\n",
       "      <td>뉴비_76309c34da19</td>\n",
       "      <td>100</td>\n",
       "      <td>프리사이즈라 부담 없이 잘 입고 다녀요 가을 봄에 입기 딱좋은</td>\n",
       "    </tr>\n",
       "    <tr>\n",
       "      <th>39</th>\n",
       "      <td>니트 투웨이 집업</td>\n",
       "      <td>FRK-1263</td>\n",
       "      <td>뉴비_96f6a861fda8</td>\n",
       "      <td>100</td>\n",
       "      <td>원단도 너무 좋고 핏도 너무 이뻐요 편하게 입고 나갈수도 있고 사이즈고 너무 적당해...</td>\n",
       "    </tr>\n",
       "  </tbody>\n",
       "</table>\n",
       "<p>146 rows × 5 columns</p>\n",
       "</div>"
      ],
      "text/plain": [
       "                        product_names     product_ids       user_names  \\\n",
       "0          Crochet Knit Jacket Orange  TN223KKNJK01OR           Kwhiln   \n",
       "1          Crochet Knit Jacket Orange  TN223KKNJK01OR              마웅융   \n",
       "2          Crochet Knit Jacket Orange  TN223KKNJK01OR              마웅융   \n",
       "0   [사계절] 커스터마이징 세미오버 핏 수트 블레이저 (5컬러)      5000196047               웁둥   \n",
       "1   [사계절] 커스터마이징 세미오버 핏 수트 블레이저 (5컬러)      5000196047  나뭇잎 마을의 몽키 D 루피   \n",
       "..                                ...             ...              ...   \n",
       "35                          니트 투웨이 집업        FRK-1263         park9912   \n",
       "36                          니트 투웨이 집업        FRK-1263          Pubgwat   \n",
       "37                          니트 투웨이 집업        FRK-1263              갓영구   \n",
       "38                          니트 투웨이 집업        FRK-1263  뉴비_76309c34da19   \n",
       "39                          니트 투웨이 집업        FRK-1263  뉴비_96f6a861fda8   \n",
       "\n",
       "   user_ratings                                       user_reviews  \n",
       "0           100  정말 실물 예쁘네요. 재질도 엄청 좋습니다. 특이하지만 이상하지 않고 잘 입고 다닐...  \n",
       "1           100  크로쉐가 주는 빈티지하고 귀여운 느낌과 디네댓의 감성이 조화로워 독특한 느낌을 줍니...  \n",
       "2           100  크로쉐가 주는 귀여운 느낌과 디네댓의 감성이 조화로워 독특한 느낌을 줍니다. 소매가...  \n",
       "0           100            포장도 꼼꼼하고 스타일도 좋아지고 소개팅 할때 입으면 좋을 것 같아요~  \n",
       "1           100   생각보다 색이 더 어두웠는 느낌도 있고 재질도 살짝 까끌까끌했지만 핏은 마음에 듭니다!  \n",
       "..          ...                                                ...  \n",
       "35           60  전체적으로 그냥 다 평범한 느낌인데 그냥 잠깐 외출이나 편의점 슈퍼 등 갈 따 잊으...  \n",
       "36          100                        기장이 살짝 길어 아쉽긴한데 이쁘게 입기 좋은 옷  \n",
       "37           80            생각했던 것보다는 얇아요지퍼도 조금 빡빡 그래도 디자인은 마음에 들어요  \n",
       "38          100                 프리사이즈라 부담 없이 잘 입고 다녀요 가을 봄에 입기 딱좋은  \n",
       "39          100  원단도 너무 좋고 핏도 너무 이뻐요 편하게 입고 나갈수도 있고 사이즈고 너무 적당해...  \n",
       "\n",
       "[146 rows x 5 columns]"
      ]
     },
     "execution_count": 94,
     "metadata": {},
     "output_type": "execute_result"
    }
   ],
   "source": [
    "df_musinsa_review_raw_6_2 = df_musinsa_review_raw\n",
    "df_musinsa_review_raw_6_2"
   ]
  },
  {
   "cell_type": "code",
   "execution_count": 95,
   "metadata": {},
   "outputs": [],
   "source": [
    "df_musinsa_review_raw_6_2.to_csv('[이청하]review_아우터_240119.csv_6_2', index=False)"
   ]
  },
  {
   "cell_type": "markdown",
   "metadata": {
    "jp-MarkdownHeadingCollapsed": true
   },
   "source": [
    "# 추가 수집 - df_7"
   ]
  },
  {
   "cell_type": "code",
   "execution_count": 81,
   "metadata": {},
   "outputs": [],
   "source": [
    "import pandas as pd\n",
    "\n",
    "df_7 = pd.DataFrame({'major_category':major_category,'middle_category': middle_category,'name': names, 'number': numbers, 'limit': limit, 'exclusive': exclusive, 'target_gender': target_gen,\n",
    "              'buy_gender': buy_gen, 'buy_age' : buy_age, 'view': month_view, 'like': like_cnt, 'price': pro_price, 'discount_rate':discount_rate, 'delivery_date': delivery_date,\n",
    "              'rating': pro_rating, 'review': review, 'buy':buy})"
   ]
  },
  {
   "cell_type": "code",
   "execution_count": 86,
   "metadata": {},
   "outputs": [],
   "source": [
    "df_7.to_csv('[이청하]musinsa_아우터_240119_7.csv', index=False)"
   ]
  },
  {
   "cell_type": "code",
   "execution_count": 83,
   "metadata": {},
   "outputs": [
    {
     "data": {
      "text/html": [
       "<div>\n",
       "<style scoped>\n",
       "    .dataframe tbody tr th:only-of-type {\n",
       "        vertical-align: middle;\n",
       "    }\n",
       "\n",
       "    .dataframe tbody tr th {\n",
       "        vertical-align: top;\n",
       "    }\n",
       "\n",
       "    .dataframe thead th {\n",
       "        text-align: right;\n",
       "    }\n",
       "</style>\n",
       "<table border=\"1\" class=\"dataframe\">\n",
       "  <thead>\n",
       "    <tr style=\"text-align: right;\">\n",
       "      <th></th>\n",
       "      <th>product_names</th>\n",
       "      <th>product_ids</th>\n",
       "      <th>user_names</th>\n",
       "      <th>user_ratings</th>\n",
       "      <th>user_reviews</th>\n",
       "    </tr>\n",
       "  </thead>\n",
       "  <tbody>\n",
       "    <tr>\n",
       "      <th>0</th>\n",
       "      <td>유틸리티 자켓 블랙</td>\n",
       "      <td>유틸리티 자켓 블랙</td>\n",
       "      <td>AG Club</td>\n",
       "      <td>100</td>\n",
       "      <td>지금 입기엔 좀 얇고 날 풀리면 입기 좋을 듯 해요밑에 끈 쪼여서 입으면 진짜 예뻐요</td>\n",
       "    </tr>\n",
       "    <tr>\n",
       "      <th>1</th>\n",
       "      <td>유틸리티 자켓 블랙</td>\n",
       "      <td>유틸리티 자켓 블랙</td>\n",
       "      <td>굥굥굥굥굥굥</td>\n",
       "      <td>100</td>\n",
       "      <td>얇아서 봄에 입기 너무 좋습니다 후드티 맨투맨보단 니트나 셔츠 긴팔티를 이너로 하는...</td>\n",
       "    </tr>\n",
       "    <tr>\n",
       "      <th>2</th>\n",
       "      <td>유틸리티 자켓 블랙</td>\n",
       "      <td>유틸리티 자켓 블랙</td>\n",
       "      <td>z1_y0ung</td>\n",
       "      <td>100</td>\n",
       "      <td>물량폭주로 주문지연되서 거의 2주만에 받아서 짜증났는데 상품 택도 안달려있어서 2차...</td>\n",
       "    </tr>\n",
       "    <tr>\n",
       "      <th>3</th>\n",
       "      <td>유틸리티 자켓 블랙</td>\n",
       "      <td>유틸리티 자켓 블랙</td>\n",
       "      <td>구름이랑젤리</td>\n",
       "      <td>100</td>\n",
       "      <td>흠 봄에 잘 입었어요 사이즈가 좀 더 커도 좋을것같다만 예뻐요</td>\n",
       "    </tr>\n",
       "    <tr>\n",
       "      <th>4</th>\n",
       "      <td>유틸리티 자켓 블랙</td>\n",
       "      <td>유틸리티 자켓 블랙</td>\n",
       "      <td>eunruel</td>\n",
       "      <td>100</td>\n",
       "      <td>생각없이 샀는데 평소에 되게 많이 착용합니다!! 엄청 편하고 재질도 편하고 그냥 다...</td>\n",
       "    </tr>\n",
       "    <tr>\n",
       "      <th>...</th>\n",
       "      <td>...</td>\n",
       "      <td>...</td>\n",
       "      <td>...</td>\n",
       "      <td>...</td>\n",
       "      <td>...</td>\n",
       "    </tr>\n",
       "    <tr>\n",
       "      <th>10</th>\n",
       "      <td>CHEST DOUBLE POCKET COAT_BEIGE</td>\n",
       "      <td>20BAFWOCTU001BE</td>\n",
       "      <td>Younida</td>\n",
       "      <td>100</td>\n",
       "      <td>좋은 상품 구매 잘얻고 갑니다 마음에 드네요 항상 값진 결과물 입니다</td>\n",
       "    </tr>\n",
       "    <tr>\n",
       "      <th>11</th>\n",
       "      <td>CHEST DOUBLE POCKET COAT_BEIGE</td>\n",
       "      <td>20BAFWOCTU001BE</td>\n",
       "      <td>뉴비_7aa4bef3f639</td>\n",
       "      <td>100</td>\n",
       "      <td>오버핏으려고 입으려고 사긴했는데 예상보다 좀 더 크긴 한데 가격대비 정말 좋아요</td>\n",
       "    </tr>\n",
       "    <tr>\n",
       "      <th>12</th>\n",
       "      <td>CHEST DOUBLE POCKET COAT_BEIGE</td>\n",
       "      <td>20BAFWOCTU001BE</td>\n",
       "      <td>제주마스타</td>\n",
       "      <td>100</td>\n",
       "      <td>배드인배드 제품 여러가지 구매중인뎁,,코트  스타일 좋아요좋아 ~어떠한 바지와도 무...</td>\n",
       "    </tr>\n",
       "    <tr>\n",
       "      <th>13</th>\n",
       "      <td>CHEST DOUBLE POCKET COAT_BEIGE</td>\n",
       "      <td>20BAFWOCTU001BE</td>\n",
       "      <td>뉴비_489c19df34cb</td>\n",
       "      <td>100</td>\n",
       "      <td>진짜 제가 완전 자연산 멸치인데 핏 좋네요ㅋㅋ개이득</td>\n",
       "    </tr>\n",
       "    <tr>\n",
       "      <th>14</th>\n",
       "      <td>CHEST DOUBLE POCKET COAT_BEIGE</td>\n",
       "      <td>20BAFWOCTU001BE</td>\n",
       "      <td>스팸김치나베</td>\n",
       "      <td>100</td>\n",
       "      <td>이쁘고 가을남자같은 느낌나서 좋아요 잘 입을듯</td>\n",
       "    </tr>\n",
       "  </tbody>\n",
       "</table>\n",
       "<p>5579 rows × 5 columns</p>\n",
       "</div>"
      ],
      "text/plain": [
       "                     product_names      product_ids       user_names  \\\n",
       "0                       유틸리티 자켓 블랙       유틸리티 자켓 블랙          AG Club   \n",
       "1                       유틸리티 자켓 블랙       유틸리티 자켓 블랙           굥굥굥굥굥굥   \n",
       "2                       유틸리티 자켓 블랙       유틸리티 자켓 블랙         z1_y0ung   \n",
       "3                       유틸리티 자켓 블랙       유틸리티 자켓 블랙           구름이랑젤리   \n",
       "4                       유틸리티 자켓 블랙       유틸리티 자켓 블랙          eunruel   \n",
       "..                             ...              ...              ...   \n",
       "10  CHEST DOUBLE POCKET COAT_BEIGE  20BAFWOCTU001BE          Younida   \n",
       "11  CHEST DOUBLE POCKET COAT_BEIGE  20BAFWOCTU001BE  뉴비_7aa4bef3f639   \n",
       "12  CHEST DOUBLE POCKET COAT_BEIGE  20BAFWOCTU001BE            제주마스타   \n",
       "13  CHEST DOUBLE POCKET COAT_BEIGE  20BAFWOCTU001BE  뉴비_489c19df34cb   \n",
       "14  CHEST DOUBLE POCKET COAT_BEIGE  20BAFWOCTU001BE           스팸김치나베   \n",
       "\n",
       "   user_ratings                                       user_reviews  \n",
       "0           100    지금 입기엔 좀 얇고 날 풀리면 입기 좋을 듯 해요밑에 끈 쪼여서 입으면 진짜 예뻐요  \n",
       "1           100  얇아서 봄에 입기 너무 좋습니다 후드티 맨투맨보단 니트나 셔츠 긴팔티를 이너로 하는...  \n",
       "2           100  물량폭주로 주문지연되서 거의 2주만에 받아서 짜증났는데 상품 택도 안달려있어서 2차...  \n",
       "3           100                 흠 봄에 잘 입었어요 사이즈가 좀 더 커도 좋을것같다만 예뻐요  \n",
       "4           100  생각없이 샀는데 평소에 되게 많이 착용합니다!! 엄청 편하고 재질도 편하고 그냥 다...  \n",
       "..          ...                                                ...  \n",
       "10          100             좋은 상품 구매 잘얻고 갑니다 마음에 드네요 항상 값진 결과물 입니다  \n",
       "11          100       오버핏으려고 입으려고 사긴했는데 예상보다 좀 더 크긴 한데 가격대비 정말 좋아요  \n",
       "12          100  배드인배드 제품 여러가지 구매중인뎁,,코트  스타일 좋아요좋아 ~어떠한 바지와도 무...  \n",
       "13          100                       진짜 제가 완전 자연산 멸치인데 핏 좋네요ㅋㅋ개이득  \n",
       "14          100                          이쁘고 가을남자같은 느낌나서 좋아요 잘 입을듯  \n",
       "\n",
       "[5579 rows x 5 columns]"
      ]
     },
     "execution_count": 83,
     "metadata": {},
     "output_type": "execute_result"
    }
   ],
   "source": [
    "df_musinsa_review_raw_7 = df_musinsa_review_raw\n",
    "df_musinsa_review_raw_7"
   ]
  },
  {
   "cell_type": "code",
   "execution_count": 84,
   "metadata": {},
   "outputs": [],
   "source": [
    "df_musinsa_review_raw_7.to_csv('[이청하]review_아우터_240119.csv_7', index=False)"
   ]
  },
  {
   "cell_type": "markdown",
   "metadata": {},
   "source": [
    "---"
   ]
  },
  {
   "cell_type": "markdown",
   "metadata": {
    "jp-MarkdownHeadingCollapsed": true
   },
   "source": [
    "# 추가 수집 - df_6"
   ]
  },
  {
   "cell_type": "code",
   "execution_count": 70,
   "metadata": {},
   "outputs": [],
   "source": [
    "import pandas as pd\n",
    "\n",
    "df_6 = pd.DataFrame({'major_category':major_category,'middle_category': middle_category,'name': names, 'number': numbers, 'limit': limit, 'exclusive': exclusive, 'target_gender': target_gen,\n",
    "              'buy_gender': buy_gen, 'buy_age' : buy_age, 'view': month_view, 'like': like_cnt, 'price': pro_price, 'discount_rate':discount_rate, 'delivery_date': delivery_date,\n",
    "              'rating': pro_rating, 'review': review, 'buy':buy})"
   ]
  },
  {
   "cell_type": "code",
   "execution_count": 71,
   "metadata": {},
   "outputs": [],
   "source": [
    "df_6.to_csv('[이청하]musinsa_아우터_240119_6.csv', index=False)"
   ]
  },
  {
   "cell_type": "code",
   "execution_count": 72,
   "metadata": {},
   "outputs": [
    {
     "data": {
      "text/html": [
       "<div>\n",
       "<style scoped>\n",
       "    .dataframe tbody tr th:only-of-type {\n",
       "        vertical-align: middle;\n",
       "    }\n",
       "\n",
       "    .dataframe tbody tr th {\n",
       "        vertical-align: top;\n",
       "    }\n",
       "\n",
       "    .dataframe thead th {\n",
       "        text-align: right;\n",
       "    }\n",
       "</style>\n",
       "<table border=\"1\" class=\"dataframe\">\n",
       "  <thead>\n",
       "    <tr style=\"text-align: right;\">\n",
       "      <th></th>\n",
       "      <th>product_names</th>\n",
       "      <th>product_ids</th>\n",
       "      <th>user_names</th>\n",
       "      <th>user_ratings</th>\n",
       "      <th>user_reviews</th>\n",
       "    </tr>\n",
       "  </thead>\n",
       "  <tbody>\n",
       "    <tr>\n",
       "      <th>0</th>\n",
       "      <td>우먼즈 덕다운 숏 패딩 푸퍼 아이보리</td>\n",
       "      <td>ASBPJP004_3</td>\n",
       "      <td>특수이모티콘</td>\n",
       "      <td>100</td>\n",
       "      <td>패딩이 너무너무 따슈워용!!비록 팔이 너무 길었지만,보온성은  너무너무 좋았답니다</td>\n",
       "    </tr>\n",
       "    <tr>\n",
       "      <th>1</th>\n",
       "      <td>우먼즈 덕다운 숏 패딩 푸퍼 아이보리</td>\n",
       "      <td>ASBPJP004_3</td>\n",
       "      <td>hju__u</td>\n",
       "      <td>100</td>\n",
       "      <td>똑딱이 단추 부분이 약해서 안잠그고 다니려구요패딩은 너무 귀엽고 예쁩니당</td>\n",
       "    </tr>\n",
       "    <tr>\n",
       "      <th>2</th>\n",
       "      <td>우먼즈 덕다운 숏 패딩 푸퍼 아이보리</td>\n",
       "      <td>ASBPJP004_3</td>\n",
       "      <td>당근쏨쏨</td>\n",
       "      <td>100</td>\n",
       "      <td>합리적인 가격에 덕다운 구매했어요!! 기장을 걱정했는데 기장감 적당하고 가볍고 편해...</td>\n",
       "    </tr>\n",
       "    <tr>\n",
       "      <th>3</th>\n",
       "      <td>우먼즈 덕다운 숏 패딩 푸퍼 아이보리</td>\n",
       "      <td>ASBPJP004_3</td>\n",
       "      <td>김박현숙</td>\n",
       "      <td>80</td>\n",
       "      <td>처음봤을때 생각보다 더 노란끼가 있어서 아쉬웠는데 계속 보다보니 또 적응돼서 괜찮은...</td>\n",
       "    </tr>\n",
       "    <tr>\n",
       "      <th>4</th>\n",
       "      <td>우먼즈 덕다운 숏 패딩 푸퍼 아이보리</td>\n",
       "      <td>ASBPJP004_3</td>\n",
       "      <td>특수이모티콘</td>\n",
       "      <td>100</td>\n",
       "      <td>패딩이 너무너무 따슈워용!!비록 팔이 너무 길었지만,보온성은  너무너무 좋았답니다</td>\n",
       "    </tr>\n",
       "    <tr>\n",
       "      <th>...</th>\n",
       "      <td>...</td>\n",
       "      <td>...</td>\n",
       "      <td>...</td>\n",
       "      <td>...</td>\n",
       "      <td>...</td>\n",
       "    </tr>\n",
       "    <tr>\n",
       "      <th>21</th>\n",
       "      <td>코위찬 니트 집업 바시티_네이비</td>\n",
       "      <td>CBCFUKC008NY</td>\n",
       "      <td>뉴비_452d17e5f34d</td>\n",
       "      <td>100</td>\n",
       "      <td>특별한 디자인 니트짚업 마음에들어요.잘산것같아요</td>\n",
       "    </tr>\n",
       "    <tr>\n",
       "      <th>22</th>\n",
       "      <td>코위찬 니트 집업 바시티_네이비</td>\n",
       "      <td>CBCFUKC008NY</td>\n",
       "      <td>두랄루돈</td>\n",
       "      <td>100</td>\n",
       "      <td>M 구매했다가 조금 애매해서 L로 바꿨는데 L가 딱이네요가재가 너무 귀여워서 홀린듯...</td>\n",
       "    </tr>\n",
       "    <tr>\n",
       "      <th>23</th>\n",
       "      <td>코위찬 니트 집업 바시티_네이비</td>\n",
       "      <td>CBCFUKC008NY</td>\n",
       "      <td>댜._.댜</td>\n",
       "      <td>100</td>\n",
       "      <td>브라운이랑 고민하다가 네이비 샀는데 넘 맘에 들어요! 초겨울까지 단독으로 입기 좋을...</td>\n",
       "    </tr>\n",
       "    <tr>\n",
       "      <th>24</th>\n",
       "      <td>코위찬 니트 집업 바시티_네이비</td>\n",
       "      <td>CBCFUKC008NY</td>\n",
       "      <td>뉴비_c65b337c</td>\n",
       "      <td>80</td>\n",
       "      <td>아직 입기에는 두꺼워서 잘 보관중~청바지에 걸쳐입으면 이뽀 이뽀요^^잘입을께요.</td>\n",
       "    </tr>\n",
       "    <tr>\n",
       "      <th>25</th>\n",
       "      <td>코위찬 니트 집업 바시티_네이비</td>\n",
       "      <td>CBCFUKC008NY</td>\n",
       "      <td>뉴비_8dc6396a</td>\n",
       "      <td>80</td>\n",
       "      <td>디자인이 독특해서 마음에 들어요! 다만 보풀이 금새 생길것 같아요, 니트니까 어쩔수...</td>\n",
       "    </tr>\n",
       "  </tbody>\n",
       "</table>\n",
       "<p>3206 rows × 5 columns</p>\n",
       "</div>"
      ],
      "text/plain": [
       "           product_names   product_ids       user_names user_ratings  \\\n",
       "0   우먼즈 덕다운 숏 패딩 푸퍼 아이보리   ASBPJP004_3           특수이모티콘          100   \n",
       "1   우먼즈 덕다운 숏 패딩 푸퍼 아이보리   ASBPJP004_3           hju__u          100   \n",
       "2   우먼즈 덕다운 숏 패딩 푸퍼 아이보리   ASBPJP004_3             당근쏨쏨          100   \n",
       "3   우먼즈 덕다운 숏 패딩 푸퍼 아이보리   ASBPJP004_3             김박현숙           80   \n",
       "4   우먼즈 덕다운 숏 패딩 푸퍼 아이보리   ASBPJP004_3           특수이모티콘          100   \n",
       "..                   ...           ...              ...          ...   \n",
       "21     코위찬 니트 집업 바시티_네이비  CBCFUKC008NY  뉴비_452d17e5f34d          100   \n",
       "22     코위찬 니트 집업 바시티_네이비  CBCFUKC008NY             두랄루돈          100   \n",
       "23     코위찬 니트 집업 바시티_네이비  CBCFUKC008NY            댜._.댜          100   \n",
       "24     코위찬 니트 집업 바시티_네이비  CBCFUKC008NY      뉴비_c65b337c           80   \n",
       "25     코위찬 니트 집업 바시티_네이비  CBCFUKC008NY      뉴비_8dc6396a           80   \n",
       "\n",
       "                                         user_reviews  \n",
       "0       패딩이 너무너무 따슈워용!!비록 팔이 너무 길었지만,보온성은  너무너무 좋았답니다  \n",
       "1            똑딱이 단추 부분이 약해서 안잠그고 다니려구요패딩은 너무 귀엽고 예쁩니당  \n",
       "2   합리적인 가격에 덕다운 구매했어요!! 기장을 걱정했는데 기장감 적당하고 가볍고 편해...  \n",
       "3   처음봤을때 생각보다 더 노란끼가 있어서 아쉬웠는데 계속 보다보니 또 적응돼서 괜찮은...  \n",
       "4       패딩이 너무너무 따슈워용!!비록 팔이 너무 길었지만,보온성은  너무너무 좋았답니다  \n",
       "..                                                ...  \n",
       "21                         특별한 디자인 니트짚업 마음에들어요.잘산것같아요  \n",
       "22  M 구매했다가 조금 애매해서 L로 바꿨는데 L가 딱이네요가재가 너무 귀여워서 홀린듯...  \n",
       "23  브라운이랑 고민하다가 네이비 샀는데 넘 맘에 들어요! 초겨울까지 단독으로 입기 좋을...  \n",
       "24       아직 입기에는 두꺼워서 잘 보관중~청바지에 걸쳐입으면 이뽀 이뽀요^^잘입을께요.  \n",
       "25  디자인이 독특해서 마음에 들어요! 다만 보풀이 금새 생길것 같아요, 니트니까 어쩔수...  \n",
       "\n",
       "[3206 rows x 5 columns]"
      ]
     },
     "execution_count": 72,
     "metadata": {},
     "output_type": "execute_result"
    }
   ],
   "source": [
    "df_musinsa_review_raw_6 = df_musinsa_review_raw\n",
    "df_musinsa_review_raw_6"
   ]
  },
  {
   "cell_type": "code",
   "execution_count": 73,
   "metadata": {},
   "outputs": [],
   "source": [
    "df_musinsa_review_raw_6.to_csv('[이청하]review_아우터_240119.csv_6', index=False)"
   ]
  },
  {
   "cell_type": "code",
   "execution_count": null,
   "metadata": {},
   "outputs": [],
   "source": []
  },
  {
   "cell_type": "code",
   "execution_count": null,
   "metadata": {},
   "outputs": [],
   "source": []
  },
  {
   "cell_type": "code",
   "execution_count": null,
   "metadata": {},
   "outputs": [],
   "source": []
  },
  {
   "cell_type": "markdown",
   "metadata": {},
   "source": [
    "---"
   ]
  },
  {
   "cell_type": "markdown",
   "metadata": {
    "jp-MarkdownHeadingCollapsed": true
   },
   "source": [
    "# 추가 수집 - df_5"
   ]
  },
  {
   "cell_type": "code",
   "execution_count": 57,
   "metadata": {},
   "outputs": [],
   "source": [
    "import pandas as pd\n",
    "\n",
    "df_5 = pd.DataFrame({'major_category':major_category,'middle_category': middle_category,'name': names, 'number': numbers, 'limit': limit, 'exclusive': exclusive, 'target_gender': target_gen,\n",
    "              'buy_gender': buy_gen, 'buy_age' : buy_age, 'view': month_view, 'like': like_cnt, 'price': pro_price, 'discount_rate':discount_rate, 'delivery_date': delivery_date,\n",
    "              'rating': pro_rating, 'review': review, 'buy':buy})"
   ]
  },
  {
   "cell_type": "code",
   "execution_count": 58,
   "metadata": {},
   "outputs": [
    {
     "data": {
      "text/html": [
       "<div>\n",
       "<style scoped>\n",
       "    .dataframe tbody tr th:only-of-type {\n",
       "        vertical-align: middle;\n",
       "    }\n",
       "\n",
       "    .dataframe tbody tr th {\n",
       "        vertical-align: top;\n",
       "    }\n",
       "\n",
       "    .dataframe thead th {\n",
       "        text-align: right;\n",
       "    }\n",
       "</style>\n",
       "<table border=\"1\" class=\"dataframe\">\n",
       "  <thead>\n",
       "    <tr style=\"text-align: right;\">\n",
       "      <th></th>\n",
       "      <th>major_category</th>\n",
       "      <th>middle_category</th>\n",
       "      <th>name</th>\n",
       "      <th>number</th>\n",
       "      <th>limit</th>\n",
       "      <th>exclusive</th>\n",
       "      <th>target_gender</th>\n",
       "      <th>buy_gender</th>\n",
       "      <th>buy_age</th>\n",
       "      <th>view</th>\n",
       "      <th>like</th>\n",
       "      <th>price</th>\n",
       "      <th>discount_rate</th>\n",
       "      <th>delivery_date</th>\n",
       "      <th>rating</th>\n",
       "      <th>review</th>\n",
       "      <th>buy</th>\n",
       "    </tr>\n",
       "  </thead>\n",
       "  <tbody>\n",
       "    <tr>\n",
       "      <th>0</th>\n",
       "      <td>아우터</td>\n",
       "      <td>스타디움 재킷</td>\n",
       "      <td>[NF] 스키퍼 토글 자켓 (GRAY)_F23ZA937</td>\n",
       "      <td>F23ZA937GR</td>\n",
       "      <td>1</td>\n",
       "      <td>0</td>\n",
       "      <td>1</td>\n",
       "      <td>1.0</td>\n",
       "      <td>(19~23세, 0)</td>\n",
       "      <td>5900.0</td>\n",
       "      <td>2651</td>\n",
       "      <td>129500.0</td>\n",
       "      <td>30</td>\n",
       "      <td>5</td>\n",
       "      <td>4.9</td>\n",
       "      <td>37</td>\n",
       "      <td>100.0</td>\n",
       "    </tr>\n",
       "    <tr>\n",
       "      <th>1</th>\n",
       "      <td>아우터</td>\n",
       "      <td>스타디움 재킷</td>\n",
       "      <td>레글런 오버핏 배색 버튼 바시티 자켓 점퍼 [네이비]</td>\n",
       "      <td>23F88212-4100</td>\n",
       "      <td>0</td>\n",
       "      <td>0</td>\n",
       "      <td>1</td>\n",
       "      <td>1.0</td>\n",
       "      <td>(19~23세, 0)</td>\n",
       "      <td>4000.0</td>\n",
       "      <td>1368</td>\n",
       "      <td>66780.0</td>\n",
       "      <td>58</td>\n",
       "      <td>10</td>\n",
       "      <td>4.7</td>\n",
       "      <td>18</td>\n",
       "      <td>100.0</td>\n",
       "    </tr>\n",
       "    <tr>\n",
       "      <th>2</th>\n",
       "      <td>아우터</td>\n",
       "      <td>트레이닝 재킷</td>\n",
       "      <td>Reversible Team Jacket Grey</td>\n",
       "      <td>TN223WOWLS01GR</td>\n",
       "      <td>0</td>\n",
       "      <td>0</td>\n",
       "      <td>2</td>\n",
       "      <td>1.0</td>\n",
       "      <td>(19~23세, 24~28세)</td>\n",
       "      <td>3400.0</td>\n",
       "      <td>3905</td>\n",
       "      <td>89500.0</td>\n",
       "      <td>50</td>\n",
       "      <td>6</td>\n",
       "      <td>5.0</td>\n",
       "      <td>68</td>\n",
       "      <td>150.0</td>\n",
       "    </tr>\n",
       "    <tr>\n",
       "      <th>3</th>\n",
       "      <td>아우터</td>\n",
       "      <td>겨울 더블 코트</td>\n",
       "      <td>브라운 오버사이즈 로브 코트 (PDHAX7018)</td>\n",
       "      <td>PDHAX7018</td>\n",
       "      <td>0</td>\n",
       "      <td>0</td>\n",
       "      <td>0</td>\n",
       "      <td>0.0</td>\n",
       "      <td>(29~33세, 0)</td>\n",
       "      <td>6600.0</td>\n",
       "      <td>473</td>\n",
       "      <td>119000.0</td>\n",
       "      <td>83</td>\n",
       "      <td>5</td>\n",
       "      <td>4.9</td>\n",
       "      <td>22</td>\n",
       "      <td>100.0</td>\n",
       "    </tr>\n",
       "    <tr>\n",
       "      <th>4</th>\n",
       "      <td>아우터</td>\n",
       "      <td>숏패딩/숏헤비 아우터</td>\n",
       "      <td>우먼즈 덕다운 숏 패딩 푸퍼 아이보리</td>\n",
       "      <td>ASBPJP004_3</td>\n",
       "      <td>0</td>\n",
       "      <td>0</td>\n",
       "      <td>1</td>\n",
       "      <td>NaN</td>\n",
       "      <td>(29~33세, 0)</td>\n",
       "      <td>2300.0</td>\n",
       "      <td>636</td>\n",
       "      <td>155400.0</td>\n",
       "      <td>40</td>\n",
       "      <td>5</td>\n",
       "      <td>4.8</td>\n",
       "      <td>13</td>\n",
       "      <td>NaN</td>\n",
       "    </tr>\n",
       "    <tr>\n",
       "      <th>5</th>\n",
       "      <td>아우터</td>\n",
       "      <td>트레이닝 재킷</td>\n",
       "      <td>[SS Ver.]파이핑 오버핏 스웨트 집업_Black</td>\n",
       "      <td>m1037_685405</td>\n",
       "      <td>0</td>\n",
       "      <td>0</td>\n",
       "      <td>2</td>\n",
       "      <td>1.0</td>\n",
       "      <td>(~18세, 0)</td>\n",
       "      <td>900.0</td>\n",
       "      <td>2989</td>\n",
       "      <td>22800.0</td>\n",
       "      <td>54</td>\n",
       "      <td>6</td>\n",
       "      <td>4.7</td>\n",
       "      <td>44</td>\n",
       "      <td>250.0</td>\n",
       "    </tr>\n",
       "    <tr>\n",
       "      <th>6</th>\n",
       "      <td>아우터</td>\n",
       "      <td>나일론/코치 재킷</td>\n",
       "      <td>[US] Champion 로고 스타디움 풀집 자켓 (NORMAL NAVY)</td>\n",
       "      <td>CKJA3E010N2</td>\n",
       "      <td>1</td>\n",
       "      <td>0</td>\n",
       "      <td>0</td>\n",
       "      <td>0.0</td>\n",
       "      <td>(24~28세, 0)</td>\n",
       "      <td>1500.0</td>\n",
       "      <td>3600</td>\n",
       "      <td>71400.0</td>\n",
       "      <td>40</td>\n",
       "      <td>6</td>\n",
       "      <td>4.8</td>\n",
       "      <td>86</td>\n",
       "      <td>350.0</td>\n",
       "    </tr>\n",
       "  </tbody>\n",
       "</table>\n",
       "</div>"
      ],
      "text/plain": [
       "  major_category middle_category                                       name  \\\n",
       "0            아우터         스타디움 재킷             [NF] 스키퍼 토글 자켓 (GRAY)_F23ZA937   \n",
       "1            아우터         스타디움 재킷              레글런 오버핏 배색 버튼 바시티 자켓 점퍼 [네이비]   \n",
       "2            아우터         트레이닝 재킷                Reversible Team Jacket Grey   \n",
       "3            아우터        겨울 더블 코트                브라운 오버사이즈 로브 코트 (PDHAX7018)   \n",
       "4            아우터     숏패딩/숏헤비 아우터                       우먼즈 덕다운 숏 패딩 푸퍼 아이보리   \n",
       "5            아우터         트레이닝 재킷              [SS Ver.]파이핑 오버핏 스웨트 집업_Black   \n",
       "6            아우터       나일론/코치 재킷  [US] Champion 로고 스타디움 풀집 자켓 (NORMAL NAVY)   \n",
       "\n",
       "           number  limit  exclusive  target_gender  buy_gender  \\\n",
       "0      F23ZA937GR      1          0              1         1.0   \n",
       "1   23F88212-4100      0          0              1         1.0   \n",
       "2  TN223WOWLS01GR      0          0              2         1.0   \n",
       "3       PDHAX7018      0          0              0         0.0   \n",
       "4     ASBPJP004_3      0          0              1         NaN   \n",
       "5    m1037_685405      0          0              2         1.0   \n",
       "6     CKJA3E010N2      1          0              0         0.0   \n",
       "\n",
       "            buy_age    view  like     price discount_rate  delivery_date  \\\n",
       "0       (19~23세, 0)  5900.0  2651  129500.0            30              5   \n",
       "1       (19~23세, 0)  4000.0  1368   66780.0            58             10   \n",
       "2  (19~23세, 24~28세)  3400.0  3905   89500.0            50              6   \n",
       "3       (29~33세, 0)  6600.0   473  119000.0            83              5   \n",
       "4       (29~33세, 0)  2300.0   636  155400.0            40              5   \n",
       "5         (~18세, 0)   900.0  2989   22800.0            54              6   \n",
       "6       (24~28세, 0)  1500.0  3600   71400.0            40              6   \n",
       "\n",
       "   rating  review    buy  \n",
       "0     4.9      37  100.0  \n",
       "1     4.7      18  100.0  \n",
       "2     5.0      68  150.0  \n",
       "3     4.9      22  100.0  \n",
       "4     4.8      13    NaN  \n",
       "5     4.7      44  250.0  \n",
       "6     4.8      86  350.0  "
      ]
     },
     "execution_count": 58,
     "metadata": {},
     "output_type": "execute_result"
    }
   ],
   "source": [
    "df_5"
   ]
  },
  {
   "cell_type": "code",
   "execution_count": 59,
   "metadata": {},
   "outputs": [],
   "source": [
    "df_5.to_csv('[이청하]musinsa_아우터_240118_5.csv', index=False)"
   ]
  },
  {
   "cell_type": "code",
   "execution_count": 60,
   "metadata": {},
   "outputs": [
    {
     "data": {
      "text/html": [
       "<div>\n",
       "<style scoped>\n",
       "    .dataframe tbody tr th:only-of-type {\n",
       "        vertical-align: middle;\n",
       "    }\n",
       "\n",
       "    .dataframe tbody tr th {\n",
       "        vertical-align: top;\n",
       "    }\n",
       "\n",
       "    .dataframe thead th {\n",
       "        text-align: right;\n",
       "    }\n",
       "</style>\n",
       "<table border=\"1\" class=\"dataframe\">\n",
       "  <thead>\n",
       "    <tr style=\"text-align: right;\">\n",
       "      <th></th>\n",
       "      <th>product_names</th>\n",
       "      <th>product_ids</th>\n",
       "      <th>user_names</th>\n",
       "      <th>user_ratings</th>\n",
       "      <th>user_reviews</th>\n",
       "    </tr>\n",
       "  </thead>\n",
       "  <tbody>\n",
       "    <tr>\n",
       "      <th>0</th>\n",
       "      <td>[NF] 스키퍼 토글 자켓 (GRAY)_F23ZA937</td>\n",
       "      <td>F23ZA937GR</td>\n",
       "      <td>Herohyun</td>\n",
       "      <td>100</td>\n",
       "      <td>예뻐영 날씨 좀만 괜찮아지명 입으려구용 지금은 추움</td>\n",
       "    </tr>\n",
       "    <tr>\n",
       "      <th>1</th>\n",
       "      <td>[NF] 스키퍼 토글 자켓 (GRAY)_F23ZA937</td>\n",
       "      <td>F23ZA937GR</td>\n",
       "      <td>kwonsy</td>\n",
       "      <td>100</td>\n",
       "      <td>굿 완전 강추 합니다!!! 투웨이라 아주 편하고 지퍼 끝까지 올려 입어도 이쁘네요 ...</td>\n",
       "    </tr>\n",
       "    <tr>\n",
       "      <th>2</th>\n",
       "      <td>[NF] 스키퍼 토글 자켓 (GRAY)_F23ZA937</td>\n",
       "      <td>F23ZA937GR</td>\n",
       "      <td>호일야</td>\n",
       "      <td>100</td>\n",
       "      <td>상품 사진 봤을 때 그렇게 널널하지 않을 거라는 예상했습니당다른 분들한테는 괜찮은 ...</td>\n",
       "    </tr>\n",
       "    <tr>\n",
       "      <th>3</th>\n",
       "      <td>[NF] 스키퍼 토글 자켓 (GRAY)_F23ZA937</td>\n",
       "      <td>F23ZA937GR</td>\n",
       "      <td>냥머앙</td>\n",
       "      <td>80</td>\n",
       "      <td>지금 완전 잘 입고 있어요 너무 이쁘고 맘애 들어요 어디든지 다 잘 어울려요</td>\n",
       "    </tr>\n",
       "    <tr>\n",
       "      <th>4</th>\n",
       "      <td>[NF] 스키퍼 토글 자켓 (GRAY)_F23ZA937</td>\n",
       "      <td>F23ZA937GR</td>\n",
       "      <td>한개미ㅇ</td>\n",
       "      <td>100</td>\n",
       "      <td>생각보다 되게 따뜻하고 포닥포닥하네요세일할 때 잘 산 것 같아요떡볶이 코트 겸 추리...</td>\n",
       "    </tr>\n",
       "    <tr>\n",
       "      <th>...</th>\n",
       "      <td>...</td>\n",
       "      <td>...</td>\n",
       "      <td>...</td>\n",
       "      <td>...</td>\n",
       "      <td>...</td>\n",
       "    </tr>\n",
       "    <tr>\n",
       "      <th>39</th>\n",
       "      <td>[US] Champion 로고 스타디움 풀집 자켓 (NORMAL NAVY)</td>\n",
       "      <td>CKJA3E010N2</td>\n",
       "      <td>김형린</td>\n",
       "      <td>100</td>\n",
       "      <td>좋아요 마음에 들어요 다음에 또 사려고 생각중이에요</td>\n",
       "    </tr>\n",
       "    <tr>\n",
       "      <th>40</th>\n",
       "      <td>[US] Champion 로고 스타디움 풀집 자켓 (NORMAL NAVY)</td>\n",
       "      <td>CKJA3E010N2</td>\n",
       "      <td>그도그도</td>\n",
       "      <td>100</td>\n",
       "      <td>스포티한 바람막이를 좋아해서 샀는데 이쁘고 좋아요</td>\n",
       "    </tr>\n",
       "    <tr>\n",
       "      <th>41</th>\n",
       "      <td>[US] Champion 로고 스타디움 풀집 자켓 (NORMAL NAVY)</td>\n",
       "      <td>CKJA3E010N2</td>\n",
       "      <td>농재</td>\n",
       "      <td>100</td>\n",
       "      <td>원하는 핏이라 만족하고, 기장이 조금은 긴 건 참고해야할 것 같아요</td>\n",
       "    </tr>\n",
       "    <tr>\n",
       "      <th>42</th>\n",
       "      <td>[US] Champion 로고 스타디움 풀집 자켓 (NORMAL NAVY)</td>\n",
       "      <td>CKJA3E010N2</td>\n",
       "      <td>Ryani</td>\n",
       "      <td>100</td>\n",
       "      <td>바람막이 러버인데, 챔피온 브랜드 이름에 맞게 퀄리티가 좋은거 같아요</td>\n",
       "    </tr>\n",
       "    <tr>\n",
       "      <th>43</th>\n",
       "      <td>[US] Champion 로고 스타디움 풀집 자켓 (NORMAL NAVY)</td>\n",
       "      <td>CKJA3E010N2</td>\n",
       "      <td>EeeE:</td>\n",
       "      <td>100</td>\n",
       "      <td>잘산거 같아요 비올때 방수도 되는거 같고요 매일 입고 다녀요</td>\n",
       "    </tr>\n",
       "  </tbody>\n",
       "</table>\n",
       "<p>184 rows × 5 columns</p>\n",
       "</div>"
      ],
      "text/plain": [
       "                                product_names  product_ids user_names  \\\n",
       "0              [NF] 스키퍼 토글 자켓 (GRAY)_F23ZA937   F23ZA937GR   Herohyun   \n",
       "1              [NF] 스키퍼 토글 자켓 (GRAY)_F23ZA937   F23ZA937GR     kwonsy   \n",
       "2              [NF] 스키퍼 토글 자켓 (GRAY)_F23ZA937   F23ZA937GR        호일야   \n",
       "3              [NF] 스키퍼 토글 자켓 (GRAY)_F23ZA937   F23ZA937GR        냥머앙   \n",
       "4              [NF] 스키퍼 토글 자켓 (GRAY)_F23ZA937   F23ZA937GR       한개미ㅇ   \n",
       "..                                        ...          ...        ...   \n",
       "39  [US] Champion 로고 스타디움 풀집 자켓 (NORMAL NAVY)  CKJA3E010N2        김형린   \n",
       "40  [US] Champion 로고 스타디움 풀집 자켓 (NORMAL NAVY)  CKJA3E010N2       그도그도   \n",
       "41  [US] Champion 로고 스타디움 풀집 자켓 (NORMAL NAVY)  CKJA3E010N2         농재   \n",
       "42  [US] Champion 로고 스타디움 풀집 자켓 (NORMAL NAVY)  CKJA3E010N2      Ryani   \n",
       "43  [US] Champion 로고 스타디움 풀집 자켓 (NORMAL NAVY)  CKJA3E010N2      EeeE:   \n",
       "\n",
       "   user_ratings                                       user_reviews  \n",
       "0           100                       예뻐영 날씨 좀만 괜찮아지명 입으려구용 지금은 추움  \n",
       "1           100  굿 완전 강추 합니다!!! 투웨이라 아주 편하고 지퍼 끝까지 올려 입어도 이쁘네요 ...  \n",
       "2           100  상품 사진 봤을 때 그렇게 널널하지 않을 거라는 예상했습니당다른 분들한테는 괜찮은 ...  \n",
       "3            80         지금 완전 잘 입고 있어요 너무 이쁘고 맘애 들어요 어디든지 다 잘 어울려요  \n",
       "4           100  생각보다 되게 따뜻하고 포닥포닥하네요세일할 때 잘 산 것 같아요떡볶이 코트 겸 추리...  \n",
       "..          ...                                                ...  \n",
       "39          100                       좋아요 마음에 들어요 다음에 또 사려고 생각중이에요  \n",
       "40          100                        스포티한 바람막이를 좋아해서 샀는데 이쁘고 좋아요  \n",
       "41          100              원하는 핏이라 만족하고, 기장이 조금은 긴 건 참고해야할 것 같아요  \n",
       "42          100             바람막이 러버인데, 챔피온 브랜드 이름에 맞게 퀄리티가 좋은거 같아요  \n",
       "43          100                  잘산거 같아요 비올때 방수도 되는거 같고요 매일 입고 다녀요  \n",
       "\n",
       "[184 rows x 5 columns]"
      ]
     },
     "execution_count": 60,
     "metadata": {},
     "output_type": "execute_result"
    }
   ],
   "source": [
    "df_musinsa_review_raw_5 = df_musinsa_review_raw\n",
    "df_musinsa_review_raw_5"
   ]
  },
  {
   "cell_type": "code",
   "execution_count": 61,
   "metadata": {},
   "outputs": [],
   "source": [
    "df_musinsa_review_raw_5.to_csv('[이청하]review_아우터_240118.csv_5', index=False)"
   ]
  },
  {
   "cell_type": "markdown",
   "metadata": {},
   "source": [
    "---"
   ]
  },
  {
   "cell_type": "markdown",
   "metadata": {
    "jp-MarkdownHeadingCollapsed": true
   },
   "source": [
    "# 추가 수집"
   ]
  },
  {
   "cell_type": "code",
   "execution_count": 48,
   "metadata": {},
   "outputs": [],
   "source": [
    "import pandas as pd\n",
    "\n",
    "df_4 = pd.DataFrame({'major_category':major_category,'middle_category': middle_category,'name': names, 'number': numbers, 'limit': limit, 'exclusive': exclusive, 'target_gender': target_gen,\n",
    "              'buy_gender': buy_gen, 'buy_age' : buy_age, 'view': month_view, 'like': like_cnt, 'price': pro_price, 'discount_rate':discount_rate, 'delivery_date': delivery_date,\n",
    "              'rating': pro_rating, 'review': review, 'buy':buy})"
   ]
  },
  {
   "cell_type": "code",
   "execution_count": 49,
   "metadata": {
    "scrolled": true
   },
   "outputs": [
    {
     "data": {
      "text/html": [
       "<div>\n",
       "<style scoped>\n",
       "    .dataframe tbody tr th:only-of-type {\n",
       "        vertical-align: middle;\n",
       "    }\n",
       "\n",
       "    .dataframe tbody tr th {\n",
       "        vertical-align: top;\n",
       "    }\n",
       "\n",
       "    .dataframe thead th {\n",
       "        text-align: right;\n",
       "    }\n",
       "</style>\n",
       "<table border=\"1\" class=\"dataframe\">\n",
       "  <thead>\n",
       "    <tr style=\"text-align: right;\">\n",
       "      <th></th>\n",
       "      <th>major_category</th>\n",
       "      <th>middle_category</th>\n",
       "      <th>name</th>\n",
       "      <th>number</th>\n",
       "      <th>limit</th>\n",
       "      <th>exclusive</th>\n",
       "      <th>target_gender</th>\n",
       "      <th>buy_gender</th>\n",
       "      <th>buy_age</th>\n",
       "      <th>view</th>\n",
       "      <th>like</th>\n",
       "      <th>price</th>\n",
       "      <th>discount_rate</th>\n",
       "      <th>delivery_date</th>\n",
       "      <th>rating</th>\n",
       "      <th>review</th>\n",
       "      <th>buy</th>\n",
       "    </tr>\n",
       "  </thead>\n",
       "  <tbody>\n",
       "    <tr>\n",
       "      <th>0</th>\n",
       "      <td>아우터</td>\n",
       "      <td>겨울 싱글 코트</td>\n",
       "      <td>브라운 맥시 체스터 코트 (PDHAX7006)</td>\n",
       "      <td>PDHAX7006</td>\n",
       "      <td>0</td>\n",
       "      <td>0</td>\n",
       "      <td>0</td>\n",
       "      <td>NaN</td>\n",
       "      <td>(29~33세, 0)</td>\n",
       "      <td>3000.0</td>\n",
       "      <td>143</td>\n",
       "      <td>99900.0</td>\n",
       "      <td>86</td>\n",
       "      <td>5</td>\n",
       "      <td>5.0</td>\n",
       "      <td>1</td>\n",
       "      <td>NaN</td>\n",
       "    </tr>\n",
       "    <tr>\n",
       "      <th>1</th>\n",
       "      <td>아우터</td>\n",
       "      <td>카디건</td>\n",
       "      <td>THREE RIBBON CARDIGAN</td>\n",
       "      <td>IBC23WCD05BK</td>\n",
       "      <td>0</td>\n",
       "      <td>0</td>\n",
       "      <td>1</td>\n",
       "      <td>1.0</td>\n",
       "      <td>(19~23세, 0)</td>\n",
       "      <td>4700.0</td>\n",
       "      <td>2559</td>\n",
       "      <td>58000.0</td>\n",
       "      <td>0</td>\n",
       "      <td>6</td>\n",
       "      <td>5.0</td>\n",
       "      <td>9</td>\n",
       "      <td>50.0</td>\n",
       "    </tr>\n",
       "    <tr>\n",
       "      <th>2</th>\n",
       "      <td>아우터</td>\n",
       "      <td>스타디움 재킷</td>\n",
       "      <td>[NF] 스키퍼 토글 자켓 (GRAY)_F23ZA937</td>\n",
       "      <td>F23ZA937GR</td>\n",
       "      <td>1</td>\n",
       "      <td>0</td>\n",
       "      <td>1</td>\n",
       "      <td>1.0</td>\n",
       "      <td>(19~23세, 0)</td>\n",
       "      <td>5900.0</td>\n",
       "      <td>2651</td>\n",
       "      <td>129500.0</td>\n",
       "      <td>30</td>\n",
       "      <td>5</td>\n",
       "      <td>4.9</td>\n",
       "      <td>37</td>\n",
       "      <td>100.0</td>\n",
       "    </tr>\n",
       "    <tr>\n",
       "      <th>3</th>\n",
       "      <td>아우터</td>\n",
       "      <td>스타디움 재킷</td>\n",
       "      <td>레글런 오버핏 배색 버튼 바시티 자켓 점퍼 [네이비]</td>\n",
       "      <td>23F88212-4100</td>\n",
       "      <td>0</td>\n",
       "      <td>0</td>\n",
       "      <td>1</td>\n",
       "      <td>1.0</td>\n",
       "      <td>(19~23세, 0)</td>\n",
       "      <td>3900.0</td>\n",
       "      <td>1368</td>\n",
       "      <td>66780.0</td>\n",
       "      <td>58</td>\n",
       "      <td>10</td>\n",
       "      <td>4.7</td>\n",
       "      <td>18</td>\n",
       "      <td>100.0</td>\n",
       "    </tr>\n",
       "  </tbody>\n",
       "</table>\n",
       "</div>"
      ],
      "text/plain": [
       "  major_category middle_category                            name  \\\n",
       "0            아우터        겨울 싱글 코트       브라운 맥시 체스터 코트 (PDHAX7006)   \n",
       "1            아우터             카디건           THREE RIBBON CARDIGAN   \n",
       "2            아우터         스타디움 재킷  [NF] 스키퍼 토글 자켓 (GRAY)_F23ZA937   \n",
       "3            아우터         스타디움 재킷   레글런 오버핏 배색 버튼 바시티 자켓 점퍼 [네이비]   \n",
       "\n",
       "          number  limit  exclusive  target_gender  buy_gender      buy_age  \\\n",
       "0      PDHAX7006      0          0              0         NaN  (29~33세, 0)   \n",
       "1   IBC23WCD05BK      0          0              1         1.0  (19~23세, 0)   \n",
       "2     F23ZA937GR      1          0              1         1.0  (19~23세, 0)   \n",
       "3  23F88212-4100      0          0              1         1.0  (19~23세, 0)   \n",
       "\n",
       "     view  like     price discount_rate  delivery_date  rating  review    buy  \n",
       "0  3000.0   143   99900.0            86              5     5.0       1    NaN  \n",
       "1  4700.0  2559   58000.0             0              6     5.0       9   50.0  \n",
       "2  5900.0  2651  129500.0            30              5     4.9      37  100.0  \n",
       "3  3900.0  1368   66780.0            58             10     4.7      18  100.0  "
      ]
     },
     "execution_count": 49,
     "metadata": {},
     "output_type": "execute_result"
    }
   ],
   "source": [
    "df_4"
   ]
  },
  {
   "cell_type": "code",
   "execution_count": 50,
   "metadata": {},
   "outputs": [],
   "source": [
    "df_4.to_csv('[이청하]musinsa_아우터_240118_4.csv', index=False)"
   ]
  },
  {
   "cell_type": "code",
   "execution_count": 51,
   "metadata": {},
   "outputs": [
    {
     "data": {
      "text/html": [
       "<div>\n",
       "<style scoped>\n",
       "    .dataframe tbody tr th:only-of-type {\n",
       "        vertical-align: middle;\n",
       "    }\n",
       "\n",
       "    .dataframe tbody tr th {\n",
       "        vertical-align: top;\n",
       "    }\n",
       "\n",
       "    .dataframe thead th {\n",
       "        text-align: right;\n",
       "    }\n",
       "</style>\n",
       "<table border=\"1\" class=\"dataframe\">\n",
       "  <thead>\n",
       "    <tr style=\"text-align: right;\">\n",
       "      <th></th>\n",
       "      <th>product_names</th>\n",
       "      <th>product_ids</th>\n",
       "      <th>user_names</th>\n",
       "      <th>user_ratings</th>\n",
       "      <th>user_reviews</th>\n",
       "    </tr>\n",
       "  </thead>\n",
       "  <tbody>\n",
       "    <tr>\n",
       "      <th>0</th>\n",
       "      <td>브라운 맥시 체스터 코트 (PDHAX7006)</td>\n",
       "      <td>PDHAX7006</td>\n",
       "      <td>키위쥬스님</td>\n",
       "      <td>100</td>\n",
       "      <td>이쁘네요 잘입겠습니다 핏도 이쁘고 전체적으로 만족합니다. 색감도 제취향이에요 너무 ...</td>\n",
       "    </tr>\n",
       "    <tr>\n",
       "      <th>0</th>\n",
       "      <td>THREE RIBBON CARDIGAN</td>\n",
       "      <td>IBC23WCD05BK</td>\n",
       "      <td>ALPETA</td>\n",
       "      <td>100</td>\n",
       "      <td>리본에 잠식된 패션계...입으면 바디라인이 슬림해보이고 분홍 리본이 포인트가 되어줍니다~</td>\n",
       "    </tr>\n",
       "    <tr>\n",
       "      <th>1</th>\n",
       "      <td>THREE RIBBON CARDIGAN</td>\n",
       "      <td>IBC23WCD05BK</td>\n",
       "      <td>ALPETA</td>\n",
       "      <td>100</td>\n",
       "      <td>아직 입고 나가진못했지만 리본이 너무 귀여운 가디건이에용핏되는 착용감이 마음에 듭니다~</td>\n",
       "    </tr>\n",
       "    <tr>\n",
       "      <th>2</th>\n",
       "      <td>THREE RIBBON CARDIGAN</td>\n",
       "      <td>IBC23WCD05BK</td>\n",
       "      <td>멍멍ㄴ멈머</td>\n",
       "      <td>100</td>\n",
       "      <td>디자인이 넘 취향이라 구매했는데 생각했던거보다 핏도 너무 예쁘고 말라보임 핑크 리본...</td>\n",
       "    </tr>\n",
       "    <tr>\n",
       "      <th>3</th>\n",
       "      <td>THREE RIBBON CARDIGAN</td>\n",
       "      <td>IBC23WCD05BK</td>\n",
       "      <td>ALPETA</td>\n",
       "      <td>100</td>\n",
       "      <td>여름에 리본 슬리브리스 구매할까 말까~ 고민했었는데 FW시즌에 너무 귀여운 가디건이...</td>\n",
       "    </tr>\n",
       "    <tr>\n",
       "      <th>4</th>\n",
       "      <td>THREE RIBBON CARDIGAN</td>\n",
       "      <td>IBC23WCD05BK</td>\n",
       "      <td>L.H.j.</td>\n",
       "      <td>100</td>\n",
       "      <td>발레코어st 가디건 찾고 있었는데 딱 원하는 디자인이라 바로 구매했어요 얇은데 라인...</td>\n",
       "    </tr>\n",
       "    <tr>\n",
       "      <th>5</th>\n",
       "      <td>THREE RIBBON CARDIGAN</td>\n",
       "      <td>IBC23WCD05BK</td>\n",
       "      <td>박력너구리</td>\n",
       "      <td>100</td>\n",
       "      <td>상세 사이즈보고이 옷 되게 작겠다,, 싶었음그러나 리본 너무 기여워서 못 참고 구매...</td>\n",
       "    </tr>\n",
       "    <tr>\n",
       "      <th>6</th>\n",
       "      <td>THREE RIBBON CARDIGAN</td>\n",
       "      <td>IBC23WCD05BK</td>\n",
       "      <td>커피한잔하실래여?</td>\n",
       "      <td>100</td>\n",
       "      <td>친구에게 선물로 줬누ㅡㄴ데 친구가 좋아해 줬어요 예뻐요!!</td>\n",
       "    </tr>\n",
       "    <tr>\n",
       "      <th>7</th>\n",
       "      <td>THREE RIBBON CARDIGAN</td>\n",
       "      <td>IBC23WCD05BK</td>\n",
       "      <td>헿흐</td>\n",
       "      <td>100</td>\n",
       "      <td>하아.. 진짜 예쁘게 말라보이는 핏 너무 맘에 들어욧..</td>\n",
       "    </tr>\n",
       "    <tr>\n",
       "      <th>8</th>\n",
       "      <td>THREE RIBBON CARDIGAN</td>\n",
       "      <td>IBC23WCD05BK</td>\n",
       "      <td>멍멍ㄴ멈머</td>\n",
       "      <td>100</td>\n",
       "      <td>생각했던거보다 핏도 너무 예쁘고 말라보임 핑크 리본 디테일듀 너무 취저에요</td>\n",
       "    </tr>\n",
       "    <tr>\n",
       "      <th>0</th>\n",
       "      <td>[NF] 스키퍼 토글 자켓 (GRAY)_F23ZA937</td>\n",
       "      <td>F23ZA937GR</td>\n",
       "      <td>Herohyun</td>\n",
       "      <td>100</td>\n",
       "      <td>예뻐영 날씨 좀만 괜찮아지명 입으려구용 지금은 추움</td>\n",
       "    </tr>\n",
       "    <tr>\n",
       "      <th>1</th>\n",
       "      <td>[NF] 스키퍼 토글 자켓 (GRAY)_F23ZA937</td>\n",
       "      <td>F23ZA937GR</td>\n",
       "      <td>kwonsy</td>\n",
       "      <td>100</td>\n",
       "      <td>굿 완전 강추 합니다!!! 투웨이라 아주 편하고 지퍼 끝까지 올려 입어도 이쁘네요 ...</td>\n",
       "    </tr>\n",
       "    <tr>\n",
       "      <th>2</th>\n",
       "      <td>[NF] 스키퍼 토글 자켓 (GRAY)_F23ZA937</td>\n",
       "      <td>F23ZA937GR</td>\n",
       "      <td>호일야</td>\n",
       "      <td>100</td>\n",
       "      <td>상품 사진 봤을 때 그렇게 널널하지 않을 거라는 예상했습니당다른 분들한테는 괜찮은 ...</td>\n",
       "    </tr>\n",
       "    <tr>\n",
       "      <th>3</th>\n",
       "      <td>[NF] 스키퍼 토글 자켓 (GRAY)_F23ZA937</td>\n",
       "      <td>F23ZA937GR</td>\n",
       "      <td>냥머앙</td>\n",
       "      <td>80</td>\n",
       "      <td>지금 완전 잘 입고 있어요 너무 이쁘고 맘애 들어요 어디든지 다 잘 어울려요</td>\n",
       "    </tr>\n",
       "    <tr>\n",
       "      <th>4</th>\n",
       "      <td>[NF] 스키퍼 토글 자켓 (GRAY)_F23ZA937</td>\n",
       "      <td>F23ZA937GR</td>\n",
       "      <td>한개미ㅇ</td>\n",
       "      <td>100</td>\n",
       "      <td>생각보다 되게 따뜻하고 포닥포닥하네요세일할 때 잘 산 것 같아요떡볶이 코트 겸 추리...</td>\n",
       "    </tr>\n",
       "    <tr>\n",
       "      <th>5</th>\n",
       "      <td>[NF] 스키퍼 토글 자켓 (GRAY)_F23ZA937</td>\n",
       "      <td>F23ZA937GR</td>\n",
       "      <td>나는 폴리</td>\n",
       "      <td>100</td>\n",
       "      <td>전 디자인과 색상이 너무 맘에 들어서 구매했습니당1. 색상 : 상세페이지 그대로, ...</td>\n",
       "    </tr>\n",
       "    <tr>\n",
       "      <th>6</th>\n",
       "      <td>[NF] 스키퍼 토글 자켓 (GRAY)_F23ZA937</td>\n",
       "      <td>F23ZA937GR</td>\n",
       "      <td>Herohyun</td>\n",
       "      <td>100</td>\n",
       "      <td>옷 재질이 좋아하는 재질은 아닌데 디자인이 너무 귀엽잖아요 그럼 사야지..하고 구매...</td>\n",
       "    </tr>\n",
       "    <tr>\n",
       "      <th>7</th>\n",
       "      <td>[NF] 스키퍼 토글 자켓 (GRAY)_F23ZA937</td>\n",
       "      <td>F23ZA937GR</td>\n",
       "      <td>뿌쀼쁘삐</td>\n",
       "      <td>100</td>\n",
       "      <td>문고리뷰 죄송… 근데 옷이 진짜 귀염뽀짝하고 안에 누빔이라 따뜻함 색도 배색이라 넘...</td>\n",
       "    </tr>\n",
       "    <tr>\n",
       "      <th>8</th>\n",
       "      <td>[NF] 스키퍼 토글 자켓 (GRAY)_F23ZA937</td>\n",
       "      <td>F23ZA937GR</td>\n",
       "      <td>간지우짱</td>\n",
       "      <td>100</td>\n",
       "      <td>떡코 너무귀엽다 색 조합도 은근 귀여워서 구매햇서여</td>\n",
       "    </tr>\n",
       "    <tr>\n",
       "      <th>9</th>\n",
       "      <td>[NF] 스키퍼 토글 자켓 (GRAY)_F23ZA937</td>\n",
       "      <td>F23ZA937GR</td>\n",
       "      <td>냐미냐미냠냐옹</td>\n",
       "      <td>100</td>\n",
       "      <td>아직 구매해놓고 안입었지만 진짜 예뻐요 디자인</td>\n",
       "    </tr>\n",
       "    <tr>\n",
       "      <th>10</th>\n",
       "      <td>[NF] 스키퍼 토글 자켓 (GRAY)_F23ZA937</td>\n",
       "      <td>F23ZA937GR</td>\n",
       "      <td>늉늉늉냐</td>\n",
       "      <td>100</td>\n",
       "      <td>너무 귀여워요ㅜ 근데 늦게 사서 지금 못입고 다니지만 따뜻해지면 맨날 입고다닐거에요...</td>\n",
       "    </tr>\n",
       "    <tr>\n",
       "      <th>11</th>\n",
       "      <td>[NF] 스키퍼 토글 자켓 (GRAY)_F23ZA937</td>\n",
       "      <td>F23ZA937GR</td>\n",
       "      <td>장삼색</td>\n",
       "      <td>100</td>\n",
       "      <td>이거 미쳤는데요…진짜 핏 미쳤습니다 너무 예뻐요힙하고 러블리하고 다 해요</td>\n",
       "    </tr>\n",
       "    <tr>\n",
       "      <th>12</th>\n",
       "      <td>[NF] 스키퍼 토글 자켓 (GRAY)_F23ZA937</td>\n",
       "      <td>F23ZA937GR</td>\n",
       "      <td>냥머앙</td>\n",
       "      <td>80</td>\n",
       "      <td>디자인이 너무 기엽고 생각보다 두꺼워서 겨울에도 잘 입을 것 같아요 배송도 빠르고 ...</td>\n",
       "    </tr>\n",
       "    <tr>\n",
       "      <th>13</th>\n",
       "      <td>[NF] 스키퍼 토글 자켓 (GRAY)_F23ZA937</td>\n",
       "      <td>F23ZA937GR</td>\n",
       "      <td>Ju.ss</td>\n",
       "      <td>100</td>\n",
       "      <td>귀엽고 부해보이지 않아서 좋아요 촉감도 부드럽습니다!</td>\n",
       "    </tr>\n",
       "    <tr>\n",
       "      <th>14</th>\n",
       "      <td>[NF] 스키퍼 토글 자켓 (GRAY)_F23ZA937</td>\n",
       "      <td>F23ZA937GR</td>\n",
       "      <td>앋챋윧</td>\n",
       "      <td>100</td>\n",
       "      <td>생각보다 가벼워요. 마이재질에 누빔도 있고 무거울거라 생각했는데 가벼워요. 근데 따...</td>\n",
       "    </tr>\n",
       "    <tr>\n",
       "      <th>15</th>\n",
       "      <td>[NF] 스키퍼 토글 자켓 (GRAY)_F23ZA937</td>\n",
       "      <td>F23ZA937GR</td>\n",
       "      <td>읭낑이</td>\n",
       "      <td>100</td>\n",
       "      <td>조금 넉넉할 줄 알았는데 생각한 것보다 팔이나 몸통이 딱맞아요 안에 누빔 처리 되어...</td>\n",
       "    </tr>\n",
       "    <tr>\n",
       "      <th>16</th>\n",
       "      <td>[NF] 스키퍼 토글 자켓 (GRAY)_F23ZA937</td>\n",
       "      <td>F23ZA937GR</td>\n",
       "      <td>intoyouhikari</td>\n",
       "      <td>100</td>\n",
       "      <td>누빔 덕분에 생각보다 두꺼워서 따뜻하게 입을 수 있을 것 같고 여기저기 걸쳐도 잘 ...</td>\n",
       "    </tr>\n",
       "    <tr>\n",
       "      <th>17</th>\n",
       "      <td>[NF] 스키퍼 토글 자켓 (GRAY)_F23ZA937</td>\n",
       "      <td>F23ZA937GR</td>\n",
       "      <td>테를린덴</td>\n",
       "      <td>100</td>\n",
       "      <td>옷 색감이쁜고 잘 맞아요 잠구는 회색 플라스틱단추가 할짝 싸구려느낌인거 빼고좋습니다...</td>\n",
       "    </tr>\n",
       "    <tr>\n",
       "      <th>18</th>\n",
       "      <td>[NF] 스키퍼 토글 자켓 (GRAY)_F23ZA937</td>\n",
       "      <td>F23ZA937GR</td>\n",
       "      <td>hayannnn</td>\n",
       "      <td>100</td>\n",
       "      <td>완전 귀여워요 만나는 사람들마다 귀엽다구 해줌요 ㅎㅎ 마감이 좀 안 좋은 부분이 있...</td>\n",
       "    </tr>\n",
       "    <tr>\n",
       "      <th>19</th>\n",
       "      <td>[NF] 스키퍼 토글 자켓 (GRAY)_F23ZA937</td>\n",
       "      <td>F23ZA937GR</td>\n",
       "      <td>간지우짱</td>\n",
       "      <td>100</td>\n",
       "      <td>디자인 너무귀여워요!! 떡볶이 디자인이하 너무 좋아툥</td>\n",
       "    </tr>\n",
       "    <tr>\n",
       "      <th>20</th>\n",
       "      <td>[NF] 스키퍼 토글 자켓 (GRAY)_F23ZA937</td>\n",
       "      <td>F23ZA937GR</td>\n",
       "      <td>뇨우삐</td>\n",
       "      <td>80</td>\n",
       "      <td>배송이 진짜 너무 빨리와서 깜짝놀랐어요!! 그리고 가격이 저렴해서 너무 좋고 재질도...</td>\n",
       "    </tr>\n",
       "    <tr>\n",
       "      <th>21</th>\n",
       "      <td>[NF] 스키퍼 토글 자켓 (GRAY)_F23ZA937</td>\n",
       "      <td>F23ZA937GR</td>\n",
       "      <td>냐미냐미냠냐옹</td>\n",
       "      <td>100</td>\n",
       "      <td>아직 구매해놓고 안입었지만 진짜 예뻐요 디자인</td>\n",
       "    </tr>\n",
       "    <tr>\n",
       "      <th>22</th>\n",
       "      <td>[NF] 스키퍼 토글 자켓 (GRAY)_F23ZA937</td>\n",
       "      <td>F23ZA937GR</td>\n",
       "      <td>늉늉늉냐</td>\n",
       "      <td>100</td>\n",
       "      <td>너무 귀여워요ㅜ 근데 늦게 사서 지금 못입고 다니지만 따뜻해지면 맨날 입고다닐거에요</td>\n",
       "    </tr>\n",
       "    <tr>\n",
       "      <th>23</th>\n",
       "      <td>[NF] 스키퍼 토글 자켓 (GRAY)_F23ZA937</td>\n",
       "      <td>F23ZA937GR</td>\n",
       "      <td>호일야</td>\n",
       "      <td>100</td>\n",
       "      <td>상품 사진 봤을 때 그렇게 널널하지 않을 거라는 예상했습니당다른 분들한테는 괜찮은 ...</td>\n",
       "    </tr>\n",
       "    <tr>\n",
       "      <th>24</th>\n",
       "      <td>[NF] 스키퍼 토글 자켓 (GRAY)_F23ZA937</td>\n",
       "      <td>F23ZA937GR</td>\n",
       "      <td>동구라미그란데</td>\n",
       "      <td>100</td>\n",
       "      <td>색깔 조합이 이뻐서 구매했어요. 길이도 적당하고 예쁩니다.</td>\n",
       "    </tr>\n",
       "    <tr>\n",
       "      <th>25</th>\n",
       "      <td>[NF] 스키퍼 토글 자켓 (GRAY)_F23ZA937</td>\n",
       "      <td>F23ZA937GR</td>\n",
       "      <td>겨미윤디</td>\n",
       "      <td>100</td>\n",
       "      <td>실제로 보니까 더 이뻐요 그냥 도톰한 외투 인줄 알았는데 안에 누빔이 있어서 더 좋아요</td>\n",
       "    </tr>\n",
       "    <tr>\n",
       "      <th>26</th>\n",
       "      <td>[NF] 스키퍼 토글 자켓 (GRAY)_F23ZA937</td>\n",
       "      <td>F23ZA937GR</td>\n",
       "      <td>금빛찬란</td>\n",
       "      <td>100</td>\n",
       "      <td>색깔이 맘에 들고 두께도 지금 입기에 좋아요디자인도 맘에 들어요</td>\n",
       "    </tr>\n",
       "    <tr>\n",
       "      <th>27</th>\n",
       "      <td>[NF] 스키퍼 토글 자켓 (GRAY)_F23ZA937</td>\n",
       "      <td>F23ZA937GR</td>\n",
       "      <td>빙글빙글빙글돌겠네</td>\n",
       "      <td>100</td>\n",
       "      <td>생각보다 두껍고 그래서 그런지 좀 무거워요 요즘 날씨가 다시 더워져서 입으면 더워요</td>\n",
       "    </tr>\n",
       "  </tbody>\n",
       "</table>\n",
       "</div>"
      ],
      "text/plain": [
       "                     product_names   product_ids     user_names user_ratings  \\\n",
       "0        브라운 맥시 체스터 코트 (PDHAX7006)     PDHAX7006          키위쥬스님          100   \n",
       "0            THREE RIBBON CARDIGAN  IBC23WCD05BK         ALPETA          100   \n",
       "1            THREE RIBBON CARDIGAN  IBC23WCD05BK         ALPETA          100   \n",
       "2            THREE RIBBON CARDIGAN  IBC23WCD05BK          멍멍ㄴ멈머          100   \n",
       "3            THREE RIBBON CARDIGAN  IBC23WCD05BK         ALPETA          100   \n",
       "4            THREE RIBBON CARDIGAN  IBC23WCD05BK         L.H.j.          100   \n",
       "5            THREE RIBBON CARDIGAN  IBC23WCD05BK          박력너구리          100   \n",
       "6            THREE RIBBON CARDIGAN  IBC23WCD05BK      커피한잔하실래여?          100   \n",
       "7            THREE RIBBON CARDIGAN  IBC23WCD05BK             헿흐          100   \n",
       "8            THREE RIBBON CARDIGAN  IBC23WCD05BK          멍멍ㄴ멈머          100   \n",
       "0   [NF] 스키퍼 토글 자켓 (GRAY)_F23ZA937    F23ZA937GR       Herohyun          100   \n",
       "1   [NF] 스키퍼 토글 자켓 (GRAY)_F23ZA937    F23ZA937GR         kwonsy          100   \n",
       "2   [NF] 스키퍼 토글 자켓 (GRAY)_F23ZA937    F23ZA937GR            호일야          100   \n",
       "3   [NF] 스키퍼 토글 자켓 (GRAY)_F23ZA937    F23ZA937GR            냥머앙           80   \n",
       "4   [NF] 스키퍼 토글 자켓 (GRAY)_F23ZA937    F23ZA937GR           한개미ㅇ          100   \n",
       "5   [NF] 스키퍼 토글 자켓 (GRAY)_F23ZA937    F23ZA937GR          나는 폴리          100   \n",
       "6   [NF] 스키퍼 토글 자켓 (GRAY)_F23ZA937    F23ZA937GR       Herohyun          100   \n",
       "7   [NF] 스키퍼 토글 자켓 (GRAY)_F23ZA937    F23ZA937GR           뿌쀼쁘삐          100   \n",
       "8   [NF] 스키퍼 토글 자켓 (GRAY)_F23ZA937    F23ZA937GR           간지우짱          100   \n",
       "9   [NF] 스키퍼 토글 자켓 (GRAY)_F23ZA937    F23ZA937GR        냐미냐미냠냐옹          100   \n",
       "10  [NF] 스키퍼 토글 자켓 (GRAY)_F23ZA937    F23ZA937GR           늉늉늉냐          100   \n",
       "11  [NF] 스키퍼 토글 자켓 (GRAY)_F23ZA937    F23ZA937GR            장삼색          100   \n",
       "12  [NF] 스키퍼 토글 자켓 (GRAY)_F23ZA937    F23ZA937GR            냥머앙           80   \n",
       "13  [NF] 스키퍼 토글 자켓 (GRAY)_F23ZA937    F23ZA937GR          Ju.ss          100   \n",
       "14  [NF] 스키퍼 토글 자켓 (GRAY)_F23ZA937    F23ZA937GR            앋챋윧          100   \n",
       "15  [NF] 스키퍼 토글 자켓 (GRAY)_F23ZA937    F23ZA937GR            읭낑이          100   \n",
       "16  [NF] 스키퍼 토글 자켓 (GRAY)_F23ZA937    F23ZA937GR  intoyouhikari          100   \n",
       "17  [NF] 스키퍼 토글 자켓 (GRAY)_F23ZA937    F23ZA937GR           테를린덴          100   \n",
       "18  [NF] 스키퍼 토글 자켓 (GRAY)_F23ZA937    F23ZA937GR       hayannnn          100   \n",
       "19  [NF] 스키퍼 토글 자켓 (GRAY)_F23ZA937    F23ZA937GR           간지우짱          100   \n",
       "20  [NF] 스키퍼 토글 자켓 (GRAY)_F23ZA937    F23ZA937GR            뇨우삐           80   \n",
       "21  [NF] 스키퍼 토글 자켓 (GRAY)_F23ZA937    F23ZA937GR        냐미냐미냠냐옹          100   \n",
       "22  [NF] 스키퍼 토글 자켓 (GRAY)_F23ZA937    F23ZA937GR           늉늉늉냐          100   \n",
       "23  [NF] 스키퍼 토글 자켓 (GRAY)_F23ZA937    F23ZA937GR            호일야          100   \n",
       "24  [NF] 스키퍼 토글 자켓 (GRAY)_F23ZA937    F23ZA937GR        동구라미그란데          100   \n",
       "25  [NF] 스키퍼 토글 자켓 (GRAY)_F23ZA937    F23ZA937GR           겨미윤디          100   \n",
       "26  [NF] 스키퍼 토글 자켓 (GRAY)_F23ZA937    F23ZA937GR           금빛찬란          100   \n",
       "27  [NF] 스키퍼 토글 자켓 (GRAY)_F23ZA937    F23ZA937GR      빙글빙글빙글돌겠네          100   \n",
       "\n",
       "                                         user_reviews  \n",
       "0   이쁘네요 잘입겠습니다 핏도 이쁘고 전체적으로 만족합니다. 색감도 제취향이에요 너무 ...  \n",
       "0   리본에 잠식된 패션계...입으면 바디라인이 슬림해보이고 분홍 리본이 포인트가 되어줍니다~  \n",
       "1    아직 입고 나가진못했지만 리본이 너무 귀여운 가디건이에용핏되는 착용감이 마음에 듭니다~  \n",
       "2   디자인이 넘 취향이라 구매했는데 생각했던거보다 핏도 너무 예쁘고 말라보임 핑크 리본...  \n",
       "3   여름에 리본 슬리브리스 구매할까 말까~ 고민했었는데 FW시즌에 너무 귀여운 가디건이...  \n",
       "4   발레코어st 가디건 찾고 있었는데 딱 원하는 디자인이라 바로 구매했어요 얇은데 라인...  \n",
       "5   상세 사이즈보고이 옷 되게 작겠다,, 싶었음그러나 리본 너무 기여워서 못 참고 구매...  \n",
       "6                    친구에게 선물로 줬누ㅡㄴ데 친구가 좋아해 줬어요 예뻐요!!  \n",
       "7                     하아.. 진짜 예쁘게 말라보이는 핏 너무 맘에 들어욧..  \n",
       "8          생각했던거보다 핏도 너무 예쁘고 말라보임 핑크 리본 디테일듀 너무 취저에요   \n",
       "0                        예뻐영 날씨 좀만 괜찮아지명 입으려구용 지금은 추움  \n",
       "1   굿 완전 강추 합니다!!! 투웨이라 아주 편하고 지퍼 끝까지 올려 입어도 이쁘네요 ...  \n",
       "2   상품 사진 봤을 때 그렇게 널널하지 않을 거라는 예상했습니당다른 분들한테는 괜찮은 ...  \n",
       "3          지금 완전 잘 입고 있어요 너무 이쁘고 맘애 들어요 어디든지 다 잘 어울려요  \n",
       "4   생각보다 되게 따뜻하고 포닥포닥하네요세일할 때 잘 산 것 같아요떡볶이 코트 겸 추리...  \n",
       "5   전 디자인과 색상이 너무 맘에 들어서 구매했습니당1. 색상 : 상세페이지 그대로, ...  \n",
       "6   옷 재질이 좋아하는 재질은 아닌데 디자인이 너무 귀엽잖아요 그럼 사야지..하고 구매...  \n",
       "7   문고리뷰 죄송… 근데 옷이 진짜 귀염뽀짝하고 안에 누빔이라 따뜻함 색도 배색이라 넘...  \n",
       "8                        떡코 너무귀엽다 색 조합도 은근 귀여워서 구매햇서여  \n",
       "9                           아직 구매해놓고 안입었지만 진짜 예뻐요 디자인  \n",
       "10  너무 귀여워요ㅜ 근데 늦게 사서 지금 못입고 다니지만 따뜻해지면 맨날 입고다닐거에요...  \n",
       "11           이거 미쳤는데요…진짜 핏 미쳤습니다 너무 예뻐요힙하고 러블리하고 다 해요  \n",
       "12  디자인이 너무 기엽고 생각보다 두꺼워서 겨울에도 잘 입을 것 같아요 배송도 빠르고 ...  \n",
       "13                      귀엽고 부해보이지 않아서 좋아요 촉감도 부드럽습니다!  \n",
       "14  생각보다 가벼워요. 마이재질에 누빔도 있고 무거울거라 생각했는데 가벼워요. 근데 따...  \n",
       "15  조금 넉넉할 줄 알았는데 생각한 것보다 팔이나 몸통이 딱맞아요 안에 누빔 처리 되어...  \n",
       "16  누빔 덕분에 생각보다 두꺼워서 따뜻하게 입을 수 있을 것 같고 여기저기 걸쳐도 잘 ...  \n",
       "17  옷 색감이쁜고 잘 맞아요 잠구는 회색 플라스틱단추가 할짝 싸구려느낌인거 빼고좋습니다...  \n",
       "18  완전 귀여워요 만나는 사람들마다 귀엽다구 해줌요 ㅎㅎ 마감이 좀 안 좋은 부분이 있...  \n",
       "19                      디자인 너무귀여워요!! 떡볶이 디자인이하 너무 좋아툥  \n",
       "20  배송이 진짜 너무 빨리와서 깜짝놀랐어요!! 그리고 가격이 저렴해서 너무 좋고 재질도...  \n",
       "21                          아직 구매해놓고 안입었지만 진짜 예뻐요 디자인  \n",
       "22     너무 귀여워요ㅜ 근데 늦게 사서 지금 못입고 다니지만 따뜻해지면 맨날 입고다닐거에요  \n",
       "23  상품 사진 봤을 때 그렇게 널널하지 않을 거라는 예상했습니당다른 분들한테는 괜찮은 ...  \n",
       "24                   색깔 조합이 이뻐서 구매했어요. 길이도 적당하고 예쁩니다.  \n",
       "25   실제로 보니까 더 이뻐요 그냥 도톰한 외투 인줄 알았는데 안에 누빔이 있어서 더 좋아요  \n",
       "26                색깔이 맘에 들고 두께도 지금 입기에 좋아요디자인도 맘에 들어요  \n",
       "27     생각보다 두껍고 그래서 그런지 좀 무거워요 요즘 날씨가 다시 더워져서 입으면 더워요  "
      ]
     },
     "execution_count": 51,
     "metadata": {},
     "output_type": "execute_result"
    }
   ],
   "source": [
    "df_musinsa_review_raw_4 = df_musinsa_review_raw\n",
    "df_musinsa_review_raw_4"
   ]
  },
  {
   "cell_type": "code",
   "execution_count": 52,
   "metadata": {},
   "outputs": [],
   "source": [
    "df_musinsa_review_raw_4.to_csv('[이청하]review_아우터_240118.csv_4', index=False)"
   ]
  },
  {
   "cell_type": "markdown",
   "metadata": {},
   "source": [
    "---"
   ]
  },
  {
   "cell_type": "markdown",
   "metadata": {
    "jp-MarkdownHeadingCollapsed": true
   },
   "source": [
    "# 무신사 상품 크롤링 결과"
   ]
  },
  {
   "cell_type": "code",
   "execution_count": 98,
   "metadata": {},
   "outputs": [],
   "source": [
    "import pandas as pd\n",
    "\n",
    "df_2_3 = pd.DataFrame({'major_category':major_category,'middle_category': middle_category,'name': names, 'number': numbers, 'limit': limit, 'exclusive': exclusive, 'target_gender': target_gen,\n",
    "              'buy_gender': buy_gen, 'buy_age' : buy_age, 'view': month_view, 'like': like_cnt, 'price': pro_price, 'discount_rate':discount_rate, 'delivery_date': delivery_date,\n",
    "              'rating': pro_rating, 'review': review, 'buy':buy})"
   ]
  },
  {
   "cell_type": "code",
   "execution_count": 99,
   "metadata": {},
   "outputs": [
    {
     "data": {
      "text/html": [
       "<div>\n",
       "<style scoped>\n",
       "    .dataframe tbody tr th:only-of-type {\n",
       "        vertical-align: middle;\n",
       "    }\n",
       "\n",
       "    .dataframe tbody tr th {\n",
       "        vertical-align: top;\n",
       "    }\n",
       "\n",
       "    .dataframe thead th {\n",
       "        text-align: right;\n",
       "    }\n",
       "</style>\n",
       "<table border=\"1\" class=\"dataframe\">\n",
       "  <thead>\n",
       "    <tr style=\"text-align: right;\">\n",
       "      <th></th>\n",
       "      <th>major_category</th>\n",
       "      <th>middle_category</th>\n",
       "      <th>name</th>\n",
       "      <th>number</th>\n",
       "      <th>limit</th>\n",
       "      <th>exclusive</th>\n",
       "      <th>target_gender</th>\n",
       "      <th>buy_gender</th>\n",
       "      <th>buy_age</th>\n",
       "      <th>view</th>\n",
       "      <th>like</th>\n",
       "      <th>price</th>\n",
       "      <th>discount_rate</th>\n",
       "      <th>delivery_date</th>\n",
       "      <th>rating</th>\n",
       "      <th>review</th>\n",
       "      <th>buy</th>\n",
       "    </tr>\n",
       "  </thead>\n",
       "  <tbody>\n",
       "    <tr>\n",
       "      <th>0</th>\n",
       "      <td>아우터</td>\n",
       "      <td>숏패딩/숏헤비 아우터</td>\n",
       "      <td>MOLDY DYED PUFFER JACKET BLACK</td>\n",
       "      <td>FDRWCUA101M</td>\n",
       "      <td>0</td>\n",
       "      <td>0</td>\n",
       "      <td>2</td>\n",
       "      <td>0</td>\n",
       "      <td>(24~28세, 0)</td>\n",
       "      <td>3400.0</td>\n",
       "      <td>634</td>\n",
       "      <td>296100.0</td>\n",
       "      <td>10</td>\n",
       "      <td>4</td>\n",
       "      <td>4.8</td>\n",
       "      <td>18</td>\n",
       "      <td>50.0</td>\n",
       "    </tr>\n",
       "    <tr>\n",
       "      <th>1</th>\n",
       "      <td>아우터</td>\n",
       "      <td>숏패딩/숏헤비 아우터</td>\n",
       "      <td>072903 경량 바머 자켓</td>\n",
       "      <td>5000402643</td>\n",
       "      <td>0</td>\n",
       "      <td>0</td>\n",
       "      <td>0</td>\n",
       "      <td>0</td>\n",
       "      <td>(24~28세, 0)</td>\n",
       "      <td>650.0</td>\n",
       "      <td>188</td>\n",
       "      <td>58800.0</td>\n",
       "      <td>63</td>\n",
       "      <td>4</td>\n",
       "      <td>4.7</td>\n",
       "      <td>7</td>\n",
       "      <td>50.0</td>\n",
       "    </tr>\n",
       "  </tbody>\n",
       "</table>\n",
       "</div>"
      ],
      "text/plain": [
       "  major_category middle_category                            name       number  \\\n",
       "0            아우터     숏패딩/숏헤비 아우터  MOLDY DYED PUFFER JACKET BLACK  FDRWCUA101M   \n",
       "1            아우터     숏패딩/숏헤비 아우터                 072903 경량 바머 자켓   5000402643   \n",
       "\n",
       "   limit  exclusive  target_gender  buy_gender      buy_age    view  like  \\\n",
       "0      0          0              2           0  (24~28세, 0)  3400.0   634   \n",
       "1      0          0              0           0  (24~28세, 0)   650.0   188   \n",
       "\n",
       "      price discount_rate  delivery_date  rating  review   buy  \n",
       "0  296100.0            10              4     4.8      18  50.0  \n",
       "1   58800.0            63              4     4.7       7  50.0  "
      ]
     },
     "execution_count": 99,
     "metadata": {},
     "output_type": "execute_result"
    }
   ],
   "source": [
    "df_2_3"
   ]
  },
  {
   "cell_type": "code",
   "execution_count": 100,
   "metadata": {},
   "outputs": [],
   "source": [
    "df_2_3.to_csv('[이청하]musinsa_아우터_240118_2_3.csv', index=False)"
   ]
  },
  {
   "cell_type": "markdown",
   "metadata": {},
   "source": [
    "---"
   ]
  },
  {
   "cell_type": "code",
   "execution_count": 89,
   "metadata": {},
   "outputs": [],
   "source": [
    "import pandas as pd\n",
    "\n",
    "df_2_2 = pd.DataFrame({'major_category':major_category,'middle_category': middle_category,'name': names, 'number': numbers, 'limit': limit, 'exclusive': exclusive, 'target_gender': target_gen,\n",
    "              'buy_gender': buy_gen, 'buy_age' : buy_age, 'view': month_view, 'like': like_cnt, 'price': pro_price, 'discount_rate':discount_rate, 'delivery_date': delivery_date,\n",
    "              'rating': pro_rating, 'review': review, 'buy':buy})"
   ]
  },
  {
   "cell_type": "code",
   "execution_count": 90,
   "metadata": {},
   "outputs": [
    {
     "data": {
      "text/html": [
       "<div>\n",
       "<style scoped>\n",
       "    .dataframe tbody tr th:only-of-type {\n",
       "        vertical-align: middle;\n",
       "    }\n",
       "\n",
       "    .dataframe tbody tr th {\n",
       "        vertical-align: top;\n",
       "    }\n",
       "\n",
       "    .dataframe thead th {\n",
       "        text-align: right;\n",
       "    }\n",
       "</style>\n",
       "<table border=\"1\" class=\"dataframe\">\n",
       "  <thead>\n",
       "    <tr style=\"text-align: right;\">\n",
       "      <th></th>\n",
       "      <th>major_category</th>\n",
       "      <th>middle_category</th>\n",
       "      <th>name</th>\n",
       "      <th>number</th>\n",
       "      <th>limit</th>\n",
       "      <th>exclusive</th>\n",
       "      <th>target_gender</th>\n",
       "      <th>buy_gender</th>\n",
       "      <th>buy_age</th>\n",
       "      <th>view</th>\n",
       "      <th>like</th>\n",
       "      <th>price</th>\n",
       "      <th>discount_rate</th>\n",
       "      <th>delivery_date</th>\n",
       "      <th>rating</th>\n",
       "      <th>review</th>\n",
       "      <th>buy</th>\n",
       "    </tr>\n",
       "  </thead>\n",
       "  <tbody>\n",
       "    <tr>\n",
       "      <th>0</th>\n",
       "      <td>아우터</td>\n",
       "      <td>블루종/MA-1</td>\n",
       "      <td>Flight Jumper Olive</td>\n",
       "      <td>RS2323151</td>\n",
       "      <td>0</td>\n",
       "      <td>0</td>\n",
       "      <td>0</td>\n",
       "      <td>NaN</td>\n",
       "      <td>(24~28세, 0)</td>\n",
       "      <td>1100.0</td>\n",
       "      <td>171</td>\n",
       "      <td>368000.0</td>\n",
       "      <td>0</td>\n",
       "      <td>4</td>\n",
       "      <td>5.0</td>\n",
       "      <td>2</td>\n",
       "      <td>NaN</td>\n",
       "    </tr>\n",
       "    <tr>\n",
       "      <th>1</th>\n",
       "      <td>아우터</td>\n",
       "      <td>겨울 기타 코트</td>\n",
       "      <td>세인트 오버핏 프리미엄 울 더플코트 [NAVY]</td>\n",
       "      <td>DFCT2409NV</td>\n",
       "      <td>1</td>\n",
       "      <td>0</td>\n",
       "      <td>0</td>\n",
       "      <td>0.0</td>\n",
       "      <td>(29~33세, 0)</td>\n",
       "      <td>2700.0</td>\n",
       "      <td>1914</td>\n",
       "      <td>254400.0</td>\n",
       "      <td>20</td>\n",
       "      <td>4</td>\n",
       "      <td>4.8</td>\n",
       "      <td>336</td>\n",
       "      <td>50.0</td>\n",
       "    </tr>\n",
       "    <tr>\n",
       "      <th>2</th>\n",
       "      <td>아우터</td>\n",
       "      <td>숏패딩/숏헤비 아우터</td>\n",
       "      <td>하이넥 아웃포켓 구스 다운 [라이트그레이]</td>\n",
       "      <td>TMPD012140LGR</td>\n",
       "      <td>0</td>\n",
       "      <td>0</td>\n",
       "      <td>0</td>\n",
       "      <td>0.0</td>\n",
       "      <td>(40세~, 0)</td>\n",
       "      <td>3700.0</td>\n",
       "      <td>540</td>\n",
       "      <td>59000.0</td>\n",
       "      <td>75</td>\n",
       "      <td>5</td>\n",
       "      <td>4.7</td>\n",
       "      <td>44</td>\n",
       "      <td>50.0</td>\n",
       "    </tr>\n",
       "    <tr>\n",
       "      <th>3</th>\n",
       "      <td>아우터</td>\n",
       "      <td>스타디움 재킷</td>\n",
       "      <td>VELVET VARSITY JACKET BLACK</td>\n",
       "      <td>RS-V02</td>\n",
       "      <td>0</td>\n",
       "      <td>0</td>\n",
       "      <td>2</td>\n",
       "      <td>0.0</td>\n",
       "      <td>(19~23세, 0)</td>\n",
       "      <td>2900.0</td>\n",
       "      <td>9969</td>\n",
       "      <td>153300.0</td>\n",
       "      <td>30</td>\n",
       "      <td>4</td>\n",
       "      <td>4.9</td>\n",
       "      <td>1293</td>\n",
       "      <td>800.0</td>\n",
       "    </tr>\n",
       "    <tr>\n",
       "      <th>4</th>\n",
       "      <td>아우터</td>\n",
       "      <td>롱패딩/롱헤비 아우터</td>\n",
       "      <td>FW23 UNISEX PADDED BALLOON LONG COAT #BLACK</td>\n",
       "      <td>312321</td>\n",
       "      <td>0</td>\n",
       "      <td>0</td>\n",
       "      <td>1</td>\n",
       "      <td>NaN</td>\n",
       "      <td>(~18세, 0)</td>\n",
       "      <td>600.0</td>\n",
       "      <td>103</td>\n",
       "      <td>320000.0</td>\n",
       "      <td>0</td>\n",
       "      <td>5</td>\n",
       "      <td>NaN</td>\n",
       "      <td>0</td>\n",
       "      <td>NaN</td>\n",
       "    </tr>\n",
       "    <tr>\n",
       "      <th>5</th>\n",
       "      <td>아우터</td>\n",
       "      <td>롱패딩/롱헤비 아우터</td>\n",
       "      <td>여성 퀼팅 립스탑 라이닝 W QUILTED RIPSTOP LINIG</td>\n",
       "      <td>WO136QJJPZ07IV</td>\n",
       "      <td>0</td>\n",
       "      <td>0</td>\n",
       "      <td>1</td>\n",
       "      <td>1.0</td>\n",
       "      <td>(40세~, 0)</td>\n",
       "      <td>3000.0</td>\n",
       "      <td>512</td>\n",
       "      <td>59000.0</td>\n",
       "      <td>63</td>\n",
       "      <td>5</td>\n",
       "      <td>4.8</td>\n",
       "      <td>8</td>\n",
       "      <td>50.0</td>\n",
       "    </tr>\n",
       "    <tr>\n",
       "      <th>6</th>\n",
       "      <td>스포츠/용품</td>\n",
       "      <td>아우터</td>\n",
       "      <td>5219JS238 남성  망사 등판 초경량  방풍 자켓</td>\n",
       "      <td>5219JS238BL</td>\n",
       "      <td>0</td>\n",
       "      <td>0</td>\n",
       "      <td>0</td>\n",
       "      <td>NaN</td>\n",
       "      <td>(0, 0)</td>\n",
       "      <td>500.0</td>\n",
       "      <td>10</td>\n",
       "      <td>14900.0</td>\n",
       "      <td>89</td>\n",
       "      <td>4</td>\n",
       "      <td>NaN</td>\n",
       "      <td>0</td>\n",
       "      <td>NaN</td>\n",
       "    </tr>\n",
       "    <tr>\n",
       "      <th>7</th>\n",
       "      <td>아우터</td>\n",
       "      <td>스타디움 재킷</td>\n",
       "      <td>남성 새틴 테디 재킷 - 블랙 / KM02233WQ0052P198</td>\n",
       "      <td>KM02233WQ0052P198SS23</td>\n",
       "      <td>0</td>\n",
       "      <td>0</td>\n",
       "      <td>0</td>\n",
       "      <td>0.0</td>\n",
       "      <td>(29~33세, 0)</td>\n",
       "      <td>1500.0</td>\n",
       "      <td>487</td>\n",
       "      <td>397000.0</td>\n",
       "      <td>42</td>\n",
       "      <td>4</td>\n",
       "      <td>4.9</td>\n",
       "      <td>19</td>\n",
       "      <td>50.0</td>\n",
       "    </tr>\n",
       "    <tr>\n",
       "      <th>8</th>\n",
       "      <td>아우터</td>\n",
       "      <td>후드 집업</td>\n",
       "      <td>남성 클래식 버니 3 집업 후드 - 차콜 멜란지 / M32MS600210</td>\n",
       "      <td>M32MS600210FW23</td>\n",
       "      <td>0</td>\n",
       "      <td>0</td>\n",
       "      <td>0</td>\n",
       "      <td>0.0</td>\n",
       "      <td>(40세~, 0)</td>\n",
       "      <td>2200.0</td>\n",
       "      <td>175</td>\n",
       "      <td>373000.0</td>\n",
       "      <td>41</td>\n",
       "      <td>4</td>\n",
       "      <td>5.0</td>\n",
       "      <td>13</td>\n",
       "      <td>50.0</td>\n",
       "    </tr>\n",
       "    <tr>\n",
       "      <th>9</th>\n",
       "      <td>아우터</td>\n",
       "      <td>베스트</td>\n",
       "      <td>케이블 니트 코튼 V넥 스웨터 베스트 - 화이트</td>\n",
       "      <td>WMPOSWENC020681-100</td>\n",
       "      <td>0</td>\n",
       "      <td>0</td>\n",
       "      <td>1</td>\n",
       "      <td>1.0</td>\n",
       "      <td>(29~33세, 0)</td>\n",
       "      <td>1800.0</td>\n",
       "      <td>2024</td>\n",
       "      <td>199000.0</td>\n",
       "      <td>0</td>\n",
       "      <td>4</td>\n",
       "      <td>4.9</td>\n",
       "      <td>64</td>\n",
       "      <td>150.0</td>\n",
       "    </tr>\n",
       "  </tbody>\n",
       "</table>\n",
       "</div>"
      ],
      "text/plain": [
       "  major_category middle_category                                         name  \\\n",
       "0            아우터        블루종/MA-1                          Flight Jumper Olive   \n",
       "1            아우터        겨울 기타 코트                   세인트 오버핏 프리미엄 울 더플코트 [NAVY]   \n",
       "2            아우터     숏패딩/숏헤비 아우터                      하이넥 아웃포켓 구스 다운 [라이트그레이]   \n",
       "3            아우터         스타디움 재킷                  VELVET VARSITY JACKET BLACK   \n",
       "4            아우터     롱패딩/롱헤비 아우터  FW23 UNISEX PADDED BALLOON LONG COAT #BLACK   \n",
       "5            아우터     롱패딩/롱헤비 아우터        여성 퀼팅 립스탑 라이닝 W QUILTED RIPSTOP LINIG   \n",
       "6         스포츠/용품             아우터               5219JS238 남성  망사 등판 초경량  방풍 자켓   \n",
       "7            아우터         스타디움 재킷         남성 새틴 테디 재킷 - 블랙 / KM02233WQ0052P198   \n",
       "8            아우터           후드 집업     남성 클래식 버니 3 집업 후드 - 차콜 멜란지 / M32MS600210   \n",
       "9            아우터             베스트                   케이블 니트 코튼 V넥 스웨터 베스트 - 화이트   \n",
       "\n",
       "                  number  limit  exclusive  target_gender  buy_gender  \\\n",
       "0              RS2323151      0          0              0         NaN   \n",
       "1             DFCT2409NV      1          0              0         0.0   \n",
       "2          TMPD012140LGR      0          0              0         0.0   \n",
       "3                 RS-V02      0          0              2         0.0   \n",
       "4                 312321      0          0              1         NaN   \n",
       "5         WO136QJJPZ07IV      0          0              1         1.0   \n",
       "6            5219JS238BL      0          0              0         NaN   \n",
       "7  KM02233WQ0052P198SS23      0          0              0         0.0   \n",
       "8        M32MS600210FW23      0          0              0         0.0   \n",
       "9    WMPOSWENC020681-100      0          0              1         1.0   \n",
       "\n",
       "       buy_age    view  like     price discount_rate  delivery_date  rating  \\\n",
       "0  (24~28세, 0)  1100.0   171  368000.0             0              4     5.0   \n",
       "1  (29~33세, 0)  2700.0  1914  254400.0            20              4     4.8   \n",
       "2    (40세~, 0)  3700.0   540   59000.0            75              5     4.7   \n",
       "3  (19~23세, 0)  2900.0  9969  153300.0            30              4     4.9   \n",
       "4    (~18세, 0)   600.0   103  320000.0             0              5     NaN   \n",
       "5    (40세~, 0)  3000.0   512   59000.0            63              5     4.8   \n",
       "6       (0, 0)   500.0    10   14900.0            89              4     NaN   \n",
       "7  (29~33세, 0)  1500.0   487  397000.0            42              4     4.9   \n",
       "8    (40세~, 0)  2200.0   175  373000.0            41              4     5.0   \n",
       "9  (29~33세, 0)  1800.0  2024  199000.0             0              4     4.9   \n",
       "\n",
       "   review    buy  \n",
       "0       2    NaN  \n",
       "1     336   50.0  \n",
       "2      44   50.0  \n",
       "3    1293  800.0  \n",
       "4       0    NaN  \n",
       "5       8   50.0  \n",
       "6       0    NaN  \n",
       "7      19   50.0  \n",
       "8      13   50.0  \n",
       "9      64  150.0  "
      ]
     },
     "execution_count": 90,
     "metadata": {},
     "output_type": "execute_result"
    }
   ],
   "source": [
    "df_2_2"
   ]
  },
  {
   "cell_type": "code",
   "execution_count": 91,
   "metadata": {},
   "outputs": [],
   "source": [
    "df_2_2.to_csv('[이청하]musinsa_아우터_240118_2_2.csv', index=False)"
   ]
  },
  {
   "cell_type": "markdown",
   "metadata": {},
   "source": [
    "---"
   ]
  },
  {
   "cell_type": "code",
   "execution_count": 70,
   "metadata": {},
   "outputs": [],
   "source": [
    "import pandas as pd\n",
    "\n",
    "df_1_3 = pd.DataFrame({'major_category':major_category,'middle_category': middle_category,'name': names, 'number': numbers, 'limit': limit, 'exclusive': exclusive, 'target_gender': target_gen,\n",
    "              'buy_gender': buy_gen, 'buy_age' : buy_age, 'view': month_view, 'like': like_cnt, 'price': pro_price, 'discount_rate':discount_rate, 'delivery_date': delivery_date,\n",
    "              'rating': pro_rating, 'review': review, 'buy':buy})"
   ]
  },
  {
   "cell_type": "code",
   "execution_count": 71,
   "metadata": {},
   "outputs": [
    {
     "data": {
      "text/html": [
       "<div>\n",
       "<style scoped>\n",
       "    .dataframe tbody tr th:only-of-type {\n",
       "        vertical-align: middle;\n",
       "    }\n",
       "\n",
       "    .dataframe tbody tr th {\n",
       "        vertical-align: top;\n",
       "    }\n",
       "\n",
       "    .dataframe thead th {\n",
       "        text-align: right;\n",
       "    }\n",
       "</style>\n",
       "<table border=\"1\" class=\"dataframe\">\n",
       "  <thead>\n",
       "    <tr style=\"text-align: right;\">\n",
       "      <th></th>\n",
       "      <th>major_category</th>\n",
       "      <th>middle_category</th>\n",
       "      <th>name</th>\n",
       "      <th>number</th>\n",
       "      <th>limit</th>\n",
       "      <th>exclusive</th>\n",
       "      <th>target_gender</th>\n",
       "      <th>buy_gender</th>\n",
       "      <th>buy_age</th>\n",
       "      <th>view</th>\n",
       "      <th>like</th>\n",
       "      <th>price</th>\n",
       "      <th>discount_rate</th>\n",
       "      <th>delivery_date</th>\n",
       "      <th>rating</th>\n",
       "      <th>review</th>\n",
       "      <th>buy</th>\n",
       "    </tr>\n",
       "  </thead>\n",
       "  <tbody>\n",
       "    <tr>\n",
       "      <th>0</th>\n",
       "      <td>아우터</td>\n",
       "      <td>기타 아우터</td>\n",
       "      <td>라이트 다운 블루종 재킷 [블랙]</td>\n",
       "      <td>MHJK5003-BK</td>\n",
       "      <td>0</td>\n",
       "      <td>1</td>\n",
       "      <td>0</td>\n",
       "      <td>0.0</td>\n",
       "      <td>(40세~, 0)</td>\n",
       "      <td>1600.0</td>\n",
       "      <td>2151</td>\n",
       "      <td>52390.0</td>\n",
       "      <td>25</td>\n",
       "      <td>3</td>\n",
       "      <td>4.8</td>\n",
       "      <td>1738</td>\n",
       "      <td>500.0</td>\n",
       "    </tr>\n",
       "    <tr>\n",
       "      <th>1</th>\n",
       "      <td>아우터</td>\n",
       "      <td>숏패딩/숏헤비 아우터</td>\n",
       "      <td>덱 패딩 자켓(카키)</td>\n",
       "      <td>NPD0062KHZ</td>\n",
       "      <td>1</td>\n",
       "      <td>0</td>\n",
       "      <td>0</td>\n",
       "      <td>0.0</td>\n",
       "      <td>(29~33세, 0)</td>\n",
       "      <td>6700.0</td>\n",
       "      <td>784</td>\n",
       "      <td>56700.0</td>\n",
       "      <td>70</td>\n",
       "      <td>5</td>\n",
       "      <td>4.8</td>\n",
       "      <td>58</td>\n",
       "      <td>200.0</td>\n",
       "    </tr>\n",
       "    <tr>\n",
       "      <th>2</th>\n",
       "      <td>아우터</td>\n",
       "      <td>스타디움 재킷</td>\n",
       "      <td>R 시티 헤비 바시티자켓 (딥 그린)</td>\n",
       "      <td>RWJK22003GR</td>\n",
       "      <td>0</td>\n",
       "      <td>0</td>\n",
       "      <td>0</td>\n",
       "      <td>0.0</td>\n",
       "      <td>(40세~, 0)</td>\n",
       "      <td>5000.0</td>\n",
       "      <td>5558</td>\n",
       "      <td>89600.0</td>\n",
       "      <td>30</td>\n",
       "      <td>4</td>\n",
       "      <td>4.8</td>\n",
       "      <td>168</td>\n",
       "      <td>700.0</td>\n",
       "    </tr>\n",
       "    <tr>\n",
       "      <th>3</th>\n",
       "      <td>아우터</td>\n",
       "      <td>카디건</td>\n",
       "      <td>울 부클 카라 가디건 니트 (IVORY)</td>\n",
       "      <td>TRFKN06IV</td>\n",
       "      <td>1</td>\n",
       "      <td>0</td>\n",
       "      <td>2</td>\n",
       "      <td>0.0</td>\n",
       "      <td>(19~23세, 0)</td>\n",
       "      <td>3800.0</td>\n",
       "      <td>912</td>\n",
       "      <td>43050.0</td>\n",
       "      <td>27</td>\n",
       "      <td>5</td>\n",
       "      <td>4.8</td>\n",
       "      <td>70</td>\n",
       "      <td>200.0</td>\n",
       "    </tr>\n",
       "    <tr>\n",
       "      <th>4</th>\n",
       "      <td>아우터</td>\n",
       "      <td>나일론/코치 재킷</td>\n",
       "      <td>T-Light Jacket Black</td>\n",
       "      <td>TN230WOWLS02BK</td>\n",
       "      <td>0</td>\n",
       "      <td>0</td>\n",
       "      <td>2</td>\n",
       "      <td>1.0</td>\n",
       "      <td>(19~23세, 0)</td>\n",
       "      <td>4400.0</td>\n",
       "      <td>4373</td>\n",
       "      <td>65400.0</td>\n",
       "      <td>40</td>\n",
       "      <td>5</td>\n",
       "      <td>4.9</td>\n",
       "      <td>308</td>\n",
       "      <td>1000.0</td>\n",
       "    </tr>\n",
       "    <tr>\n",
       "      <th>...</th>\n",
       "      <td>...</td>\n",
       "      <td>...</td>\n",
       "      <td>...</td>\n",
       "      <td>...</td>\n",
       "      <td>...</td>\n",
       "      <td>...</td>\n",
       "      <td>...</td>\n",
       "      <td>...</td>\n",
       "      <td>...</td>\n",
       "      <td>...</td>\n",
       "      <td>...</td>\n",
       "      <td>...</td>\n",
       "      <td>...</td>\n",
       "      <td>...</td>\n",
       "      <td>...</td>\n",
       "      <td>...</td>\n",
       "      <td>...</td>\n",
       "    </tr>\n",
       "    <tr>\n",
       "      <th>69</th>\n",
       "      <td>아우터</td>\n",
       "      <td>숏패딩/숏헤비 아우터</td>\n",
       "      <td>리버서블 덤블 숏푸퍼  WHJPD1192U</td>\n",
       "      <td>WHJPD1192U</td>\n",
       "      <td>1</td>\n",
       "      <td>0</td>\n",
       "      <td>0</td>\n",
       "      <td>1.0</td>\n",
       "      <td>(19~23세, 0)</td>\n",
       "      <td>8000.0</td>\n",
       "      <td>19633</td>\n",
       "      <td>129000.0</td>\n",
       "      <td>0</td>\n",
       "      <td>4</td>\n",
       "      <td>4.9</td>\n",
       "      <td>3524</td>\n",
       "      <td>1300.0</td>\n",
       "    </tr>\n",
       "    <tr>\n",
       "      <th>70</th>\n",
       "      <td>스포츠/용품</td>\n",
       "      <td>아우터</td>\n",
       "      <td>NJ1DQ55A 남성 1996 에코 눕시 자켓</td>\n",
       "      <td>NJ1DQ55A</td>\n",
       "      <td>1</td>\n",
       "      <td>0</td>\n",
       "      <td>0</td>\n",
       "      <td>0.0</td>\n",
       "      <td>(24~28세, 40세~)</td>\n",
       "      <td>128000.0</td>\n",
       "      <td>44706</td>\n",
       "      <td>399000.0</td>\n",
       "      <td>0</td>\n",
       "      <td>5</td>\n",
       "      <td>4.9</td>\n",
       "      <td>4939</td>\n",
       "      <td>6200.0</td>\n",
       "    </tr>\n",
       "    <tr>\n",
       "      <th>71</th>\n",
       "      <td>아우터</td>\n",
       "      <td>후드 집업</td>\n",
       "      <td>FLOWER ZIP UP HOOD(BROWN)</td>\n",
       "      <td>HZALZBA</td>\n",
       "      <td>0</td>\n",
       "      <td>0</td>\n",
       "      <td>1</td>\n",
       "      <td>1.0</td>\n",
       "      <td>(19~23세, 0)</td>\n",
       "      <td>1600.0</td>\n",
       "      <td>1067</td>\n",
       "      <td>89000.0</td>\n",
       "      <td>0</td>\n",
       "      <td>4</td>\n",
       "      <td>5.0</td>\n",
       "      <td>35</td>\n",
       "      <td>100.0</td>\n",
       "    </tr>\n",
       "    <tr>\n",
       "      <th>72</th>\n",
       "      <td>아우터</td>\n",
       "      <td>플리스/뽀글이</td>\n",
       "      <td>Y.E.S Boa Fleece Bonded Jacket Black</td>\n",
       "      <td>YES598</td>\n",
       "      <td>0</td>\n",
       "      <td>0</td>\n",
       "      <td>2</td>\n",
       "      <td>1.0</td>\n",
       "      <td>(19~23세, 0)</td>\n",
       "      <td>5600.0</td>\n",
       "      <td>1954</td>\n",
       "      <td>63600.0</td>\n",
       "      <td>60</td>\n",
       "      <td>5</td>\n",
       "      <td>4.8</td>\n",
       "      <td>96</td>\n",
       "      <td>100.0</td>\n",
       "    </tr>\n",
       "    <tr>\n",
       "      <th>73</th>\n",
       "      <td>아우터</td>\n",
       "      <td>트레이닝 재킷</td>\n",
       "      <td>베켄바우어 트랙탑 - 네이비 / IA4776</td>\n",
       "      <td>IA4776</td>\n",
       "      <td>0</td>\n",
       "      <td>0</td>\n",
       "      <td>0</td>\n",
       "      <td>1.0</td>\n",
       "      <td>(~18세, 0)</td>\n",
       "      <td>47000.0</td>\n",
       "      <td>15923</td>\n",
       "      <td>89900.0</td>\n",
       "      <td>14</td>\n",
       "      <td>3</td>\n",
       "      <td>4.9</td>\n",
       "      <td>836</td>\n",
       "      <td>3900.0</td>\n",
       "    </tr>\n",
       "  </tbody>\n",
       "</table>\n",
       "<p>74 rows × 17 columns</p>\n",
       "</div>"
      ],
      "text/plain": [
       "   major_category middle_category                                  name  \\\n",
       "0             아우터          기타 아우터                    라이트 다운 블루종 재킷 [블랙]   \n",
       "1             아우터     숏패딩/숏헤비 아우터                           덱 패딩 자켓(카키)   \n",
       "2             아우터         스타디움 재킷                  R 시티 헤비 바시티자켓 (딥 그린)   \n",
       "3             아우터             카디건                울 부클 카라 가디건 니트 (IVORY)   \n",
       "4             아우터       나일론/코치 재킷                  T-Light Jacket Black   \n",
       "..            ...             ...                                   ...   \n",
       "69            아우터     숏패딩/숏헤비 아우터               리버서블 덤블 숏푸퍼  WHJPD1192U   \n",
       "70         스포츠/용품             아우터             NJ1DQ55A 남성 1996 에코 눕시 자켓   \n",
       "71            아우터           후드 집업             FLOWER ZIP UP HOOD(BROWN)   \n",
       "72            아우터         플리스/뽀글이  Y.E.S Boa Fleece Bonded Jacket Black   \n",
       "73            아우터         트레이닝 재킷              베켄바우어 트랙탑 - 네이비 / IA4776   \n",
       "\n",
       "            number  limit  exclusive  target_gender  buy_gender  \\\n",
       "0      MHJK5003-BK      0          1              0         0.0   \n",
       "1       NPD0062KHZ      1          0              0         0.0   \n",
       "2      RWJK22003GR      0          0              0         0.0   \n",
       "3        TRFKN06IV      1          0              2         0.0   \n",
       "4   TN230WOWLS02BK      0          0              2         1.0   \n",
       "..             ...    ...        ...            ...         ...   \n",
       "69      WHJPD1192U      1          0              0         1.0   \n",
       "70        NJ1DQ55A      1          0              0         0.0   \n",
       "71         HZALZBA      0          0              1         1.0   \n",
       "72          YES598      0          0              2         1.0   \n",
       "73          IA4776      0          0              0         1.0   \n",
       "\n",
       "           buy_age      view   like     price discount_rate  delivery_date  \\\n",
       "0        (40세~, 0)    1600.0   2151   52390.0            25              3   \n",
       "1      (29~33세, 0)    6700.0    784   56700.0            70              5   \n",
       "2        (40세~, 0)    5000.0   5558   89600.0            30              4   \n",
       "3      (19~23세, 0)    3800.0    912   43050.0            27              5   \n",
       "4      (19~23세, 0)    4400.0   4373   65400.0            40              5   \n",
       "..             ...       ...    ...       ...           ...            ...   \n",
       "69     (19~23세, 0)    8000.0  19633  129000.0             0              4   \n",
       "70  (24~28세, 40세~)  128000.0  44706  399000.0             0              5   \n",
       "71     (19~23세, 0)    1600.0   1067   89000.0             0              4   \n",
       "72     (19~23세, 0)    5600.0   1954   63600.0            60              5   \n",
       "73       (~18세, 0)   47000.0  15923   89900.0            14              3   \n",
       "\n",
       "    rating  review     buy  \n",
       "0      4.8    1738   500.0  \n",
       "1      4.8      58   200.0  \n",
       "2      4.8     168   700.0  \n",
       "3      4.8      70   200.0  \n",
       "4      4.9     308  1000.0  \n",
       "..     ...     ...     ...  \n",
       "69     4.9    3524  1300.0  \n",
       "70     4.9    4939  6200.0  \n",
       "71     5.0      35   100.0  \n",
       "72     4.8      96   100.0  \n",
       "73     4.9     836  3900.0  \n",
       "\n",
       "[74 rows x 17 columns]"
      ]
     },
     "execution_count": 71,
     "metadata": {},
     "output_type": "execute_result"
    }
   ],
   "source": [
    "df_1_3"
   ]
  },
  {
   "cell_type": "code",
   "execution_count": 72,
   "metadata": {},
   "outputs": [],
   "source": [
    "df_1_3.to_csv('[이청하]musinsa_아우터_240118_1_3.csv', index=False)"
   ]
  },
  {
   "cell_type": "markdown",
   "metadata": {},
   "source": [
    "---"
   ]
  },
  {
   "cell_type": "code",
   "execution_count": 59,
   "metadata": {},
   "outputs": [],
   "source": [
    "import pandas as pd\n",
    "\n",
    "df_1_2 = pd.DataFrame({'major_category':major_category,'middle_category': middle_category,'name': names, 'number': numbers, 'limit': limit, 'exclusive': exclusive, 'target_gender': target_gen,\n",
    "              'buy_gender': buy_gen, 'buy_age' : buy_age, 'view': month_view, 'like': like_cnt, 'price': pro_price, 'discount_rate':discount_rate, 'delivery_date': delivery_date,\n",
    "              'rating': pro_rating, 'review': review, 'buy':buy})"
   ]
  },
  {
   "cell_type": "code",
   "execution_count": 60,
   "metadata": {},
   "outputs": [
    {
     "data": {
      "text/html": [
       "<div>\n",
       "<style scoped>\n",
       "    .dataframe tbody tr th:only-of-type {\n",
       "        vertical-align: middle;\n",
       "    }\n",
       "\n",
       "    .dataframe tbody tr th {\n",
       "        vertical-align: top;\n",
       "    }\n",
       "\n",
       "    .dataframe thead th {\n",
       "        text-align: right;\n",
       "    }\n",
       "</style>\n",
       "<table border=\"1\" class=\"dataframe\">\n",
       "  <thead>\n",
       "    <tr style=\"text-align: right;\">\n",
       "      <th></th>\n",
       "      <th>major_category</th>\n",
       "      <th>middle_category</th>\n",
       "      <th>name</th>\n",
       "      <th>number</th>\n",
       "      <th>limit</th>\n",
       "      <th>exclusive</th>\n",
       "      <th>target_gender</th>\n",
       "      <th>buy_gender</th>\n",
       "      <th>buy_age</th>\n",
       "      <th>view</th>\n",
       "      <th>like</th>\n",
       "      <th>price</th>\n",
       "      <th>discount_rate</th>\n",
       "      <th>delivery_date</th>\n",
       "      <th>rating</th>\n",
       "      <th>review</th>\n",
       "      <th>buy</th>\n",
       "    </tr>\n",
       "  </thead>\n",
       "  <tbody>\n",
       "    <tr>\n",
       "      <th>0</th>\n",
       "      <td>아우터</td>\n",
       "      <td>블루종/MA-1</td>\n",
       "      <td>비건 스웨이드 오버핏 미니멀 인시전 스트레이트 집업 자켓 [블랙]</td>\n",
       "      <td>B5</td>\n",
       "      <td>1</td>\n",
       "      <td>0</td>\n",
       "      <td>2</td>\n",
       "      <td>0.0</td>\n",
       "      <td>(19~23세, 0)</td>\n",
       "      <td>49000.0</td>\n",
       "      <td>5817</td>\n",
       "      <td>39900.0</td>\n",
       "      <td>71</td>\n",
       "      <td>5</td>\n",
       "      <td>4.8</td>\n",
       "      <td>287</td>\n",
       "      <td>1800.0</td>\n",
       "    </tr>\n",
       "    <tr>\n",
       "      <th>1</th>\n",
       "      <td>아우터</td>\n",
       "      <td>카디건</td>\n",
       "      <td>Minimal Crop Sleeveless Set - 4COL</td>\n",
       "      <td>23SS02</td>\n",
       "      <td>0</td>\n",
       "      <td>0</td>\n",
       "      <td>1</td>\n",
       "      <td>1.0</td>\n",
       "      <td>(24~28세, 0)</td>\n",
       "      <td>11000.0</td>\n",
       "      <td>7959</td>\n",
       "      <td>39750.0</td>\n",
       "      <td>25</td>\n",
       "      <td>60</td>\n",
       "      <td>4.5</td>\n",
       "      <td>144</td>\n",
       "      <td>700.0</td>\n",
       "    </tr>\n",
       "    <tr>\n",
       "      <th>2</th>\n",
       "      <td>아우터</td>\n",
       "      <td>카디건</td>\n",
       "      <td>풀오버 터틀넥 투웨이 케이블 카라 니트 집업 [아이보리]</td>\n",
       "      <td>23FK222-1300</td>\n",
       "      <td>1</td>\n",
       "      <td>0</td>\n",
       "      <td>1</td>\n",
       "      <td>1.0</td>\n",
       "      <td>(19~23세, 0)</td>\n",
       "      <td>5100.0</td>\n",
       "      <td>25473</td>\n",
       "      <td>45000.0</td>\n",
       "      <td>50</td>\n",
       "      <td>10</td>\n",
       "      <td>4.6</td>\n",
       "      <td>1028</td>\n",
       "      <td>700.0</td>\n",
       "    </tr>\n",
       "    <tr>\n",
       "      <th>3</th>\n",
       "      <td>아우터</td>\n",
       "      <td>패딩 베스트</td>\n",
       "      <td>(VLAD) 2WAY 어센틱 패딩 베스트_베이지</td>\n",
       "      <td>VBCOIV01BE</td>\n",
       "      <td>0</td>\n",
       "      <td>1</td>\n",
       "      <td>2</td>\n",
       "      <td>NaN</td>\n",
       "      <td>(~18세, 0)</td>\n",
       "      <td>1800.0</td>\n",
       "      <td>220</td>\n",
       "      <td>0.0</td>\n",
       "      <td>34</td>\n",
       "      <td>5</td>\n",
       "      <td>5.0</td>\n",
       "      <td>1</td>\n",
       "      <td>NaN</td>\n",
       "    </tr>\n",
       "    <tr>\n",
       "      <th>4</th>\n",
       "      <td>아우터</td>\n",
       "      <td>숏패딩/숏헤비 아우터</td>\n",
       "      <td>하이넥 헤비 덕다운 숏패딩 크림</td>\n",
       "      <td>HD23FWJK01</td>\n",
       "      <td>0</td>\n",
       "      <td>0</td>\n",
       "      <td>1</td>\n",
       "      <td>1.0</td>\n",
       "      <td>(19~23세, 0)</td>\n",
       "      <td>2900.0</td>\n",
       "      <td>928</td>\n",
       "      <td>125400.0</td>\n",
       "      <td>40</td>\n",
       "      <td>5</td>\n",
       "      <td>5.0</td>\n",
       "      <td>5</td>\n",
       "      <td>50.0</td>\n",
       "    </tr>\n",
       "    <tr>\n",
       "      <th>5</th>\n",
       "      <td>아우터</td>\n",
       "      <td>기타 아우터</td>\n",
       "      <td>라이트 다운 블루종 재킷 [블랙]</td>\n",
       "      <td>MHJK5003-BK</td>\n",
       "      <td>0</td>\n",
       "      <td>1</td>\n",
       "      <td>0</td>\n",
       "      <td>0.0</td>\n",
       "      <td>(40세~, 0)</td>\n",
       "      <td>1600.0</td>\n",
       "      <td>2151</td>\n",
       "      <td>52390.0</td>\n",
       "      <td>25</td>\n",
       "      <td>3</td>\n",
       "      <td>4.8</td>\n",
       "      <td>1738</td>\n",
       "      <td>500.0</td>\n",
       "    </tr>\n",
       "  </tbody>\n",
       "</table>\n",
       "</div>"
      ],
      "text/plain": [
       "  major_category middle_category                                  name  \\\n",
       "0            아우터        블루종/MA-1  비건 스웨이드 오버핏 미니멀 인시전 스트레이트 집업 자켓 [블랙]   \n",
       "1            아우터             카디건    Minimal Crop Sleeveless Set - 4COL   \n",
       "2            아우터             카디건       풀오버 터틀넥 투웨이 케이블 카라 니트 집업 [아이보리]   \n",
       "3            아우터          패딩 베스트            (VLAD) 2WAY 어센틱 패딩 베스트_베이지   \n",
       "4            아우터     숏패딩/숏헤비 아우터                     하이넥 헤비 덕다운 숏패딩 크림   \n",
       "5            아우터          기타 아우터                    라이트 다운 블루종 재킷 [블랙]   \n",
       "\n",
       "         number  limit  exclusive  target_gender  buy_gender      buy_age  \\\n",
       "0            B5      1          0              2         0.0  (19~23세, 0)   \n",
       "1        23SS02      0          0              1         1.0  (24~28세, 0)   \n",
       "2  23FK222-1300      1          0              1         1.0  (19~23세, 0)   \n",
       "3    VBCOIV01BE      0          1              2         NaN    (~18세, 0)   \n",
       "4    HD23FWJK01      0          0              1         1.0  (19~23세, 0)   \n",
       "5   MHJK5003-BK      0          1              0         0.0    (40세~, 0)   \n",
       "\n",
       "      view   like     price discount_rate  delivery_date  rating  review  \\\n",
       "0  49000.0   5817   39900.0            71              5     4.8     287   \n",
       "1  11000.0   7959   39750.0            25             60     4.5     144   \n",
       "2   5100.0  25473   45000.0            50             10     4.6    1028   \n",
       "3   1800.0    220       0.0            34              5     5.0       1   \n",
       "4   2900.0    928  125400.0            40              5     5.0       5   \n",
       "5   1600.0   2151   52390.0            25              3     4.8    1738   \n",
       "\n",
       "      buy  \n",
       "0  1800.0  \n",
       "1   700.0  \n",
       "2   700.0  \n",
       "3     NaN  \n",
       "4    50.0  \n",
       "5   500.0  "
      ]
     },
     "execution_count": 60,
     "metadata": {},
     "output_type": "execute_result"
    }
   ],
   "source": [
    "df_1_2"
   ]
  },
  {
   "cell_type": "code",
   "execution_count": 61,
   "metadata": {},
   "outputs": [],
   "source": [
    "df_1_2.to_csv('[이청하]musinsa_아우터_240118_1_2.csv', index=False)"
   ]
  },
  {
   "cell_type": "markdown",
   "metadata": {},
   "source": [
    "---"
   ]
  },
  {
   "cell_type": "code",
   "execution_count": 49,
   "metadata": {
    "id": "aaR_xyn2fqin"
   },
   "outputs": [],
   "source": [
    "import pandas as pd\n",
    "\n",
    "df_1 = pd.DataFrame({'major_category':major_category,'middle_category': middle_category,'name': names, 'number': numbers, 'limit': limit, 'exclusive': exclusive, 'target_gender': target_gen,\n",
    "              'buy_gender': buy_gen, 'buy_age' : buy_age, 'view': month_view, 'like': like_cnt, 'price': pro_price, 'discount_rate':discount_rate, 'delivery_date': delivery_date,\n",
    "              'rating': pro_rating, 'review': review, 'buy':buy})"
   ]
  },
  {
   "cell_type": "code",
   "execution_count": 50,
   "metadata": {
    "scrolled": true
   },
   "outputs": [
    {
     "data": {
      "text/html": [
       "<div>\n",
       "<style scoped>\n",
       "    .dataframe tbody tr th:only-of-type {\n",
       "        vertical-align: middle;\n",
       "    }\n",
       "\n",
       "    .dataframe tbody tr th {\n",
       "        vertical-align: top;\n",
       "    }\n",
       "\n",
       "    .dataframe thead th {\n",
       "        text-align: right;\n",
       "    }\n",
       "</style>\n",
       "<table border=\"1\" class=\"dataframe\">\n",
       "  <thead>\n",
       "    <tr style=\"text-align: right;\">\n",
       "      <th></th>\n",
       "      <th>major_category</th>\n",
       "      <th>middle_category</th>\n",
       "      <th>name</th>\n",
       "      <th>number</th>\n",
       "      <th>limit</th>\n",
       "      <th>exclusive</th>\n",
       "      <th>target_gender</th>\n",
       "      <th>buy_gender</th>\n",
       "      <th>buy_age</th>\n",
       "      <th>view</th>\n",
       "      <th>like</th>\n",
       "      <th>price</th>\n",
       "      <th>discount_rate</th>\n",
       "      <th>delivery_date</th>\n",
       "      <th>rating</th>\n",
       "      <th>review</th>\n",
       "      <th>buy</th>\n",
       "    </tr>\n",
       "  </thead>\n",
       "  <tbody>\n",
       "    <tr>\n",
       "      <th>0</th>\n",
       "      <td>아우터</td>\n",
       "      <td>플리스/뽀글이</td>\n",
       "      <td>베이직 플리스 자켓 (U00DTJK59)</td>\n",
       "      <td>2646018</td>\n",
       "      <td>0</td>\n",
       "      <td>0</td>\n",
       "      <td>0</td>\n",
       "      <td>1.0</td>\n",
       "      <td>(~18세, 0)</td>\n",
       "      <td>6300.0</td>\n",
       "      <td>9307</td>\n",
       "      <td>19900.0</td>\n",
       "      <td>53</td>\n",
       "      <td>4</td>\n",
       "      <td>4.7</td>\n",
       "      <td>1092</td>\n",
       "      <td>2800.0</td>\n",
       "    </tr>\n",
       "    <tr>\n",
       "      <th>1</th>\n",
       "      <td>아우터</td>\n",
       "      <td>숏패딩/숏헤비 아우터</td>\n",
       "      <td>베이직 푸퍼_SPJPE11C11</td>\n",
       "      <td>SPJPE11C11</td>\n",
       "      <td>1</td>\n",
       "      <td>0</td>\n",
       "      <td>0</td>\n",
       "      <td>0.0</td>\n",
       "      <td>(19~23세, 0)</td>\n",
       "      <td>560000.0</td>\n",
       "      <td>127420</td>\n",
       "      <td>62910.0</td>\n",
       "      <td>10</td>\n",
       "      <td>5</td>\n",
       "      <td>4.9</td>\n",
       "      <td>42691</td>\n",
       "      <td>76000.0</td>\n",
       "    </tr>\n",
       "    <tr>\n",
       "      <th>2</th>\n",
       "      <td>아우터</td>\n",
       "      <td>플리스/뽀글이</td>\n",
       "      <td>베이직 퍼플리스 집업_SPFZD4TU01</td>\n",
       "      <td>SPFZD4TU01</td>\n",
       "      <td>1</td>\n",
       "      <td>0</td>\n",
       "      <td>0</td>\n",
       "      <td>1.0</td>\n",
       "      <td>(~18세, 0)</td>\n",
       "      <td>97000.0</td>\n",
       "      <td>69998</td>\n",
       "      <td>19900.0</td>\n",
       "      <td>33</td>\n",
       "      <td>5</td>\n",
       "      <td>4.8</td>\n",
       "      <td>26197</td>\n",
       "      <td>66000.0</td>\n",
       "    </tr>\n",
       "    <tr>\n",
       "      <th>3</th>\n",
       "      <td>아우터</td>\n",
       "      <td>숏패딩/숏헤비 아우터</td>\n",
       "      <td>파이핑 덕 다운 패딩_블랙_OL255</td>\n",
       "      <td>OL255</td>\n",
       "      <td>0</td>\n",
       "      <td>0</td>\n",
       "      <td>2</td>\n",
       "      <td>0.0</td>\n",
       "      <td>(24~28세, 0)</td>\n",
       "      <td>27000.0</td>\n",
       "      <td>2639</td>\n",
       "      <td>54900.0</td>\n",
       "      <td>77</td>\n",
       "      <td>4</td>\n",
       "      <td>4.7</td>\n",
       "      <td>73</td>\n",
       "      <td>400.0</td>\n",
       "    </tr>\n",
       "    <tr>\n",
       "      <th>4</th>\n",
       "      <td>아우터</td>\n",
       "      <td>후드 집업</td>\n",
       "      <td>2WAY 스웻 후드 집업 (MELANGE GREY)</td>\n",
       "      <td>TAF-2WHZU01MG</td>\n",
       "      <td>1</td>\n",
       "      <td>0</td>\n",
       "      <td>2</td>\n",
       "      <td>0.0</td>\n",
       "      <td>(19~23세, 0)</td>\n",
       "      <td>96000.0</td>\n",
       "      <td>217723</td>\n",
       "      <td>39000.0</td>\n",
       "      <td>13</td>\n",
       "      <td>4</td>\n",
       "      <td>4.8</td>\n",
       "      <td>81354</td>\n",
       "      <td>10000.0</td>\n",
       "    </tr>\n",
       "    <tr>\n",
       "      <th>...</th>\n",
       "      <td>...</td>\n",
       "      <td>...</td>\n",
       "      <td>...</td>\n",
       "      <td>...</td>\n",
       "      <td>...</td>\n",
       "      <td>...</td>\n",
       "      <td>...</td>\n",
       "      <td>...</td>\n",
       "      <td>...</td>\n",
       "      <td>...</td>\n",
       "      <td>...</td>\n",
       "      <td>...</td>\n",
       "      <td>...</td>\n",
       "      <td>...</td>\n",
       "      <td>...</td>\n",
       "      <td>...</td>\n",
       "      <td>...</td>\n",
       "    </tr>\n",
       "    <tr>\n",
       "      <th>95</th>\n",
       "      <td>아우터</td>\n",
       "      <td>후드 집업</td>\n",
       "      <td>[세트] 돌핀 자수 엣지 기모 후디 짚업 조거 트레이닝 팬츠 블랙</td>\n",
       "      <td>134522722BK</td>\n",
       "      <td>0</td>\n",
       "      <td>0</td>\n",
       "      <td>0</td>\n",
       "      <td>1.0</td>\n",
       "      <td>(40세~, 0)</td>\n",
       "      <td>450.0</td>\n",
       "      <td>59</td>\n",
       "      <td>99800.0</td>\n",
       "      <td>50</td>\n",
       "      <td>4</td>\n",
       "      <td>5.0</td>\n",
       "      <td>9</td>\n",
       "      <td>50.0</td>\n",
       "    </tr>\n",
       "    <tr>\n",
       "      <th>96</th>\n",
       "      <td>아우터</td>\n",
       "      <td>패딩 베스트</td>\n",
       "      <td>여성 에어 플러스 R넥 구스다운 베스트_PHB5VP2012</td>\n",
       "      <td>PHB5VP2012</td>\n",
       "      <td>0</td>\n",
       "      <td>0</td>\n",
       "      <td>1</td>\n",
       "      <td>1.0</td>\n",
       "      <td>(40세~, 0)</td>\n",
       "      <td>1600.0</td>\n",
       "      <td>104</td>\n",
       "      <td>14900.0</td>\n",
       "      <td>79</td>\n",
       "      <td>5</td>\n",
       "      <td>5.0</td>\n",
       "      <td>11</td>\n",
       "      <td>50.0</td>\n",
       "    </tr>\n",
       "    <tr>\n",
       "      <th>97</th>\n",
       "      <td>아우터</td>\n",
       "      <td>후드 집업</td>\n",
       "      <td>YOUHEE RIBBON HOOD ZIP-UP</td>\n",
       "      <td>YHHZDC001MG</td>\n",
       "      <td>0</td>\n",
       "      <td>0</td>\n",
       "      <td>1</td>\n",
       "      <td>1.0</td>\n",
       "      <td>(24~28세, 0)</td>\n",
       "      <td>14000.0</td>\n",
       "      <td>7333</td>\n",
       "      <td>87200.0</td>\n",
       "      <td>20</td>\n",
       "      <td>4</td>\n",
       "      <td>4.8</td>\n",
       "      <td>534</td>\n",
       "      <td>1700.0</td>\n",
       "    </tr>\n",
       "    <tr>\n",
       "      <th>98</th>\n",
       "      <td>아우터</td>\n",
       "      <td>패딩 베스트</td>\n",
       "      <td>N234UDV950 칼리스 MODULA 경량 구스 다운 베스트 CARBON BLACK</td>\n",
       "      <td>N234UDV950/N234UDV050</td>\n",
       "      <td>0</td>\n",
       "      <td>0</td>\n",
       "      <td>0</td>\n",
       "      <td>1.0</td>\n",
       "      <td>(40세~, 0)</td>\n",
       "      <td>3300.0</td>\n",
       "      <td>161</td>\n",
       "      <td>89000.0</td>\n",
       "      <td>10</td>\n",
       "      <td>4</td>\n",
       "      <td>4.8</td>\n",
       "      <td>25</td>\n",
       "      <td>100.0</td>\n",
       "    </tr>\n",
       "    <tr>\n",
       "      <th>99</th>\n",
       "      <td>아우터</td>\n",
       "      <td>후드 집업</td>\n",
       "      <td>유스풀 벌룬 후드집업 네이비 SJHD1327</td>\n",
       "      <td>2170224</td>\n",
       "      <td>0</td>\n",
       "      <td>0</td>\n",
       "      <td>0</td>\n",
       "      <td>0.0</td>\n",
       "      <td>(~18세, 0)</td>\n",
       "      <td>11000.0</td>\n",
       "      <td>29728</td>\n",
       "      <td>39800.0</td>\n",
       "      <td>30</td>\n",
       "      <td>4</td>\n",
       "      <td>4.8</td>\n",
       "      <td>2311</td>\n",
       "      <td>8100.0</td>\n",
       "    </tr>\n",
       "  </tbody>\n",
       "</table>\n",
       "<p>100 rows × 17 columns</p>\n",
       "</div>"
      ],
      "text/plain": [
       "   major_category middle_category  \\\n",
       "0             아우터         플리스/뽀글이   \n",
       "1             아우터     숏패딩/숏헤비 아우터   \n",
       "2             아우터         플리스/뽀글이   \n",
       "3             아우터     숏패딩/숏헤비 아우터   \n",
       "4             아우터           후드 집업   \n",
       "..            ...             ...   \n",
       "95            아우터           후드 집업   \n",
       "96            아우터          패딩 베스트   \n",
       "97            아우터           후드 집업   \n",
       "98            아우터          패딩 베스트   \n",
       "99            아우터           후드 집업   \n",
       "\n",
       "                                               name                 number  \\\n",
       "0                            베이직 플리스 자켓 (U00DTJK59)                2646018   \n",
       "1                                 베이직 푸퍼_SPJPE11C11             SPJPE11C11   \n",
       "2                            베이직 퍼플리스 집업_SPFZD4TU01             SPFZD4TU01   \n",
       "3                              파이핑 덕 다운 패딩_블랙_OL255                  OL255   \n",
       "4                      2WAY 스웻 후드 집업 (MELANGE GREY)          TAF-2WHZU01MG   \n",
       "..                                              ...                    ...   \n",
       "95             [세트] 돌핀 자수 엣지 기모 후디 짚업 조거 트레이닝 팬츠 블랙            134522722BK   \n",
       "96                 여성 에어 플러스 R넥 구스다운 베스트_PHB5VP2012             PHB5VP2012   \n",
       "97                        YOUHEE RIBBON HOOD ZIP-UP            YHHZDC001MG   \n",
       "98  N234UDV950 칼리스 MODULA 경량 구스 다운 베스트 CARBON BLACK  N234UDV950/N234UDV050   \n",
       "99                         유스풀 벌룬 후드집업 네이비 SJHD1327                2170224   \n",
       "\n",
       "    limit  exclusive  target_gender  buy_gender      buy_age      view  \\\n",
       "0       0          0              0         1.0    (~18세, 0)    6300.0   \n",
       "1       1          0              0         0.0  (19~23세, 0)  560000.0   \n",
       "2       1          0              0         1.0    (~18세, 0)   97000.0   \n",
       "3       0          0              2         0.0  (24~28세, 0)   27000.0   \n",
       "4       1          0              2         0.0  (19~23세, 0)   96000.0   \n",
       "..    ...        ...            ...         ...          ...       ...   \n",
       "95      0          0              0         1.0    (40세~, 0)     450.0   \n",
       "96      0          0              1         1.0    (40세~, 0)    1600.0   \n",
       "97      0          0              1         1.0  (24~28세, 0)   14000.0   \n",
       "98      0          0              0         1.0    (40세~, 0)    3300.0   \n",
       "99      0          0              0         0.0    (~18세, 0)   11000.0   \n",
       "\n",
       "      like    price discount_rate  delivery_date  rating  review      buy  \n",
       "0     9307  19900.0            53              4     4.7    1092   2800.0  \n",
       "1   127420  62910.0            10              5     4.9   42691  76000.0  \n",
       "2    69998  19900.0            33              5     4.8   26197  66000.0  \n",
       "3     2639  54900.0            77              4     4.7      73    400.0  \n",
       "4   217723  39000.0            13              4     4.8   81354  10000.0  \n",
       "..     ...      ...           ...            ...     ...     ...      ...  \n",
       "95      59  99800.0            50              4     5.0       9     50.0  \n",
       "96     104  14900.0            79              5     5.0      11     50.0  \n",
       "97    7333  87200.0            20              4     4.8     534   1700.0  \n",
       "98     161  89000.0            10              4     4.8      25    100.0  \n",
       "99   29728  39800.0            30              4     4.8    2311   8100.0  \n",
       "\n",
       "[100 rows x 17 columns]"
      ]
     },
     "execution_count": 50,
     "metadata": {},
     "output_type": "execute_result"
    }
   ],
   "source": [
    "df_1"
   ]
  },
  {
   "cell_type": "code",
   "execution_count": 51,
   "metadata": {},
   "outputs": [],
   "source": [
    "df_1.to_csv('[이청하]musinsa_아우터_240118_1.csv', index=False)"
   ]
  },
  {
   "cell_type": "markdown",
   "metadata": {},
   "source": [
    "---"
   ]
  },
  {
   "cell_type": "code",
   "execution_count": 41,
   "metadata": {},
   "outputs": [],
   "source": [
    "import pandas as pd\n",
    "\n",
    "df_3 = pd.DataFrame({'major_category':major_category,'middle_category': middle_category,'name': names, 'number': numbers, 'limit': limit, 'exclusive': exclusive, 'target_gender': target_gen,\n",
    "              'buy_gender': buy_gen, 'buy_age' : buy_age, 'view': month_view, 'like': like_cnt, 'price': pro_price, 'discount_rate':discount_rate, 'delivery_date': delivery_date,\n",
    "              'rating': pro_rating, 'review': review, 'buy':buy})"
   ]
  },
  {
   "cell_type": "code",
   "execution_count": 42,
   "metadata": {},
   "outputs": [],
   "source": [
    "df_3.to_csv('[이청하]musinsa_아우터_240118_3.csv', index=False)"
   ]
  },
  {
   "cell_type": "code",
   "execution_count": 32,
   "metadata": {},
   "outputs": [],
   "source": [
    "import pandas as pd\n",
    "\n",
    "df_2 = pd.DataFrame({'major_category':major_category,'middle_category': middle_category,'name': names, 'number': numbers, 'limit': limit, 'exclusive': exclusive, 'target_gender': target_gen,\n",
    "              'buy_gender': buy_gen, 'buy_age' : buy_age, 'view': month_view, 'like': like_cnt, 'price': pro_price, 'discount_rate':discount_rate, 'delivery_date': delivery_date,\n",
    "              'rating': pro_rating, 'review': review, 'buy':buy})"
   ]
  },
  {
   "cell_type": "code",
   "execution_count": 33,
   "metadata": {},
   "outputs": [],
   "source": [
    "df_2.to_csv('[이청하]musinsa_아우터_240118_2.csv', index=False)"
   ]
  },
  {
   "cell_type": "markdown",
   "metadata": {},
   "source": [
    "---"
   ]
  },
  {
   "cell_type": "markdown",
   "metadata": {
    "jp-MarkdownHeadingCollapsed": true
   },
   "source": [
    "# 리뷰크로링 결과"
   ]
  },
  {
   "cell_type": "code",
   "execution_count": 101,
   "metadata": {},
   "outputs": [
    {
     "data": {
      "text/html": [
       "<div>\n",
       "<style scoped>\n",
       "    .dataframe tbody tr th:only-of-type {\n",
       "        vertical-align: middle;\n",
       "    }\n",
       "\n",
       "    .dataframe tbody tr th {\n",
       "        vertical-align: top;\n",
       "    }\n",
       "\n",
       "    .dataframe thead th {\n",
       "        text-align: right;\n",
       "    }\n",
       "</style>\n",
       "<table border=\"1\" class=\"dataframe\">\n",
       "  <thead>\n",
       "    <tr style=\"text-align: right;\">\n",
       "      <th></th>\n",
       "      <th>product_names</th>\n",
       "      <th>product_ids</th>\n",
       "      <th>user_names</th>\n",
       "      <th>user_ratings</th>\n",
       "      <th>user_reviews</th>\n",
       "    </tr>\n",
       "  </thead>\n",
       "  <tbody>\n",
       "    <tr>\n",
       "      <th>0</th>\n",
       "      <td>MOLDY DYED PUFFER JACKET BLACK</td>\n",
       "      <td>FDRWCUA101M</td>\n",
       "      <td>나는야쇼퍼홀릭</td>\n",
       "      <td>100</td>\n",
       "      <td>남자친구 입었는데퀄리티 좋네요이쁘고 저렴한 가격레 구매해서 좋아요</td>\n",
       "    </tr>\n",
       "    <tr>\n",
       "      <th>1</th>\n",
       "      <td>MOLDY DYED PUFFER JACKET BLACK</td>\n",
       "      <td>FDRWCUA101M</td>\n",
       "      <td>살바비어</td>\n",
       "      <td>80</td>\n",
       "      <td>176 65이고 S로 갔는데 숏패딩은 처음이라 아직도 어색하고 저한테 사이즈가 맞는...</td>\n",
       "    </tr>\n",
       "    <tr>\n",
       "      <th>2</th>\n",
       "      <td>MOLDY DYED PUFFER JACKET BLACK</td>\n",
       "      <td>FDRWCUA101M</td>\n",
       "      <td>돌잠금</td>\n",
       "      <td>100</td>\n",
       "      <td>기장감도 적당하고 어깨라인이 흘러내려와서 더 어깡으로 망들어주면서 두툼하니 겨울 잘...</td>\n",
       "    </tr>\n",
       "    <tr>\n",
       "      <th>3</th>\n",
       "      <td>MOLDY DYED PUFFER JACKET BLACK</td>\n",
       "      <td>FDRWCUA101M</td>\n",
       "      <td>녜녠녜</td>\n",
       "      <td>100</td>\n",
       "      <td>사이즈는 좀 크지만 벌키하게 입는 거 좋아해서 맘에 들어요 ! 은은한 크랙도 너무 ...</td>\n",
       "    </tr>\n",
       "    <tr>\n",
       "      <th>4</th>\n",
       "      <td>MOLDY DYED PUFFER JACKET BLACK</td>\n",
       "      <td>FDRWCUA101M</td>\n",
       "      <td>블루스공오</td>\n",
       "      <td>100</td>\n",
       "      <td>좋아여. 지퍼가 살짝 부드럽진 않은데 시간지나면 괜찮을 것 같아여.</td>\n",
       "    </tr>\n",
       "    <tr>\n",
       "      <th>5</th>\n",
       "      <td>MOLDY DYED PUFFER JACKET BLACK</td>\n",
       "      <td>FDRWCUA101M</td>\n",
       "      <td>나이젤카본ㅡ</td>\n",
       "      <td>100</td>\n",
       "      <td>포장도 꼼꼼하고 옷걸이까지 정말 만족스러운 배송이었습니다.은은한 크랙 디테일이 예쁘...</td>\n",
       "    </tr>\n",
       "    <tr>\n",
       "      <th>6</th>\n",
       "      <td>MOLDY DYED PUFFER JACKET BLACK</td>\n",
       "      <td>FDRWCUA101M</td>\n",
       "      <td>살바비어</td>\n",
       "      <td>80</td>\n",
       "      <td>176 65이고 S로 갔는데 숏패딩은 처음이라 아직도 어색하고 저한테 사이즈가 맞는...</td>\n",
       "    </tr>\n",
       "    <tr>\n",
       "      <th>7</th>\n",
       "      <td>MOLDY DYED PUFFER JACKET BLACK</td>\n",
       "      <td>FDRWCUA101M</td>\n",
       "      <td>녜녠녜</td>\n",
       "      <td>100</td>\n",
       "      <td>사이즈는 조금 크지만 핏이 넘 예뻐요 ! 따뜻하구 ... 수납공간 많아서 좋아용</td>\n",
       "    </tr>\n",
       "    <tr>\n",
       "      <th>8</th>\n",
       "      <td>MOLDY DYED PUFFER JACKET BLACK</td>\n",
       "      <td>FDRWCUA101M</td>\n",
       "      <td>사신무무</td>\n",
       "      <td>100</td>\n",
       "      <td>요거 첨봤을때부터 몬가 꽂힌상태로 숏패딩 계속 둘러보다가 결국 구매했는데 상세페이지...</td>\n",
       "    </tr>\n",
       "    <tr>\n",
       "      <th>9</th>\n",
       "      <td>MOLDY DYED PUFFER JACKET BLACK</td>\n",
       "      <td>FDRWCUA101M</td>\n",
       "      <td>블루스공오</td>\n",
       "      <td>100</td>\n",
       "      <td>좋아여. 지퍼가 살짝 부드럽진 않은데 시간지나면 괜찮을 것 같아여.</td>\n",
       "    </tr>\n",
       "    <tr>\n",
       "      <th>10</th>\n",
       "      <td>MOLDY DYED PUFFER JACKET BLACK</td>\n",
       "      <td>FDRWCUA101M</td>\n",
       "      <td>나이젤카본ㅡ</td>\n",
       "      <td>100</td>\n",
       "      <td>포장도 꼼꼼하고 옷걸이까지 정말 만족스러운 배송이었습니다.은은한 크랙 디테일이 예쁘...</td>\n",
       "    </tr>\n",
       "    <tr>\n",
       "      <th>11</th>\n",
       "      <td>MOLDY DYED PUFFER JACKET BLACK</td>\n",
       "      <td>FDRWCUA101M</td>\n",
       "      <td>돌잠금</td>\n",
       "      <td>100</td>\n",
       "      <td>지퍼가 처음에는 불량인가 싶었는데 그냥 절 안되는거였드라구요! 옷 재질, 크기 너무...</td>\n",
       "    </tr>\n",
       "    <tr>\n",
       "      <th>12</th>\n",
       "      <td>MOLDY DYED PUFFER JACKET BLACK</td>\n",
       "      <td>FDRWCUA101M</td>\n",
       "      <td>녜녠녜</td>\n",
       "      <td>100</td>\n",
       "      <td>사고싶었던 패딩 🥹 ... 사이즈는 좀 크지만 벌키하게 입는 거 좋아해서 맘에 들어...</td>\n",
       "    </tr>\n",
       "    <tr>\n",
       "      <th>13</th>\n",
       "      <td>MOLDY DYED PUFFER JACKET BLACK</td>\n",
       "      <td>FDRWCUA101M</td>\n",
       "      <td>HUNJB</td>\n",
       "      <td>80</td>\n",
       "      <td>포장 비닐이 벗겨져서 왔습니다. 일단 옷은 매우 이쁘니 한 번만 봐드리죠</td>\n",
       "    </tr>\n",
       "    <tr>\n",
       "      <th>14</th>\n",
       "      <td>MOLDY DYED PUFFER JACKET BLACK</td>\n",
       "      <td>FDRWCUA101M</td>\n",
       "      <td>블루스공오</td>\n",
       "      <td>100</td>\n",
       "      <td>좋아여. 지퍼가 살짝 부드럽진 않은데 시간지나면 괜찮을 것 같아여.</td>\n",
       "    </tr>\n",
       "    <tr>\n",
       "      <th>15</th>\n",
       "      <td>MOLDY DYED PUFFER JACKET BLACK</td>\n",
       "      <td>FDRWCUA101M</td>\n",
       "      <td>나는야쇼퍼홀릭</td>\n",
       "      <td>100</td>\n",
       "      <td>남자친구 입었는데퀄리티 좋네요이쁘고 저렴한 가격레 구매해서 좋아요</td>\n",
       "    </tr>\n",
       "    <tr>\n",
       "      <th>16</th>\n",
       "      <td>MOLDY DYED PUFFER JACKET BLACK</td>\n",
       "      <td>FDRWCUA101M</td>\n",
       "      <td>살바비어</td>\n",
       "      <td>80</td>\n",
       "      <td>176 65이고 S로 갔는데 숏패딩은 처음이라 아직도 어색하고 저한테 사이즈가 맞는...</td>\n",
       "    </tr>\n",
       "    <tr>\n",
       "      <th>17</th>\n",
       "      <td>MOLDY DYED PUFFER JACKET BLACK</td>\n",
       "      <td>FDRWCUA101M</td>\n",
       "      <td>나이젤카본ㅡ</td>\n",
       "      <td>100</td>\n",
       "      <td>포장도 꼼꼼하고 옷걸이까지 정말 만족스러운 배송이었습니다.은은한 크랙 디테일이 예쁘...</td>\n",
       "    </tr>\n",
       "    <tr>\n",
       "      <th>0</th>\n",
       "      <td>072903 경량 바머 자켓</td>\n",
       "      <td>5000402643</td>\n",
       "      <td>필섭</td>\n",
       "      <td>100</td>\n",
       "      <td>저렴하게 잘 구매했네요 어디에나 잘 어울릴거같아요</td>\n",
       "    </tr>\n",
       "    <tr>\n",
       "      <th>1</th>\n",
       "      <td>072903 경량 바머 자켓</td>\n",
       "      <td>5000402643</td>\n",
       "      <td>김*완</td>\n",
       "      <td>100</td>\n",
       "      <td>색이 매우 이쁩니다. 환절기에 입기 좋은 따뜻함이고 가벼워서 편해요.</td>\n",
       "    </tr>\n",
       "    <tr>\n",
       "      <th>2</th>\n",
       "      <td>072903 경량 바머 자켓</td>\n",
       "      <td>5000402643</td>\n",
       "      <td>엠뷸란스</td>\n",
       "      <td>60</td>\n",
       "      <td>털이 너무 빠져요.. 먼지도 너무 잘 달라붙은 재질이라 입을때마다 돌돌이 써줘야 할...</td>\n",
       "    </tr>\n",
       "    <tr>\n",
       "      <th>3</th>\n",
       "      <td>072903 경량 바머 자켓</td>\n",
       "      <td>5000402643</td>\n",
       "      <td>김*완</td>\n",
       "      <td>100</td>\n",
       "      <td>가벼운데 따뜻하고 핏이 이쁩니다. 환절기에 입으면 좋아용</td>\n",
       "    </tr>\n",
       "    <tr>\n",
       "      <th>4</th>\n",
       "      <td>072903 경량 바머 자켓</td>\n",
       "      <td>5000402643</td>\n",
       "      <td>패션배울래요</td>\n",
       "      <td>100</td>\n",
       "      <td>봄이지만 아침과 저녁에 쌀쌀해서잠바 보다는 가벼유 거 입고 싶었는데저렴하게 구입해서...</td>\n",
       "    </tr>\n",
       "    <tr>\n",
       "      <th>5</th>\n",
       "      <td>072903 경량 바머 자켓</td>\n",
       "      <td>5000402643</td>\n",
       "      <td>한대대</td>\n",
       "      <td>100</td>\n",
       "      <td>회사에서 입기 좋아요추천아닌 추천을 슬쩍 해봅니다</td>\n",
       "    </tr>\n",
       "    <tr>\n",
       "      <th>6</th>\n",
       "      <td>072903 경량 바머 자켓</td>\n",
       "      <td>5000402643</td>\n",
       "      <td>김*완</td>\n",
       "      <td>100</td>\n",
       "      <td>환절기에 입기 좋은 아우터입니다. 굉장히 가벼워서 활동하기 편해요</td>\n",
       "    </tr>\n",
       "  </tbody>\n",
       "</table>\n",
       "</div>"
      ],
      "text/plain": [
       "                     product_names  product_ids user_names user_ratings  \\\n",
       "0   MOLDY DYED PUFFER JACKET BLACK  FDRWCUA101M    나는야쇼퍼홀릭          100   \n",
       "1   MOLDY DYED PUFFER JACKET BLACK  FDRWCUA101M       살바비어           80   \n",
       "2   MOLDY DYED PUFFER JACKET BLACK  FDRWCUA101M        돌잠금          100   \n",
       "3   MOLDY DYED PUFFER JACKET BLACK  FDRWCUA101M        녜녠녜          100   \n",
       "4   MOLDY DYED PUFFER JACKET BLACK  FDRWCUA101M      블루스공오          100   \n",
       "5   MOLDY DYED PUFFER JACKET BLACK  FDRWCUA101M     나이젤카본ㅡ          100   \n",
       "6   MOLDY DYED PUFFER JACKET BLACK  FDRWCUA101M       살바비어           80   \n",
       "7   MOLDY DYED PUFFER JACKET BLACK  FDRWCUA101M        녜녠녜          100   \n",
       "8   MOLDY DYED PUFFER JACKET BLACK  FDRWCUA101M       사신무무          100   \n",
       "9   MOLDY DYED PUFFER JACKET BLACK  FDRWCUA101M      블루스공오          100   \n",
       "10  MOLDY DYED PUFFER JACKET BLACK  FDRWCUA101M     나이젤카본ㅡ          100   \n",
       "11  MOLDY DYED PUFFER JACKET BLACK  FDRWCUA101M        돌잠금          100   \n",
       "12  MOLDY DYED PUFFER JACKET BLACK  FDRWCUA101M        녜녠녜          100   \n",
       "13  MOLDY DYED PUFFER JACKET BLACK  FDRWCUA101M      HUNJB           80   \n",
       "14  MOLDY DYED PUFFER JACKET BLACK  FDRWCUA101M      블루스공오          100   \n",
       "15  MOLDY DYED PUFFER JACKET BLACK  FDRWCUA101M    나는야쇼퍼홀릭          100   \n",
       "16  MOLDY DYED PUFFER JACKET BLACK  FDRWCUA101M       살바비어           80   \n",
       "17  MOLDY DYED PUFFER JACKET BLACK  FDRWCUA101M     나이젤카본ㅡ          100   \n",
       "0                  072903 경량 바머 자켓   5000402643         필섭          100   \n",
       "1                  072903 경량 바머 자켓   5000402643        김*완          100   \n",
       "2                  072903 경량 바머 자켓   5000402643       엠뷸란스           60   \n",
       "3                  072903 경량 바머 자켓   5000402643        김*완          100   \n",
       "4                  072903 경량 바머 자켓   5000402643     패션배울래요          100   \n",
       "5                  072903 경량 바머 자켓   5000402643        한대대          100   \n",
       "6                  072903 경량 바머 자켓   5000402643        김*완          100   \n",
       "\n",
       "                                         user_reviews  \n",
       "0                남자친구 입었는데퀄리티 좋네요이쁘고 저렴한 가격레 구매해서 좋아요  \n",
       "1   176 65이고 S로 갔는데 숏패딩은 처음이라 아직도 어색하고 저한테 사이즈가 맞는...  \n",
       "2   기장감도 적당하고 어깨라인이 흘러내려와서 더 어깡으로 망들어주면서 두툼하니 겨울 잘...  \n",
       "3   사이즈는 좀 크지만 벌키하게 입는 거 좋아해서 맘에 들어요 ! 은은한 크랙도 너무 ...  \n",
       "4              좋아여. 지퍼가 살짝 부드럽진 않은데 시간지나면 괜찮을 것 같아여.   \n",
       "5   포장도 꼼꼼하고 옷걸이까지 정말 만족스러운 배송이었습니다.은은한 크랙 디테일이 예쁘...  \n",
       "6   176 65이고 S로 갔는데 숏패딩은 처음이라 아직도 어색하고 저한테 사이즈가 맞는...  \n",
       "7        사이즈는 조금 크지만 핏이 넘 예뻐요 ! 따뜻하구 ... 수납공간 많아서 좋아용  \n",
       "8   요거 첨봤을때부터 몬가 꽂힌상태로 숏패딩 계속 둘러보다가 결국 구매했는데 상세페이지...  \n",
       "9              좋아여. 지퍼가 살짝 부드럽진 않은데 시간지나면 괜찮을 것 같아여.   \n",
       "10  포장도 꼼꼼하고 옷걸이까지 정말 만족스러운 배송이었습니다.은은한 크랙 디테일이 예쁘...  \n",
       "11  지퍼가 처음에는 불량인가 싶었는데 그냥 절 안되는거였드라구요! 옷 재질, 크기 너무...  \n",
       "12  사고싶었던 패딩 🥹 ... 사이즈는 좀 크지만 벌키하게 입는 거 좋아해서 맘에 들어...  \n",
       "13           포장 비닐이 벗겨져서 왔습니다. 일단 옷은 매우 이쁘니 한 번만 봐드리죠  \n",
       "14             좋아여. 지퍼가 살짝 부드럽진 않은데 시간지나면 괜찮을 것 같아여.   \n",
       "15               남자친구 입었는데퀄리티 좋네요이쁘고 저렴한 가격레 구매해서 좋아요  \n",
       "16  176 65이고 S로 갔는데 숏패딩은 처음이라 아직도 어색하고 저한테 사이즈가 맞는...  \n",
       "17  포장도 꼼꼼하고 옷걸이까지 정말 만족스러운 배송이었습니다.은은한 크랙 디테일이 예쁘...  \n",
       "0                         저렴하게 잘 구매했네요 어디에나 잘 어울릴거같아요  \n",
       "1              색이 매우 이쁩니다. 환절기에 입기 좋은 따뜻함이고 가벼워서 편해요.  \n",
       "2   털이 너무 빠져요.. 먼지도 너무 잘 달라붙은 재질이라 입을때마다 돌돌이 써줘야 할...  \n",
       "3                     가벼운데 따뜻하고 핏이 이쁩니다. 환절기에 입으면 좋아용  \n",
       "4   봄이지만 아침과 저녁에 쌀쌀해서잠바 보다는 가벼유 거 입고 싶었는데저렴하게 구입해서...  \n",
       "5                         회사에서 입기 좋아요추천아닌 추천을 슬쩍 해봅니다  \n",
       "6                환절기에 입기 좋은 아우터입니다. 굉장히 가벼워서 활동하기 편해요  "
      ]
     },
     "execution_count": 101,
     "metadata": {},
     "output_type": "execute_result"
    }
   ],
   "source": [
    "df_musinsa_review_raw_2_3 = df_musinsa_review_raw\n",
    "df_musinsa_review_raw_2_3"
   ]
  },
  {
   "cell_type": "code",
   "execution_count": 102,
   "metadata": {},
   "outputs": [],
   "source": [
    "df_musinsa_review_raw_2_3.to_csv('[이청하]review_아우터_240118.csv_2_3', index=False)"
   ]
  },
  {
   "cell_type": "code",
   "execution_count": null,
   "metadata": {},
   "outputs": [],
   "source": []
  },
  {
   "cell_type": "code",
   "execution_count": null,
   "metadata": {},
   "outputs": [],
   "source": []
  },
  {
   "cell_type": "code",
   "execution_count": 92,
   "metadata": {},
   "outputs": [
    {
     "data": {
      "text/html": [
       "<div>\n",
       "<style scoped>\n",
       "    .dataframe tbody tr th:only-of-type {\n",
       "        vertical-align: middle;\n",
       "    }\n",
       "\n",
       "    .dataframe tbody tr th {\n",
       "        vertical-align: top;\n",
       "    }\n",
       "\n",
       "    .dataframe thead th {\n",
       "        text-align: right;\n",
       "    }\n",
       "</style>\n",
       "<table border=\"1\" class=\"dataframe\">\n",
       "  <thead>\n",
       "    <tr style=\"text-align: right;\">\n",
       "      <th></th>\n",
       "      <th>product_names</th>\n",
       "      <th>product_ids</th>\n",
       "      <th>user_names</th>\n",
       "      <th>user_ratings</th>\n",
       "      <th>user_reviews</th>\n",
       "    </tr>\n",
       "  </thead>\n",
       "  <tbody>\n",
       "    <tr>\n",
       "      <th>0</th>\n",
       "      <td>Flight Jumper Olive</td>\n",
       "      <td>RS2323151</td>\n",
       "      <td>wya_s</td>\n",
       "      <td>100</td>\n",
       "      <td>렆사 첨 구매하는데 퀄 핏 둘다 만족입니다. 올리브가 젤 이쁨</td>\n",
       "    </tr>\n",
       "    <tr>\n",
       "      <th>1</th>\n",
       "      <td>Flight Jumper Olive</td>\n",
       "      <td>RS2323151</td>\n",
       "      <td>wya_s</td>\n",
       "      <td>100</td>\n",
       "      <td>멋이 트질라이띠따이하고 깔끼하고 예쁠라이코스</td>\n",
       "    </tr>\n",
       "    <tr>\n",
       "      <th>0</th>\n",
       "      <td>세인트 오버핏 프리미엄 울 더플코트 [NAVY]</td>\n",
       "      <td>DFCT2409NV</td>\n",
       "      <td>Hongik9</td>\n",
       "      <td>80</td>\n",
       "      <td>일단 코트이다보니까 쫌 불편하긴 한데 핏도 좋고 이뻐요</td>\n",
       "    </tr>\n",
       "    <tr>\n",
       "      <th>1</th>\n",
       "      <td>세인트 오버핏 프리미엄 울 더플코트 [NAVY]</td>\n",
       "      <td>DFCT2409NV</td>\n",
       "      <td>__Seo.J</td>\n",
       "      <td>80</td>\n",
       "      <td>163에 여자예오 m사이즈 입었어요! 무거운데 그냥 울코트 무게입니당단추 끈이 약간...</td>\n",
       "    </tr>\n",
       "    <tr>\n",
       "      <th>2</th>\n",
       "      <td>세인트 오버핏 프리미엄 울 더플코트 [NAVY]</td>\n",
       "      <td>DFCT2409NV</td>\n",
       "      <td>병아리뺙뺙</td>\n",
       "      <td>100</td>\n",
       "      <td>한겨울엔 못입지만 그래도 따뜻해요 부드럽진않아요</td>\n",
       "    </tr>\n",
       "    <tr>\n",
       "      <th>...</th>\n",
       "      <td>...</td>\n",
       "      <td>...</td>\n",
       "      <td>...</td>\n",
       "      <td>...</td>\n",
       "      <td>...</td>\n",
       "    </tr>\n",
       "    <tr>\n",
       "      <th>36</th>\n",
       "      <td>케이블 니트 코튼 V넥 스웨터 베스트 - 화이트</td>\n",
       "      <td>WMPOSWENC020681-100</td>\n",
       "      <td>Kangje</td>\n",
       "      <td>100</td>\n",
       "      <td>배송이 정말 빠르네요! 덕분에 가족행사에 잘 입었어요 사이즈도 넉넉하니 좋고 무엇보...</td>\n",
       "    </tr>\n",
       "    <tr>\n",
       "      <th>37</th>\n",
       "      <td>케이블 니트 코튼 V넥 스웨터 베스트 - 화이트</td>\n",
       "      <td>WMPOSWENC020681-100</td>\n",
       "      <td>중랑구면목</td>\n",
       "      <td>100</td>\n",
       "      <td>귀여워요 흰반팔에 입으면 찰떡 여유있게 편하게 잘맞아요</td>\n",
       "    </tr>\n",
       "    <tr>\n",
       "      <th>38</th>\n",
       "      <td>케이블 니트 코튼 V넥 스웨터 베스트 - 화이트</td>\n",
       "      <td>WMPOSWENC020681-100</td>\n",
       "      <td>뉴비_f2d2487299b3</td>\n",
       "      <td>100</td>\n",
       "      <td>사고 싶었던건데 이것저것 먹여서 젤 저렴하게 샀어요..화이트 반팔에 입는게 젤 깔끔...</td>\n",
       "    </tr>\n",
       "    <tr>\n",
       "      <th>39</th>\n",
       "      <td>케이블 니트 코튼 V넥 스웨터 베스트 - 화이트</td>\n",
       "      <td>WMPOSWENC020681-100</td>\n",
       "      <td>뉴비_8d873cc85c61</td>\n",
       "      <td>100</td>\n",
       "      <td>매번 눈여겨보고있었는데 조은가격으로 득템했습니다</td>\n",
       "    </tr>\n",
       "    <tr>\n",
       "      <th>40</th>\n",
       "      <td>케이블 니트 코튼 V넥 스웨터 베스트 - 화이트</td>\n",
       "      <td>WMPOSWENC020681-100</td>\n",
       "      <td>황톰미</td>\n",
       "      <td>100</td>\n",
       "      <td>배송 빨리왔고 쿠폰 사용해서 저렴하게 잘 구매해써요 ㅎㅎ</td>\n",
       "    </tr>\n",
       "  </tbody>\n",
       "</table>\n",
       "<p>209 rows × 5 columns</p>\n",
       "</div>"
      ],
      "text/plain": [
       "                 product_names          product_ids       user_names  \\\n",
       "0          Flight Jumper Olive            RS2323151            wya_s   \n",
       "1          Flight Jumper Olive            RS2323151            wya_s   \n",
       "0   세인트 오버핏 프리미엄 울 더플코트 [NAVY]           DFCT2409NV          Hongik9   \n",
       "1   세인트 오버핏 프리미엄 울 더플코트 [NAVY]           DFCT2409NV          __Seo.J   \n",
       "2   세인트 오버핏 프리미엄 울 더플코트 [NAVY]           DFCT2409NV            병아리뺙뺙   \n",
       "..                         ...                  ...              ...   \n",
       "36  케이블 니트 코튼 V넥 스웨터 베스트 - 화이트  WMPOSWENC020681-100           Kangje   \n",
       "37  케이블 니트 코튼 V넥 스웨터 베스트 - 화이트  WMPOSWENC020681-100            중랑구면목   \n",
       "38  케이블 니트 코튼 V넥 스웨터 베스트 - 화이트  WMPOSWENC020681-100  뉴비_f2d2487299b3   \n",
       "39  케이블 니트 코튼 V넥 스웨터 베스트 - 화이트  WMPOSWENC020681-100  뉴비_8d873cc85c61   \n",
       "40  케이블 니트 코튼 V넥 스웨터 베스트 - 화이트  WMPOSWENC020681-100              황톰미   \n",
       "\n",
       "   user_ratings                                       user_reviews  \n",
       "0           100                 렆사 첨 구매하는데 퀄 핏 둘다 만족입니다. 올리브가 젤 이쁨  \n",
       "1           100                           멋이 트질라이띠따이하고 깔끼하고 예쁠라이코스  \n",
       "0            80                     일단 코트이다보니까 쫌 불편하긴 한데 핏도 좋고 이뻐요  \n",
       "1            80  163에 여자예오 m사이즈 입었어요! 무거운데 그냥 울코트 무게입니당단추 끈이 약간...  \n",
       "2           100                         한겨울엔 못입지만 그래도 따뜻해요 부드럽진않아요  \n",
       "..          ...                                                ...  \n",
       "36          100  배송이 정말 빠르네요! 덕분에 가족행사에 잘 입었어요 사이즈도 넉넉하니 좋고 무엇보...  \n",
       "37          100                     귀여워요 흰반팔에 입으면 찰떡 여유있게 편하게 잘맞아요  \n",
       "38          100  사고 싶었던건데 이것저것 먹여서 젤 저렴하게 샀어요..화이트 반팔에 입는게 젤 깔끔...  \n",
       "39          100                         매번 눈여겨보고있었는데 조은가격으로 득템했습니다  \n",
       "40          100                    배송 빨리왔고 쿠폰 사용해서 저렴하게 잘 구매해써요 ㅎㅎ  \n",
       "\n",
       "[209 rows x 5 columns]"
      ]
     },
     "execution_count": 92,
     "metadata": {},
     "output_type": "execute_result"
    }
   ],
   "source": [
    "df_musinsa_review_raw_2_2 = df_musinsa_review_raw\n",
    "df_musinsa_review_raw_2_2"
   ]
  },
  {
   "cell_type": "code",
   "execution_count": 93,
   "metadata": {},
   "outputs": [],
   "source": [
    "df_musinsa_review_raw_2_2.to_csv('[이청하]review_아우터_240118.csv_2_2', index=False)"
   ]
  },
  {
   "cell_type": "markdown",
   "metadata": {},
   "source": [
    "---"
   ]
  },
  {
   "cell_type": "code",
   "execution_count": 73,
   "metadata": {
    "scrolled": true
   },
   "outputs": [
    {
     "data": {
      "text/html": [
       "<div>\n",
       "<style scoped>\n",
       "    .dataframe tbody tr th:only-of-type {\n",
       "        vertical-align: middle;\n",
       "    }\n",
       "\n",
       "    .dataframe tbody tr th {\n",
       "        vertical-align: top;\n",
       "    }\n",
       "\n",
       "    .dataframe thead th {\n",
       "        text-align: right;\n",
       "    }\n",
       "</style>\n",
       "<table border=\"1\" class=\"dataframe\">\n",
       "  <thead>\n",
       "    <tr style=\"text-align: right;\">\n",
       "      <th></th>\n",
       "      <th>product_names</th>\n",
       "      <th>product_ids</th>\n",
       "      <th>user_names</th>\n",
       "      <th>user_ratings</th>\n",
       "      <th>user_reviews</th>\n",
       "    </tr>\n",
       "  </thead>\n",
       "  <tbody>\n",
       "    <tr>\n",
       "      <th>0</th>\n",
       "      <td>라이트 다운 블루종 재킷 [블랙]</td>\n",
       "      <td>MHJK5003-BK</td>\n",
       "      <td>skdlfjl</td>\n",
       "      <td>100</td>\n",
       "      <td>귀여운 울 할부지.. 아주 좋아하셨습니다 L사이즈 예쁘게 잘 맞으셔요</td>\n",
       "    </tr>\n",
       "    <tr>\n",
       "      <th>1</th>\n",
       "      <td>라이트 다운 블루종 재킷 [블랙]</td>\n",
       "      <td>MHJK5003-BK</td>\n",
       "      <td>권여사얌</td>\n",
       "      <td>100</td>\n",
       "      <td>가을부터 초겨울까지 입기 좋은 아이템 입니다.팔이 약간 길게 나왔지만 불편한 정도는...</td>\n",
       "    </tr>\n",
       "    <tr>\n",
       "      <th>2</th>\n",
       "      <td>라이트 다운 블루종 재킷 [블랙]</td>\n",
       "      <td>MHJK5003-BK</td>\n",
       "      <td>moontheo</td>\n",
       "      <td>100</td>\n",
       "      <td>편하게 잘입고 다닙니다. 싸게사서 부담없이 입기 좋아요</td>\n",
       "    </tr>\n",
       "    <tr>\n",
       "      <th>3</th>\n",
       "      <td>라이트 다운 블루종 재킷 [블랙]</td>\n",
       "      <td>MHJK5003-BK</td>\n",
       "      <td>갈마동개구리</td>\n",
       "      <td>100</td>\n",
       "      <td>추천받아서 주문하고 입어보니까 예쁘네요 핏도 좋아요~~~</td>\n",
       "    </tr>\n",
       "    <tr>\n",
       "      <th>4</th>\n",
       "      <td>라이트 다운 블루종 재킷 [블랙]</td>\n",
       "      <td>MHJK5003-BK</td>\n",
       "      <td>햄새밍턴</td>\n",
       "      <td>100</td>\n",
       "      <td>171/68에 상체발달형입니다. 일단 핏은 조금 여유있는 핏이고 이유는 전투복 위에...</td>\n",
       "    </tr>\n",
       "    <tr>\n",
       "      <th>...</th>\n",
       "      <td>...</td>\n",
       "      <td>...</td>\n",
       "      <td>...</td>\n",
       "      <td>...</td>\n",
       "      <td>...</td>\n",
       "    </tr>\n",
       "    <tr>\n",
       "      <th>40</th>\n",
       "      <td>베켄바우어 트랙탑 - 네이비 / IA4776</td>\n",
       "      <td>IA4776</td>\n",
       "      <td>뉴비_e72a31fe</td>\n",
       "      <td>100</td>\n",
       "      <td>얇아서 여름에 에어컨 바람 추울 때 입어도 좋응ㄹ것같아요</td>\n",
       "    </tr>\n",
       "    <tr>\n",
       "      <th>41</th>\n",
       "      <td>베켄바우어 트랙탑 - 네이비 / IA4776</td>\n",
       "      <td>IA4776</td>\n",
       "      <td>좀더깍아줘요</td>\n",
       "      <td>100</td>\n",
       "      <td>너무 마음에 듭니다 휘뚜루마뚜루 입기 딱 좋아요</td>\n",
       "    </tr>\n",
       "    <tr>\n",
       "      <th>42</th>\n",
       "      <td>베켄바우어 트랙탑 - 네이비 / IA4776</td>\n",
       "      <td>IA4776</td>\n",
       "      <td>뉴비_13e3057367f1</td>\n",
       "      <td>100</td>\n",
       "      <td>학교 갈때 입을려고 샀는데 데일리로 옷 걱정 안해서 좋아요</td>\n",
       "    </tr>\n",
       "    <tr>\n",
       "      <th>43</th>\n",
       "      <td>베켄바우어 트랙탑 - 네이비 / IA4776</td>\n",
       "      <td>IA4776</td>\n",
       "      <td>문점례</td>\n",
       "      <td>80</td>\n",
       "      <td>사이즈는 넉넉하고 색감이 너무 마음에 들었어요</td>\n",
       "    </tr>\n",
       "    <tr>\n",
       "      <th>44</th>\n",
       "      <td>베켄바우어 트랙탑 - 네이비 / IA4776</td>\n",
       "      <td>IA4776</td>\n",
       "      <td>뉴비_d687d0fe</td>\n",
       "      <td>100</td>\n",
       "      <td>생각보다 널널하지 않은 것 같아요 사이즈 잘 보고 사세요</td>\n",
       "    </tr>\n",
       "  </tbody>\n",
       "</table>\n",
       "<p>2202 rows × 5 columns</p>\n",
       "</div>"
      ],
      "text/plain": [
       "               product_names  product_ids       user_names user_ratings  \\\n",
       "0         라이트 다운 블루종 재킷 [블랙]  MHJK5003-BK          skdlfjl          100   \n",
       "1         라이트 다운 블루종 재킷 [블랙]  MHJK5003-BK             권여사얌          100   \n",
       "2         라이트 다운 블루종 재킷 [블랙]  MHJK5003-BK         moontheo          100   \n",
       "3         라이트 다운 블루종 재킷 [블랙]  MHJK5003-BK           갈마동개구리          100   \n",
       "4         라이트 다운 블루종 재킷 [블랙]  MHJK5003-BK             햄새밍턴          100   \n",
       "..                       ...          ...              ...          ...   \n",
       "40  베켄바우어 트랙탑 - 네이비 / IA4776       IA4776      뉴비_e72a31fe          100   \n",
       "41  베켄바우어 트랙탑 - 네이비 / IA4776       IA4776           좀더깍아줘요          100   \n",
       "42  베켄바우어 트랙탑 - 네이비 / IA4776       IA4776  뉴비_13e3057367f1          100   \n",
       "43  베켄바우어 트랙탑 - 네이비 / IA4776       IA4776              문점례           80   \n",
       "44  베켄바우어 트랙탑 - 네이비 / IA4776       IA4776      뉴비_d687d0fe          100   \n",
       "\n",
       "                                         user_reviews  \n",
       "0              귀여운 울 할부지.. 아주 좋아하셨습니다 L사이즈 예쁘게 잘 맞으셔요  \n",
       "1   가을부터 초겨울까지 입기 좋은 아이템 입니다.팔이 약간 길게 나왔지만 불편한 정도는...  \n",
       "2                      편하게 잘입고 다닙니다. 싸게사서 부담없이 입기 좋아요  \n",
       "3                     추천받아서 주문하고 입어보니까 예쁘네요 핏도 좋아요~~~  \n",
       "4   171/68에 상체발달형입니다. 일단 핏은 조금 여유있는 핏이고 이유는 전투복 위에...  \n",
       "..                                                ...  \n",
       "40                    얇아서 여름에 에어컨 바람 추울 때 입어도 좋응ㄹ것같아요  \n",
       "41                         너무 마음에 듭니다 휘뚜루마뚜루 입기 딱 좋아요  \n",
       "42                   학교 갈때 입을려고 샀는데 데일리로 옷 걱정 안해서 좋아요  \n",
       "43                          사이즈는 넉넉하고 색감이 너무 마음에 들었어요  \n",
       "44                    생각보다 널널하지 않은 것 같아요 사이즈 잘 보고 사세요  \n",
       "\n",
       "[2202 rows x 5 columns]"
      ]
     },
     "execution_count": 73,
     "metadata": {},
     "output_type": "execute_result"
    }
   ],
   "source": [
    "df_musinsa_review_raw_1_3 = df_musinsa_review_raw\n",
    "df_musinsa_review_raw_1_3"
   ]
  },
  {
   "cell_type": "code",
   "execution_count": 74,
   "metadata": {},
   "outputs": [],
   "source": [
    "df_musinsa_review_raw_1_3.to_csv('[이청하]review_아우터_240118.csv_1_3', index=False)"
   ]
  },
  {
   "cell_type": "markdown",
   "metadata": {},
   "source": [
    "---"
   ]
  },
  {
   "cell_type": "code",
   "execution_count": 62,
   "metadata": {
    "scrolled": true
   },
   "outputs": [
    {
     "data": {
      "text/html": [
       "<div>\n",
       "<style scoped>\n",
       "    .dataframe tbody tr th:only-of-type {\n",
       "        vertical-align: middle;\n",
       "    }\n",
       "\n",
       "    .dataframe tbody tr th {\n",
       "        vertical-align: top;\n",
       "    }\n",
       "\n",
       "    .dataframe thead th {\n",
       "        text-align: right;\n",
       "    }\n",
       "</style>\n",
       "<table border=\"1\" class=\"dataframe\">\n",
       "  <thead>\n",
       "    <tr style=\"text-align: right;\">\n",
       "      <th></th>\n",
       "      <th>product_names</th>\n",
       "      <th>product_ids</th>\n",
       "      <th>user_names</th>\n",
       "      <th>user_ratings</th>\n",
       "      <th>user_reviews</th>\n",
       "    </tr>\n",
       "  </thead>\n",
       "  <tbody>\n",
       "    <tr>\n",
       "      <th>0</th>\n",
       "      <td>비건 스웨이드 오버핏 미니멀 인시전 스트레이트 집업 자켓 [블랙]</td>\n",
       "      <td>B5</td>\n",
       "      <td>그냥주노 jus._.juno</td>\n",
       "      <td>100</td>\n",
       "      <td>배송은 느렸지만, 상품은 정말 좋습니다.이 가격에 절대 구할 수 없는 퀄리티. 잘 ...</td>\n",
       "    </tr>\n",
       "    <tr>\n",
       "      <th>1</th>\n",
       "      <td>비건 스웨이드 오버핏 미니멀 인시전 스트레이트 집업 자켓 [블랙]</td>\n",
       "      <td>B5</td>\n",
       "      <td>하트도두밍</td>\n",
       "      <td>60</td>\n",
       "      <td>일반후기에 다 적어두긴했는데 저는 만족스럽지 못한 옷이었어요ㅠㅠ여자치곤 통통한 편인...</td>\n",
       "    </tr>\n",
       "    <tr>\n",
       "      <th>2</th>\n",
       "      <td>비건 스웨이드 오버핏 미니멀 인시전 스트레이트 집업 자켓 [블랙]</td>\n",
       "      <td>B5</td>\n",
       "      <td>이으니어디우르지</td>\n",
       "      <td>100</td>\n",
       "      <td>청바지에 입기 좋아요 배송이 엄청 빨라서 놀랐어요 냄새도 별로 안나고 검정색이고 질...</td>\n",
       "    </tr>\n",
       "    <tr>\n",
       "      <th>3</th>\n",
       "      <td>비건 스웨이드 오버핏 미니멀 인시전 스트레이트 집업 자켓 [블랙]</td>\n",
       "      <td>B5</td>\n",
       "      <td>밍코루</td>\n",
       "      <td>100</td>\n",
       "      <td>크 이쁘네요 이번 가을 아우터는 얘가 최애가 될듯요</td>\n",
       "    </tr>\n",
       "    <tr>\n",
       "      <th>4</th>\n",
       "      <td>비건 스웨이드 오버핏 미니멀 인시전 스트레이트 집업 자켓 [블랙]</td>\n",
       "      <td>B5</td>\n",
       "      <td>노밀이</td>\n",
       "      <td>100</td>\n",
       "      <td>심플 자켓을 찾고있다가 합리적인 가격으로 구매해서 기분이 넘 좋습니다 ㅎ_ㅎ 남녀공...</td>\n",
       "    </tr>\n",
       "    <tr>\n",
       "      <th>...</th>\n",
       "      <td>...</td>\n",
       "      <td>...</td>\n",
       "      <td>...</td>\n",
       "      <td>...</td>\n",
       "      <td>...</td>\n",
       "    </tr>\n",
       "    <tr>\n",
       "      <th>40</th>\n",
       "      <td>라이트 다운 블루종 재킷 [블랙]</td>\n",
       "      <td>MHJK5003-BK</td>\n",
       "      <td>기린스키위</td>\n",
       "      <td>100</td>\n",
       "      <td>정말 만족하는 제품입니다 이너로 입기 참 좋아요</td>\n",
       "    </tr>\n",
       "    <tr>\n",
       "      <th>41</th>\n",
       "      <td>라이트 다운 블루종 재킷 [블랙]</td>\n",
       "      <td>MHJK5003-BK</td>\n",
       "      <td>Celebrity_choo</td>\n",
       "      <td>100</td>\n",
       "      <td>쌀쌀한날 편하게 입기좋고 핏도 생각하던만큼 슬림해서 좋았다 교복위에 입어도 이쁘다 ...</td>\n",
       "    </tr>\n",
       "    <tr>\n",
       "      <th>42</th>\n",
       "      <td>라이트 다운 블루종 재킷 [블랙]</td>\n",
       "      <td>MHJK5003-BK</td>\n",
       "      <td>Mahrez1</td>\n",
       "      <td>100</td>\n",
       "      <td>적당히 집 근처 돌아댕길때 입기 좋은 가성비 아우터</td>\n",
       "    </tr>\n",
       "    <tr>\n",
       "      <th>43</th>\n",
       "      <td>라이트 다운 블루종 재킷 [블랙]</td>\n",
       "      <td>MHJK5003-BK</td>\n",
       "      <td>앵그리성민</td>\n",
       "      <td>100</td>\n",
       "      <td>얇은 두께 치곤 따뜻합니다!! 가벼워서 사무실에서 일할때 계속 입고 있습니다 디자인...</td>\n",
       "    </tr>\n",
       "    <tr>\n",
       "      <th>44</th>\n",
       "      <td>라이트 다운 블루종 재킷 [블랙]</td>\n",
       "      <td>MHJK5003-BK</td>\n",
       "      <td>hsd1717</td>\n",
       "      <td>80</td>\n",
       "      <td>초겨울이나 늦은 겨울에 가볍게 입기 좋은 경량패딩입니다</td>\n",
       "    </tr>\n",
       "  </tbody>\n",
       "</table>\n",
       "<p>185 rows × 5 columns</p>\n",
       "</div>"
      ],
      "text/plain": [
       "                           product_names  product_ids       user_names  \\\n",
       "0   비건 스웨이드 오버핏 미니멀 인시전 스트레이트 집업 자켓 [블랙]           B5  그냥주노 jus._.juno   \n",
       "1   비건 스웨이드 오버핏 미니멀 인시전 스트레이트 집업 자켓 [블랙]           B5            하트도두밍   \n",
       "2   비건 스웨이드 오버핏 미니멀 인시전 스트레이트 집업 자켓 [블랙]           B5         이으니어디우르지   \n",
       "3   비건 스웨이드 오버핏 미니멀 인시전 스트레이트 집업 자켓 [블랙]           B5              밍코루   \n",
       "4   비건 스웨이드 오버핏 미니멀 인시전 스트레이트 집업 자켓 [블랙]           B5              노밀이   \n",
       "..                                   ...          ...              ...   \n",
       "40                    라이트 다운 블루종 재킷 [블랙]  MHJK5003-BK            기린스키위   \n",
       "41                    라이트 다운 블루종 재킷 [블랙]  MHJK5003-BK   Celebrity_choo   \n",
       "42                    라이트 다운 블루종 재킷 [블랙]  MHJK5003-BK          Mahrez1   \n",
       "43                    라이트 다운 블루종 재킷 [블랙]  MHJK5003-BK            앵그리성민   \n",
       "44                    라이트 다운 블루종 재킷 [블랙]  MHJK5003-BK          hsd1717   \n",
       "\n",
       "   user_ratings                                       user_reviews  \n",
       "0           100  배송은 느렸지만, 상품은 정말 좋습니다.이 가격에 절대 구할 수 없는 퀄리티. 잘 ...  \n",
       "1            60  일반후기에 다 적어두긴했는데 저는 만족스럽지 못한 옷이었어요ㅠㅠ여자치곤 통통한 편인...  \n",
       "2           100  청바지에 입기 좋아요 배송이 엄청 빨라서 놀랐어요 냄새도 별로 안나고 검정색이고 질...  \n",
       "3           100                       크 이쁘네요 이번 가을 아우터는 얘가 최애가 될듯요  \n",
       "4           100  심플 자켓을 찾고있다가 합리적인 가격으로 구매해서 기분이 넘 좋습니다 ㅎ_ㅎ 남녀공...  \n",
       "..          ...                                                ...  \n",
       "40          100                         정말 만족하는 제품입니다 이너로 입기 참 좋아요  \n",
       "41          100  쌀쌀한날 편하게 입기좋고 핏도 생각하던만큼 슬림해서 좋았다 교복위에 입어도 이쁘다 ...  \n",
       "42          100                       적당히 집 근처 돌아댕길때 입기 좋은 가성비 아우터  \n",
       "43          100  얇은 두께 치곤 따뜻합니다!! 가벼워서 사무실에서 일할때 계속 입고 있습니다 디자인...  \n",
       "44           80                     초겨울이나 늦은 겨울에 가볍게 입기 좋은 경량패딩입니다  \n",
       "\n",
       "[185 rows x 5 columns]"
      ]
     },
     "execution_count": 62,
     "metadata": {},
     "output_type": "execute_result"
    }
   ],
   "source": [
    "df_musinsa_review_raw"
   ]
  },
  {
   "cell_type": "code",
   "execution_count": 63,
   "metadata": {},
   "outputs": [
    {
     "data": {
      "text/html": [
       "<div>\n",
       "<style scoped>\n",
       "    .dataframe tbody tr th:only-of-type {\n",
       "        vertical-align: middle;\n",
       "    }\n",
       "\n",
       "    .dataframe tbody tr th {\n",
       "        vertical-align: top;\n",
       "    }\n",
       "\n",
       "    .dataframe thead th {\n",
       "        text-align: right;\n",
       "    }\n",
       "</style>\n",
       "<table border=\"1\" class=\"dataframe\">\n",
       "  <thead>\n",
       "    <tr style=\"text-align: right;\">\n",
       "      <th></th>\n",
       "      <th>product_names</th>\n",
       "      <th>product_ids</th>\n",
       "      <th>user_names</th>\n",
       "      <th>user_ratings</th>\n",
       "      <th>user_reviews</th>\n",
       "    </tr>\n",
       "  </thead>\n",
       "  <tbody>\n",
       "    <tr>\n",
       "      <th>0</th>\n",
       "      <td>비건 스웨이드 오버핏 미니멀 인시전 스트레이트 집업 자켓 [블랙]</td>\n",
       "      <td>B5</td>\n",
       "      <td>그냥주노 jus._.juno</td>\n",
       "      <td>100</td>\n",
       "      <td>배송은 느렸지만, 상품은 정말 좋습니다.이 가격에 절대 구할 수 없는 퀄리티. 잘 ...</td>\n",
       "    </tr>\n",
       "    <tr>\n",
       "      <th>1</th>\n",
       "      <td>비건 스웨이드 오버핏 미니멀 인시전 스트레이트 집업 자켓 [블랙]</td>\n",
       "      <td>B5</td>\n",
       "      <td>하트도두밍</td>\n",
       "      <td>60</td>\n",
       "      <td>일반후기에 다 적어두긴했는데 저는 만족스럽지 못한 옷이었어요ㅠㅠ여자치곤 통통한 편인...</td>\n",
       "    </tr>\n",
       "    <tr>\n",
       "      <th>2</th>\n",
       "      <td>비건 스웨이드 오버핏 미니멀 인시전 스트레이트 집업 자켓 [블랙]</td>\n",
       "      <td>B5</td>\n",
       "      <td>이으니어디우르지</td>\n",
       "      <td>100</td>\n",
       "      <td>청바지에 입기 좋아요 배송이 엄청 빨라서 놀랐어요 냄새도 별로 안나고 검정색이고 질...</td>\n",
       "    </tr>\n",
       "    <tr>\n",
       "      <th>3</th>\n",
       "      <td>비건 스웨이드 오버핏 미니멀 인시전 스트레이트 집업 자켓 [블랙]</td>\n",
       "      <td>B5</td>\n",
       "      <td>밍코루</td>\n",
       "      <td>100</td>\n",
       "      <td>크 이쁘네요 이번 가을 아우터는 얘가 최애가 될듯요</td>\n",
       "    </tr>\n",
       "    <tr>\n",
       "      <th>4</th>\n",
       "      <td>비건 스웨이드 오버핏 미니멀 인시전 스트레이트 집업 자켓 [블랙]</td>\n",
       "      <td>B5</td>\n",
       "      <td>노밀이</td>\n",
       "      <td>100</td>\n",
       "      <td>심플 자켓을 찾고있다가 합리적인 가격으로 구매해서 기분이 넘 좋습니다 ㅎ_ㅎ 남녀공...</td>\n",
       "    </tr>\n",
       "    <tr>\n",
       "      <th>...</th>\n",
       "      <td>...</td>\n",
       "      <td>...</td>\n",
       "      <td>...</td>\n",
       "      <td>...</td>\n",
       "      <td>...</td>\n",
       "    </tr>\n",
       "    <tr>\n",
       "      <th>40</th>\n",
       "      <td>라이트 다운 블루종 재킷 [블랙]</td>\n",
       "      <td>MHJK5003-BK</td>\n",
       "      <td>기린스키위</td>\n",
       "      <td>100</td>\n",
       "      <td>정말 만족하는 제품입니다 이너로 입기 참 좋아요</td>\n",
       "    </tr>\n",
       "    <tr>\n",
       "      <th>41</th>\n",
       "      <td>라이트 다운 블루종 재킷 [블랙]</td>\n",
       "      <td>MHJK5003-BK</td>\n",
       "      <td>Celebrity_choo</td>\n",
       "      <td>100</td>\n",
       "      <td>쌀쌀한날 편하게 입기좋고 핏도 생각하던만큼 슬림해서 좋았다 교복위에 입어도 이쁘다 ...</td>\n",
       "    </tr>\n",
       "    <tr>\n",
       "      <th>42</th>\n",
       "      <td>라이트 다운 블루종 재킷 [블랙]</td>\n",
       "      <td>MHJK5003-BK</td>\n",
       "      <td>Mahrez1</td>\n",
       "      <td>100</td>\n",
       "      <td>적당히 집 근처 돌아댕길때 입기 좋은 가성비 아우터</td>\n",
       "    </tr>\n",
       "    <tr>\n",
       "      <th>43</th>\n",
       "      <td>라이트 다운 블루종 재킷 [블랙]</td>\n",
       "      <td>MHJK5003-BK</td>\n",
       "      <td>앵그리성민</td>\n",
       "      <td>100</td>\n",
       "      <td>얇은 두께 치곤 따뜻합니다!! 가벼워서 사무실에서 일할때 계속 입고 있습니다 디자인...</td>\n",
       "    </tr>\n",
       "    <tr>\n",
       "      <th>44</th>\n",
       "      <td>라이트 다운 블루종 재킷 [블랙]</td>\n",
       "      <td>MHJK5003-BK</td>\n",
       "      <td>hsd1717</td>\n",
       "      <td>80</td>\n",
       "      <td>초겨울이나 늦은 겨울에 가볍게 입기 좋은 경량패딩입니다</td>\n",
       "    </tr>\n",
       "  </tbody>\n",
       "</table>\n",
       "<p>185 rows × 5 columns</p>\n",
       "</div>"
      ],
      "text/plain": [
       "                           product_names  product_ids       user_names  \\\n",
       "0   비건 스웨이드 오버핏 미니멀 인시전 스트레이트 집업 자켓 [블랙]           B5  그냥주노 jus._.juno   \n",
       "1   비건 스웨이드 오버핏 미니멀 인시전 스트레이트 집업 자켓 [블랙]           B5            하트도두밍   \n",
       "2   비건 스웨이드 오버핏 미니멀 인시전 스트레이트 집업 자켓 [블랙]           B5         이으니어디우르지   \n",
       "3   비건 스웨이드 오버핏 미니멀 인시전 스트레이트 집업 자켓 [블랙]           B5              밍코루   \n",
       "4   비건 스웨이드 오버핏 미니멀 인시전 스트레이트 집업 자켓 [블랙]           B5              노밀이   \n",
       "..                                   ...          ...              ...   \n",
       "40                    라이트 다운 블루종 재킷 [블랙]  MHJK5003-BK            기린스키위   \n",
       "41                    라이트 다운 블루종 재킷 [블랙]  MHJK5003-BK   Celebrity_choo   \n",
       "42                    라이트 다운 블루종 재킷 [블랙]  MHJK5003-BK          Mahrez1   \n",
       "43                    라이트 다운 블루종 재킷 [블랙]  MHJK5003-BK            앵그리성민   \n",
       "44                    라이트 다운 블루종 재킷 [블랙]  MHJK5003-BK          hsd1717   \n",
       "\n",
       "   user_ratings                                       user_reviews  \n",
       "0           100  배송은 느렸지만, 상품은 정말 좋습니다.이 가격에 절대 구할 수 없는 퀄리티. 잘 ...  \n",
       "1            60  일반후기에 다 적어두긴했는데 저는 만족스럽지 못한 옷이었어요ㅠㅠ여자치곤 통통한 편인...  \n",
       "2           100  청바지에 입기 좋아요 배송이 엄청 빨라서 놀랐어요 냄새도 별로 안나고 검정색이고 질...  \n",
       "3           100                       크 이쁘네요 이번 가을 아우터는 얘가 최애가 될듯요  \n",
       "4           100  심플 자켓을 찾고있다가 합리적인 가격으로 구매해서 기분이 넘 좋습니다 ㅎ_ㅎ 남녀공...  \n",
       "..          ...                                                ...  \n",
       "40          100                         정말 만족하는 제품입니다 이너로 입기 참 좋아요  \n",
       "41          100  쌀쌀한날 편하게 입기좋고 핏도 생각하던만큼 슬림해서 좋았다 교복위에 입어도 이쁘다 ...  \n",
       "42          100                       적당히 집 근처 돌아댕길때 입기 좋은 가성비 아우터  \n",
       "43          100  얇은 두께 치곤 따뜻합니다!! 가벼워서 사무실에서 일할때 계속 입고 있습니다 디자인...  \n",
       "44           80                     초겨울이나 늦은 겨울에 가볍게 입기 좋은 경량패딩입니다  \n",
       "\n",
       "[185 rows x 5 columns]"
      ]
     },
     "execution_count": 63,
     "metadata": {},
     "output_type": "execute_result"
    }
   ],
   "source": [
    "df_musinsa_review_raw_1_2 = df_musinsa_review_raw\n",
    "df_musinsa_review_raw_1_2"
   ]
  },
  {
   "cell_type": "code",
   "execution_count": 64,
   "metadata": {},
   "outputs": [],
   "source": [
    "df_musinsa_review_raw_1_2.to_csv('[이청하]review_아우터_240118.csv_1_2', index=False)"
   ]
  },
  {
   "cell_type": "markdown",
   "metadata": {},
   "source": [
    "---"
   ]
  },
  {
   "cell_type": "code",
   "execution_count": 52,
   "metadata": {},
   "outputs": [
    {
     "data": {
      "text/html": [
       "<div>\n",
       "<style scoped>\n",
       "    .dataframe tbody tr th:only-of-type {\n",
       "        vertical-align: middle;\n",
       "    }\n",
       "\n",
       "    .dataframe tbody tr th {\n",
       "        vertical-align: top;\n",
       "    }\n",
       "\n",
       "    .dataframe thead th {\n",
       "        text-align: right;\n",
       "    }\n",
       "</style>\n",
       "<table border=\"1\" class=\"dataframe\">\n",
       "  <thead>\n",
       "    <tr style=\"text-align: right;\">\n",
       "      <th></th>\n",
       "      <th>product_names</th>\n",
       "      <th>product_ids</th>\n",
       "      <th>user_names</th>\n",
       "      <th>user_ratings</th>\n",
       "      <th>user_reviews</th>\n",
       "    </tr>\n",
       "  </thead>\n",
       "  <tbody>\n",
       "    <tr>\n",
       "      <th>0</th>\n",
       "      <td>베이직 플리스 자켓 (U00DTJK59)</td>\n",
       "      <td>2646018</td>\n",
       "      <td>은양지꽃</td>\n",
       "      <td>80</td>\n",
       "      <td>좀 커서 건조기 돌렸는데 잘 안줄어드네요 ㅋ입고다닐만해요</td>\n",
       "    </tr>\n",
       "    <tr>\n",
       "      <th>1</th>\n",
       "      <td>베이직 플리스 자켓 (U00DTJK59)</td>\n",
       "      <td>2646018</td>\n",
       "      <td>떡볶이 사줘</td>\n",
       "      <td>80</td>\n",
       "      <td>따닷하니 좋네요 다들 한번 편하게 사서 입어보세요너무너무 좋아요</td>\n",
       "    </tr>\n",
       "    <tr>\n",
       "      <th>2</th>\n",
       "      <td>베이직 플리스 자켓 (U00DTJK59)</td>\n",
       "      <td>2646018</td>\n",
       "      <td>oh_sori</td>\n",
       "      <td>100</td>\n",
       "      <td>일단 색깔이 보통 생각하는 그레이가 아닌 소라 색이 섞여있는 밝은 그레이 라 너무 ...</td>\n",
       "    </tr>\n",
       "    <tr>\n",
       "      <th>3</th>\n",
       "      <td>베이직 플리스 자켓 (U00DTJK59)</td>\n",
       "      <td>2646018</td>\n",
       "      <td>773 bono</td>\n",
       "      <td>80</td>\n",
       "      <td>가볍고 편해요 헉교에서 잘 입어요 보플은 좀 생기네요</td>\n",
       "    </tr>\n",
       "    <tr>\n",
       "      <th>4</th>\n",
       "      <td>베이직 플리스 자켓 (U00DTJK59)</td>\n",
       "      <td>2646018</td>\n",
       "      <td>.,,,,,,</td>\n",
       "      <td>100</td>\n",
       "      <td>M사이즈가 품절이라 라지로 사서 클줄알았는데 사이즈괜찮았고 예뻐용</td>\n",
       "    </tr>\n",
       "    <tr>\n",
       "      <th>...</th>\n",
       "      <td>...</td>\n",
       "      <td>...</td>\n",
       "      <td>...</td>\n",
       "      <td>...</td>\n",
       "      <td>...</td>\n",
       "    </tr>\n",
       "    <tr>\n",
       "      <th>40</th>\n",
       "      <td>유스풀 벌룬 후드집업 네이비 SJHD1327</td>\n",
       "      <td>2170224</td>\n",
       "      <td>187-1cm.</td>\n",
       "      <td>100</td>\n",
       "      <td>사이즈도 벌룬핏에 맞게 엄청 예쁘고 색감도 딱 좋아요. 사이즈가 엄청 마음에 드는 ...</td>\n",
       "    </tr>\n",
       "    <tr>\n",
       "      <th>41</th>\n",
       "      <td>유스풀 벌룬 후드집업 네이비 SJHD1327</td>\n",
       "      <td>2170224</td>\n",
       "      <td>sinseon_3</td>\n",
       "      <td>100</td>\n",
       "      <td>여러분들!!그냥 보이시는대로 깔끔하고 예쁩니다!!👍👍</td>\n",
       "    </tr>\n",
       "    <tr>\n",
       "      <th>42</th>\n",
       "      <td>유스풀 벌룬 후드집업 네이비 SJHD1327</td>\n",
       "      <td>2170224</td>\n",
       "      <td>K._jun_</td>\n",
       "      <td>100</td>\n",
       "      <td>색깔이 안예쁠줄 알았는데 생각보다 예쁘고 교복에 코디하기 좋은거 같아요. 친구들이 ...</td>\n",
       "    </tr>\n",
       "    <tr>\n",
       "      <th>43</th>\n",
       "      <td>유스풀 벌룬 후드집업 네이비 SJHD1327</td>\n",
       "      <td>2170224</td>\n",
       "      <td>leejen_o_군 여친</td>\n",
       "      <td>100</td>\n",
       "      <td>따듯하고 편하게입게 좋아요 걍 내 살점의 일부임</td>\n",
       "    </tr>\n",
       "    <tr>\n",
       "      <th>44</th>\n",
       "      <td>유스풀 벌룬 후드집업 네이비 SJHD1327</td>\n",
       "      <td>2170224</td>\n",
       "      <td>just1202</td>\n",
       "      <td>100</td>\n",
       "      <td>기모가 적당히 있어서 봄과 가을에 입기 좋습니다</td>\n",
       "    </tr>\n",
       "  </tbody>\n",
       "</table>\n",
       "<p>3325 rows × 5 columns</p>\n",
       "</div>"
      ],
      "text/plain": [
       "               product_names product_ids     user_names user_ratings  \\\n",
       "0     베이직 플리스 자켓 (U00DTJK59)     2646018           은양지꽃           80   \n",
       "1     베이직 플리스 자켓 (U00DTJK59)     2646018         떡볶이 사줘           80   \n",
       "2     베이직 플리스 자켓 (U00DTJK59)     2646018        oh_sori          100   \n",
       "3     베이직 플리스 자켓 (U00DTJK59)     2646018       773 bono           80   \n",
       "4     베이직 플리스 자켓 (U00DTJK59)     2646018        .,,,,,,          100   \n",
       "..                       ...         ...            ...          ...   \n",
       "40  유스풀 벌룬 후드집업 네이비 SJHD1327     2170224       187-1cm.          100   \n",
       "41  유스풀 벌룬 후드집업 네이비 SJHD1327     2170224      sinseon_3          100   \n",
       "42  유스풀 벌룬 후드집업 네이비 SJHD1327     2170224        K._jun_          100   \n",
       "43  유스풀 벌룬 후드집업 네이비 SJHD1327     2170224  leejen_o_군 여친          100   \n",
       "44  유스풀 벌룬 후드집업 네이비 SJHD1327     2170224       just1202          100   \n",
       "\n",
       "                                         user_reviews  \n",
       "0                     좀 커서 건조기 돌렸는데 잘 안줄어드네요 ㅋ입고다닐만해요  \n",
       "1                 따닷하니 좋네요 다들 한번 편하게 사서 입어보세요너무너무 좋아요  \n",
       "2   일단 색깔이 보통 생각하는 그레이가 아닌 소라 색이 섞여있는 밝은 그레이 라 너무 ...  \n",
       "3                       가볍고 편해요 헉교에서 잘 입어요 보플은 좀 생기네요  \n",
       "4                M사이즈가 품절이라 라지로 사서 클줄알았는데 사이즈괜찮았고 예뻐용  \n",
       "..                                                ...  \n",
       "40  사이즈도 벌룬핏에 맞게 엄청 예쁘고 색감도 딱 좋아요. 사이즈가 엄청 마음에 드는 ...  \n",
       "41                      여러분들!!그냥 보이시는대로 깔끔하고 예쁩니다!!👍👍  \n",
       "42  색깔이 안예쁠줄 알았는데 생각보다 예쁘고 교복에 코디하기 좋은거 같아요. 친구들이 ...  \n",
       "43                         따듯하고 편하게입게 좋아요 걍 내 살점의 일부임  \n",
       "44                         기모가 적당히 있어서 봄과 가을에 입기 좋습니다  \n",
       "\n",
       "[3325 rows x 5 columns]"
      ]
     },
     "execution_count": 52,
     "metadata": {},
     "output_type": "execute_result"
    }
   ],
   "source": [
    "df_musinsa_review_raw"
   ]
  },
  {
   "cell_type": "code",
   "execution_count": 53,
   "metadata": {
    "scrolled": true
   },
   "outputs": [
    {
     "data": {
      "text/html": [
       "<div>\n",
       "<style scoped>\n",
       "    .dataframe tbody tr th:only-of-type {\n",
       "        vertical-align: middle;\n",
       "    }\n",
       "\n",
       "    .dataframe tbody tr th {\n",
       "        vertical-align: top;\n",
       "    }\n",
       "\n",
       "    .dataframe thead th {\n",
       "        text-align: right;\n",
       "    }\n",
       "</style>\n",
       "<table border=\"1\" class=\"dataframe\">\n",
       "  <thead>\n",
       "    <tr style=\"text-align: right;\">\n",
       "      <th></th>\n",
       "      <th>product_names</th>\n",
       "      <th>product_ids</th>\n",
       "      <th>user_names</th>\n",
       "      <th>user_ratings</th>\n",
       "      <th>user_reviews</th>\n",
       "    </tr>\n",
       "  </thead>\n",
       "  <tbody>\n",
       "    <tr>\n",
       "      <th>0</th>\n",
       "      <td>베이직 플리스 자켓 (U00DTJK59)</td>\n",
       "      <td>2646018</td>\n",
       "      <td>은양지꽃</td>\n",
       "      <td>80</td>\n",
       "      <td>좀 커서 건조기 돌렸는데 잘 안줄어드네요 ㅋ입고다닐만해요</td>\n",
       "    </tr>\n",
       "    <tr>\n",
       "      <th>1</th>\n",
       "      <td>베이직 플리스 자켓 (U00DTJK59)</td>\n",
       "      <td>2646018</td>\n",
       "      <td>떡볶이 사줘</td>\n",
       "      <td>80</td>\n",
       "      <td>따닷하니 좋네요 다들 한번 편하게 사서 입어보세요너무너무 좋아요</td>\n",
       "    </tr>\n",
       "    <tr>\n",
       "      <th>2</th>\n",
       "      <td>베이직 플리스 자켓 (U00DTJK59)</td>\n",
       "      <td>2646018</td>\n",
       "      <td>oh_sori</td>\n",
       "      <td>100</td>\n",
       "      <td>일단 색깔이 보통 생각하는 그레이가 아닌 소라 색이 섞여있는 밝은 그레이 라 너무 ...</td>\n",
       "    </tr>\n",
       "    <tr>\n",
       "      <th>3</th>\n",
       "      <td>베이직 플리스 자켓 (U00DTJK59)</td>\n",
       "      <td>2646018</td>\n",
       "      <td>773 bono</td>\n",
       "      <td>80</td>\n",
       "      <td>가볍고 편해요 헉교에서 잘 입어요 보플은 좀 생기네요</td>\n",
       "    </tr>\n",
       "    <tr>\n",
       "      <th>4</th>\n",
       "      <td>베이직 플리스 자켓 (U00DTJK59)</td>\n",
       "      <td>2646018</td>\n",
       "      <td>.,,,,,,</td>\n",
       "      <td>100</td>\n",
       "      <td>M사이즈가 품절이라 라지로 사서 클줄알았는데 사이즈괜찮았고 예뻐용</td>\n",
       "    </tr>\n",
       "    <tr>\n",
       "      <th>...</th>\n",
       "      <td>...</td>\n",
       "      <td>...</td>\n",
       "      <td>...</td>\n",
       "      <td>...</td>\n",
       "      <td>...</td>\n",
       "    </tr>\n",
       "    <tr>\n",
       "      <th>40</th>\n",
       "      <td>유스풀 벌룬 후드집업 네이비 SJHD1327</td>\n",
       "      <td>2170224</td>\n",
       "      <td>187-1cm.</td>\n",
       "      <td>100</td>\n",
       "      <td>사이즈도 벌룬핏에 맞게 엄청 예쁘고 색감도 딱 좋아요. 사이즈가 엄청 마음에 드는 ...</td>\n",
       "    </tr>\n",
       "    <tr>\n",
       "      <th>41</th>\n",
       "      <td>유스풀 벌룬 후드집업 네이비 SJHD1327</td>\n",
       "      <td>2170224</td>\n",
       "      <td>sinseon_3</td>\n",
       "      <td>100</td>\n",
       "      <td>여러분들!!그냥 보이시는대로 깔끔하고 예쁩니다!!👍👍</td>\n",
       "    </tr>\n",
       "    <tr>\n",
       "      <th>42</th>\n",
       "      <td>유스풀 벌룬 후드집업 네이비 SJHD1327</td>\n",
       "      <td>2170224</td>\n",
       "      <td>K._jun_</td>\n",
       "      <td>100</td>\n",
       "      <td>색깔이 안예쁠줄 알았는데 생각보다 예쁘고 교복에 코디하기 좋은거 같아요. 친구들이 ...</td>\n",
       "    </tr>\n",
       "    <tr>\n",
       "      <th>43</th>\n",
       "      <td>유스풀 벌룬 후드집업 네이비 SJHD1327</td>\n",
       "      <td>2170224</td>\n",
       "      <td>leejen_o_군 여친</td>\n",
       "      <td>100</td>\n",
       "      <td>따듯하고 편하게입게 좋아요 걍 내 살점의 일부임</td>\n",
       "    </tr>\n",
       "    <tr>\n",
       "      <th>44</th>\n",
       "      <td>유스풀 벌룬 후드집업 네이비 SJHD1327</td>\n",
       "      <td>2170224</td>\n",
       "      <td>just1202</td>\n",
       "      <td>100</td>\n",
       "      <td>기모가 적당히 있어서 봄과 가을에 입기 좋습니다</td>\n",
       "    </tr>\n",
       "  </tbody>\n",
       "</table>\n",
       "<p>3325 rows × 5 columns</p>\n",
       "</div>"
      ],
      "text/plain": [
       "               product_names product_ids     user_names user_ratings  \\\n",
       "0     베이직 플리스 자켓 (U00DTJK59)     2646018           은양지꽃           80   \n",
       "1     베이직 플리스 자켓 (U00DTJK59)     2646018         떡볶이 사줘           80   \n",
       "2     베이직 플리스 자켓 (U00DTJK59)     2646018        oh_sori          100   \n",
       "3     베이직 플리스 자켓 (U00DTJK59)     2646018       773 bono           80   \n",
       "4     베이직 플리스 자켓 (U00DTJK59)     2646018        .,,,,,,          100   \n",
       "..                       ...         ...            ...          ...   \n",
       "40  유스풀 벌룬 후드집업 네이비 SJHD1327     2170224       187-1cm.          100   \n",
       "41  유스풀 벌룬 후드집업 네이비 SJHD1327     2170224      sinseon_3          100   \n",
       "42  유스풀 벌룬 후드집업 네이비 SJHD1327     2170224        K._jun_          100   \n",
       "43  유스풀 벌룬 후드집업 네이비 SJHD1327     2170224  leejen_o_군 여친          100   \n",
       "44  유스풀 벌룬 후드집업 네이비 SJHD1327     2170224       just1202          100   \n",
       "\n",
       "                                         user_reviews  \n",
       "0                     좀 커서 건조기 돌렸는데 잘 안줄어드네요 ㅋ입고다닐만해요  \n",
       "1                 따닷하니 좋네요 다들 한번 편하게 사서 입어보세요너무너무 좋아요  \n",
       "2   일단 색깔이 보통 생각하는 그레이가 아닌 소라 색이 섞여있는 밝은 그레이 라 너무 ...  \n",
       "3                       가볍고 편해요 헉교에서 잘 입어요 보플은 좀 생기네요  \n",
       "4                M사이즈가 품절이라 라지로 사서 클줄알았는데 사이즈괜찮았고 예뻐용  \n",
       "..                                                ...  \n",
       "40  사이즈도 벌룬핏에 맞게 엄청 예쁘고 색감도 딱 좋아요. 사이즈가 엄청 마음에 드는 ...  \n",
       "41                      여러분들!!그냥 보이시는대로 깔끔하고 예쁩니다!!👍👍  \n",
       "42  색깔이 안예쁠줄 알았는데 생각보다 예쁘고 교복에 코디하기 좋은거 같아요. 친구들이 ...  \n",
       "43                         따듯하고 편하게입게 좋아요 걍 내 살점의 일부임  \n",
       "44                         기모가 적당히 있어서 봄과 가을에 입기 좋습니다  \n",
       "\n",
       "[3325 rows x 5 columns]"
      ]
     },
     "execution_count": 53,
     "metadata": {},
     "output_type": "execute_result"
    }
   ],
   "source": [
    "df_musinsa_review_raw_1 = df_musinsa_review_raw\n",
    "df_musinsa_review_raw_1"
   ]
  },
  {
   "cell_type": "code",
   "execution_count": 54,
   "metadata": {},
   "outputs": [],
   "source": [
    "df_musinsa_review_raw_1.to_csv('[이청하]review_아우터_240118.csv_1', index=False)"
   ]
  },
  {
   "cell_type": "markdown",
   "metadata": {},
   "source": [
    "---"
   ]
  },
  {
   "cell_type": "code",
   "execution_count": 43,
   "metadata": {},
   "outputs": [
    {
     "data": {
      "text/html": [
       "<div>\n",
       "<style scoped>\n",
       "    .dataframe tbody tr th:only-of-type {\n",
       "        vertical-align: middle;\n",
       "    }\n",
       "\n",
       "    .dataframe tbody tr th {\n",
       "        vertical-align: top;\n",
       "    }\n",
       "\n",
       "    .dataframe thead th {\n",
       "        text-align: right;\n",
       "    }\n",
       "</style>\n",
       "<table border=\"1\" class=\"dataframe\">\n",
       "  <thead>\n",
       "    <tr style=\"text-align: right;\">\n",
       "      <th></th>\n",
       "      <th>product_names</th>\n",
       "      <th>product_ids</th>\n",
       "      <th>user_names</th>\n",
       "      <th>user_ratings</th>\n",
       "      <th>user_reviews</th>\n",
       "    </tr>\n",
       "  </thead>\n",
       "  <tbody>\n",
       "    <tr>\n",
       "      <th>0</th>\n",
       "      <td>072903 경량 바머 자켓</td>\n",
       "      <td>5000402643</td>\n",
       "      <td>필섭</td>\n",
       "      <td>100</td>\n",
       "      <td>저렴하게 잘 구매했네요 어디에나 잘 어울릴거같아요</td>\n",
       "    </tr>\n",
       "    <tr>\n",
       "      <th>1</th>\n",
       "      <td>072903 경량 바머 자켓</td>\n",
       "      <td>5000402643</td>\n",
       "      <td>김*완</td>\n",
       "      <td>100</td>\n",
       "      <td>색이 매우 이쁩니다. 환절기에 입기 좋은 따뜻함이고 가벼워서 편해요.</td>\n",
       "    </tr>\n",
       "    <tr>\n",
       "      <th>2</th>\n",
       "      <td>072903 경량 바머 자켓</td>\n",
       "      <td>5000402643</td>\n",
       "      <td>엠뷸란스</td>\n",
       "      <td>60</td>\n",
       "      <td>털이 너무 빠져요.. 먼지도 너무 잘 달라붙은 재질이라 입을때마다 돌돌이 써줘야 할...</td>\n",
       "    </tr>\n",
       "    <tr>\n",
       "      <th>3</th>\n",
       "      <td>072903 경량 바머 자켓</td>\n",
       "      <td>5000402643</td>\n",
       "      <td>김*완</td>\n",
       "      <td>100</td>\n",
       "      <td>가벼운데 따뜻하고 핏이 이쁩니다. 환절기에 입으면 좋아용</td>\n",
       "    </tr>\n",
       "    <tr>\n",
       "      <th>4</th>\n",
       "      <td>072903 경량 바머 자켓</td>\n",
       "      <td>5000402643</td>\n",
       "      <td>패션배울래요</td>\n",
       "      <td>100</td>\n",
       "      <td>봄이지만 아침과 저녁에 쌀쌀해서잠바 보다는 가벼유 거 입고 싶었는데저렴하게 구입해서...</td>\n",
       "    </tr>\n",
       "    <tr>\n",
       "      <th>...</th>\n",
       "      <td>...</td>\n",
       "      <td>...</td>\n",
       "      <td>...</td>\n",
       "      <td>...</td>\n",
       "      <td>...</td>\n",
       "    </tr>\n",
       "    <tr>\n",
       "      <th>30</th>\n",
       "      <td>코트 양털 후리스2X 블랙</td>\n",
       "      <td>PA001</td>\n",
       "      <td>바니바니뚜</td>\n",
       "      <td>100</td>\n",
       "      <td>두툼한 오버핏으로 떨어지는 스타일이라 좋아요</td>\n",
       "    </tr>\n",
       "    <tr>\n",
       "      <th>31</th>\n",
       "      <td>코트 양털 후리스2X 블랙</td>\n",
       "      <td>PA001</td>\n",
       "      <td>일어나하체하자</td>\n",
       "      <td>100</td>\n",
       "      <td>평소 XL 입는 운동 좋아하는 사람입니다~이 옷은 L로 가는게 나았을 것 같네요전 ...</td>\n",
       "    </tr>\n",
       "    <tr>\n",
       "      <th>32</th>\n",
       "      <td>코트 양털 후리스2X 블랙</td>\n",
       "      <td>PA001</td>\n",
       "      <td>멤버_e874915b3161</td>\n",
       "      <td>80</td>\n",
       "      <td>가성비 아주괜찮은제품이지만 오래는 못입늘거같아요</td>\n",
       "    </tr>\n",
       "    <tr>\n",
       "      <th>33</th>\n",
       "      <td>코트 양털 후리스2X 블랙</td>\n",
       "      <td>PA001</td>\n",
       "      <td>김동현1225</td>\n",
       "      <td>100</td>\n",
       "      <td>따뜻하고 좋아요 입기가편해서좋습니다정말좋습니다</td>\n",
       "    </tr>\n",
       "    <tr>\n",
       "      <th>34</th>\n",
       "      <td>코트 양털 후리스2X 블랙</td>\n",
       "      <td>PA001</td>\n",
       "      <td>후망</td>\n",
       "      <td>100</td>\n",
       "      <td>배송은 늦었지만 오버하게 입으려고 제일 큰 사이즈 샀는데 확실히 오버하고 이쁘네요.</td>\n",
       "    </tr>\n",
       "  </tbody>\n",
       "</table>\n",
       "<p>6035 rows × 5 columns</p>\n",
       "</div>"
      ],
      "text/plain": [
       "      product_names product_ids       user_names user_ratings  \\\n",
       "0   072903 경량 바머 자켓  5000402643               필섭          100   \n",
       "1   072903 경량 바머 자켓  5000402643              김*완          100   \n",
       "2   072903 경량 바머 자켓  5000402643             엠뷸란스           60   \n",
       "3   072903 경량 바머 자켓  5000402643              김*완          100   \n",
       "4   072903 경량 바머 자켓  5000402643           패션배울래요          100   \n",
       "..              ...         ...              ...          ...   \n",
       "30   코트 양털 후리스2X 블랙       PA001            바니바니뚜          100   \n",
       "31   코트 양털 후리스2X 블랙       PA001          일어나하체하자          100   \n",
       "32   코트 양털 후리스2X 블랙       PA001  멤버_e874915b3161           80   \n",
       "33   코트 양털 후리스2X 블랙       PA001          김동현1225          100   \n",
       "34   코트 양털 후리스2X 블랙       PA001               후망          100   \n",
       "\n",
       "                                         user_reviews  \n",
       "0                         저렴하게 잘 구매했네요 어디에나 잘 어울릴거같아요  \n",
       "1              색이 매우 이쁩니다. 환절기에 입기 좋은 따뜻함이고 가벼워서 편해요.  \n",
       "2   털이 너무 빠져요.. 먼지도 너무 잘 달라붙은 재질이라 입을때마다 돌돌이 써줘야 할...  \n",
       "3                     가벼운데 따뜻하고 핏이 이쁩니다. 환절기에 입으면 좋아용  \n",
       "4   봄이지만 아침과 저녁에 쌀쌀해서잠바 보다는 가벼유 거 입고 싶었는데저렴하게 구입해서...  \n",
       "..                                                ...  \n",
       "30                           두툼한 오버핏으로 떨어지는 스타일이라 좋아요  \n",
       "31  평소 XL 입는 운동 좋아하는 사람입니다~이 옷은 L로 가는게 나았을 것 같네요전 ...  \n",
       "32                         가성비 아주괜찮은제품이지만 오래는 못입늘거같아요  \n",
       "33                          따뜻하고 좋아요 입기가편해서좋습니다정말좋습니다  \n",
       "34     배송은 늦었지만 오버하게 입으려고 제일 큰 사이즈 샀는데 확실히 오버하고 이쁘네요.  \n",
       "\n",
       "[6035 rows x 5 columns]"
      ]
     },
     "execution_count": 43,
     "metadata": {},
     "output_type": "execute_result"
    }
   ],
   "source": [
    "df_musinsa_review_raw_3 = df_musinsa_review_raw\n",
    "df_musinsa_review_raw_3"
   ]
  },
  {
   "cell_type": "code",
   "execution_count": 44,
   "metadata": {},
   "outputs": [],
   "source": [
    "df_musinsa_review_raw_3.to_csv('[이청하]review_아우터_240118.csv_3', index=False)"
   ]
  },
  {
   "cell_type": "markdown",
   "metadata": {},
   "source": [
    "---"
   ]
  },
  {
   "cell_type": "code",
   "execution_count": 34,
   "metadata": {
    "scrolled": true
   },
   "outputs": [
    {
     "data": {
      "text/html": [
       "<div>\n",
       "<style scoped>\n",
       "    .dataframe tbody tr th:only-of-type {\n",
       "        vertical-align: middle;\n",
       "    }\n",
       "\n",
       "    .dataframe tbody tr th {\n",
       "        vertical-align: top;\n",
       "    }\n",
       "\n",
       "    .dataframe thead th {\n",
       "        text-align: right;\n",
       "    }\n",
       "</style>\n",
       "<table border=\"1\" class=\"dataframe\">\n",
       "  <thead>\n",
       "    <tr style=\"text-align: right;\">\n",
       "      <th></th>\n",
       "      <th>product_names</th>\n",
       "      <th>product_ids</th>\n",
       "      <th>user_names</th>\n",
       "      <th>user_ratings</th>\n",
       "      <th>user_reviews</th>\n",
       "    </tr>\n",
       "  </thead>\n",
       "  <tbody>\n",
       "    <tr>\n",
       "      <th>0</th>\n",
       "      <td>하버드 클래식 더플 코트 HWLC-34301 BEIGE</td>\n",
       "      <td>5004147693</td>\n",
       "      <td>백림맘</td>\n",
       "      <td>100</td>\n",
       "      <td>겨울코트는 더플코트죠! 코트지만 누빔안감이 있어 따뜻해요!! 입학시즌 졸업시즌이라 ...</td>\n",
       "    </tr>\n",
       "    <tr>\n",
       "      <th>1</th>\n",
       "      <td>하버드 클래식 더플 코트 HWLC-34301 BEIGE</td>\n",
       "      <td>5004147693</td>\n",
       "      <td>앙그류</td>\n",
       "      <td>100</td>\n",
       "      <td>너무 이뻐요, 색감도 너무 이쁘고 어디에나 코디하기 좋을거 같아요.</td>\n",
       "    </tr>\n",
       "    <tr>\n",
       "      <th>2</th>\n",
       "      <td>하버드 클래식 더플 코트 HWLC-34301 BEIGE</td>\n",
       "      <td>5004147693</td>\n",
       "      <td>뉴비_122fcf376465</td>\n",
       "      <td>80</td>\n",
       "      <td>좋은물건감사합니다. 빠른 배송 교환 감사합니다.</td>\n",
       "    </tr>\n",
       "    <tr>\n",
       "      <th>0</th>\n",
       "      <td>하버드 폴라플리스 셋업 HWSU-34303 BEIGE</td>\n",
       "      <td>5004005696</td>\n",
       "      <td>두리천사</td>\n",
       "      <td>100</td>\n",
       "      <td>너무따뜻해요목둘레가 약간 답답하지만포슬포슬 보온 짱입니다</td>\n",
       "    </tr>\n",
       "    <tr>\n",
       "      <th>0</th>\n",
       "      <td>덤블퍼 더플 코트 (네이비) CV233OCT01_NVY</td>\n",
       "      <td>CV233OCT01_NVY</td>\n",
       "      <td>썰썰맘</td>\n",
       "      <td>100</td>\n",
       "      <td>더블코트가 밝은색상이 있어서 네이비로 찾아보다가 커버낫에 있길래 냉큼 구입했어요 ㅎ...</td>\n",
       "    </tr>\n",
       "    <tr>\n",
       "      <th>...</th>\n",
       "      <td>...</td>\n",
       "      <td>...</td>\n",
       "      <td>...</td>\n",
       "      <td>...</td>\n",
       "      <td>...</td>\n",
       "    </tr>\n",
       "    <tr>\n",
       "      <th>24</th>\n",
       "      <td>래빗 후드 집업 (화이트)</td>\n",
       "      <td>2021074901831</td>\n",
       "      <td>soy_sauce_yummy</td>\n",
       "      <td>100</td>\n",
       "      <td>짱 귀여운 토끼 귀 후드 … 사이즈는 팔도 길고 꽤 큽니다. 색깔은 약간의 형광기가...</td>\n",
       "    </tr>\n",
       "    <tr>\n",
       "      <th>25</th>\n",
       "      <td>래빗 후드 집업 (화이트)</td>\n",
       "      <td>2021074901831</td>\n",
       "      <td>Seaty</td>\n",
       "      <td>100</td>\n",
       "      <td>마음에 드네요, 가격이 저렴합니다.배송이 빠릅니다. 디자인이 예쁘네요.</td>\n",
       "    </tr>\n",
       "    <tr>\n",
       "      <th>26</th>\n",
       "      <td>래빗 후드 집업 (화이트)</td>\n",
       "      <td>2021074901831</td>\n",
       "      <td>son6oss</td>\n",
       "      <td>100</td>\n",
       "      <td>그저 귀여워서 샀는데너무 귀여워서 입을때마다 행복해요</td>\n",
       "    </tr>\n",
       "    <tr>\n",
       "      <th>27</th>\n",
       "      <td>래빗 후드 집업 (화이트)</td>\n",
       "      <td>2021074901831</td>\n",
       "      <td>wofl318</td>\n",
       "      <td>100</td>\n",
       "      <td>크기랑 길이 적당해서 예쁘고 토끼귀도 너무 귀여워요</td>\n",
       "    </tr>\n",
       "    <tr>\n",
       "      <th>28</th>\n",
       "      <td>래빗 후드 집업 (화이트)</td>\n",
       "      <td>2021074901831</td>\n",
       "      <td>Mini뭘봐</td>\n",
       "      <td>100</td>\n",
       "      <td>솔직히 사진만 보구 기대도 많이 안했는데 너무 귀욥구 이뻐요!!! 여자친구도 좋아하...</td>\n",
       "    </tr>\n",
       "  </tbody>\n",
       "</table>\n",
       "<p>6532 rows × 5 columns</p>\n",
       "</div>"
      ],
      "text/plain": [
       "                     product_names     product_ids       user_names  \\\n",
       "0   하버드 클래식 더플 코트 HWLC-34301 BEIGE      5004147693              백림맘   \n",
       "1   하버드 클래식 더플 코트 HWLC-34301 BEIGE      5004147693              앙그류   \n",
       "2   하버드 클래식 더플 코트 HWLC-34301 BEIGE      5004147693  뉴비_122fcf376465   \n",
       "0    하버드 폴라플리스 셋업 HWSU-34303 BEIGE      5004005696             두리천사   \n",
       "0   덤블퍼 더플 코트 (네이비) CV233OCT01_NVY  CV233OCT01_NVY              썰썰맘   \n",
       "..                             ...             ...              ...   \n",
       "24                  래빗 후드 집업 (화이트)   2021074901831  soy_sauce_yummy   \n",
       "25                  래빗 후드 집업 (화이트)   2021074901831            Seaty   \n",
       "26                  래빗 후드 집업 (화이트)   2021074901831          son6oss   \n",
       "27                  래빗 후드 집업 (화이트)   2021074901831          wofl318   \n",
       "28                  래빗 후드 집업 (화이트)   2021074901831           Mini뭘봐   \n",
       "\n",
       "   user_ratings                                       user_reviews  \n",
       "0           100  겨울코트는 더플코트죠! 코트지만 누빔안감이 있어 따뜻해요!! 입학시즌 졸업시즌이라 ...  \n",
       "1           100              너무 이뻐요, 색감도 너무 이쁘고 어디에나 코디하기 좋을거 같아요.  \n",
       "2            80                         좋은물건감사합니다. 빠른 배송 교환 감사합니다.  \n",
       "0           100                    너무따뜻해요목둘레가 약간 답답하지만포슬포슬 보온 짱입니다  \n",
       "0           100  더블코트가 밝은색상이 있어서 네이비로 찾아보다가 커버낫에 있길래 냉큼 구입했어요 ㅎ...  \n",
       "..          ...                                                ...  \n",
       "24          100  짱 귀여운 토끼 귀 후드 … 사이즈는 팔도 길고 꽤 큽니다. 색깔은 약간의 형광기가...  \n",
       "25          100            마음에 드네요, 가격이 저렴합니다.배송이 빠릅니다. 디자인이 예쁘네요.  \n",
       "26          100                      그저 귀여워서 샀는데너무 귀여워서 입을때마다 행복해요  \n",
       "27          100                       크기랑 길이 적당해서 예쁘고 토끼귀도 너무 귀여워요  \n",
       "28          100  솔직히 사진만 보구 기대도 많이 안했는데 너무 귀욥구 이뻐요!!! 여자친구도 좋아하...  \n",
       "\n",
       "[6532 rows x 5 columns]"
      ]
     },
     "execution_count": 34,
     "metadata": {},
     "output_type": "execute_result"
    }
   ],
   "source": [
    "df_musinsa_review_raw"
   ]
  },
  {
   "cell_type": "code",
   "execution_count": 35,
   "metadata": {},
   "outputs": [
    {
     "data": {
      "text/html": [
       "<div>\n",
       "<style scoped>\n",
       "    .dataframe tbody tr th:only-of-type {\n",
       "        vertical-align: middle;\n",
       "    }\n",
       "\n",
       "    .dataframe tbody tr th {\n",
       "        vertical-align: top;\n",
       "    }\n",
       "\n",
       "    .dataframe thead th {\n",
       "        text-align: right;\n",
       "    }\n",
       "</style>\n",
       "<table border=\"1\" class=\"dataframe\">\n",
       "  <thead>\n",
       "    <tr style=\"text-align: right;\">\n",
       "      <th></th>\n",
       "      <th>product_names</th>\n",
       "      <th>product_ids</th>\n",
       "      <th>user_names</th>\n",
       "      <th>user_ratings</th>\n",
       "      <th>user_reviews</th>\n",
       "    </tr>\n",
       "  </thead>\n",
       "  <tbody>\n",
       "    <tr>\n",
       "      <th>0</th>\n",
       "      <td>하버드 클래식 더플 코트 HWLC-34301 BEIGE</td>\n",
       "      <td>5004147693</td>\n",
       "      <td>백림맘</td>\n",
       "      <td>100</td>\n",
       "      <td>겨울코트는 더플코트죠! 코트지만 누빔안감이 있어 따뜻해요!! 입학시즌 졸업시즌이라 ...</td>\n",
       "    </tr>\n",
       "    <tr>\n",
       "      <th>1</th>\n",
       "      <td>하버드 클래식 더플 코트 HWLC-34301 BEIGE</td>\n",
       "      <td>5004147693</td>\n",
       "      <td>앙그류</td>\n",
       "      <td>100</td>\n",
       "      <td>너무 이뻐요, 색감도 너무 이쁘고 어디에나 코디하기 좋을거 같아요.</td>\n",
       "    </tr>\n",
       "    <tr>\n",
       "      <th>2</th>\n",
       "      <td>하버드 클래식 더플 코트 HWLC-34301 BEIGE</td>\n",
       "      <td>5004147693</td>\n",
       "      <td>뉴비_122fcf376465</td>\n",
       "      <td>80</td>\n",
       "      <td>좋은물건감사합니다. 빠른 배송 교환 감사합니다.</td>\n",
       "    </tr>\n",
       "    <tr>\n",
       "      <th>0</th>\n",
       "      <td>하버드 폴라플리스 셋업 HWSU-34303 BEIGE</td>\n",
       "      <td>5004005696</td>\n",
       "      <td>두리천사</td>\n",
       "      <td>100</td>\n",
       "      <td>너무따뜻해요목둘레가 약간 답답하지만포슬포슬 보온 짱입니다</td>\n",
       "    </tr>\n",
       "    <tr>\n",
       "      <th>0</th>\n",
       "      <td>덤블퍼 더플 코트 (네이비) CV233OCT01_NVY</td>\n",
       "      <td>CV233OCT01_NVY</td>\n",
       "      <td>썰썰맘</td>\n",
       "      <td>100</td>\n",
       "      <td>더블코트가 밝은색상이 있어서 네이비로 찾아보다가 커버낫에 있길래 냉큼 구입했어요 ㅎ...</td>\n",
       "    </tr>\n",
       "    <tr>\n",
       "      <th>...</th>\n",
       "      <td>...</td>\n",
       "      <td>...</td>\n",
       "      <td>...</td>\n",
       "      <td>...</td>\n",
       "      <td>...</td>\n",
       "    </tr>\n",
       "    <tr>\n",
       "      <th>24</th>\n",
       "      <td>래빗 후드 집업 (화이트)</td>\n",
       "      <td>2021074901831</td>\n",
       "      <td>soy_sauce_yummy</td>\n",
       "      <td>100</td>\n",
       "      <td>짱 귀여운 토끼 귀 후드 … 사이즈는 팔도 길고 꽤 큽니다. 색깔은 약간의 형광기가...</td>\n",
       "    </tr>\n",
       "    <tr>\n",
       "      <th>25</th>\n",
       "      <td>래빗 후드 집업 (화이트)</td>\n",
       "      <td>2021074901831</td>\n",
       "      <td>Seaty</td>\n",
       "      <td>100</td>\n",
       "      <td>마음에 드네요, 가격이 저렴합니다.배송이 빠릅니다. 디자인이 예쁘네요.</td>\n",
       "    </tr>\n",
       "    <tr>\n",
       "      <th>26</th>\n",
       "      <td>래빗 후드 집업 (화이트)</td>\n",
       "      <td>2021074901831</td>\n",
       "      <td>son6oss</td>\n",
       "      <td>100</td>\n",
       "      <td>그저 귀여워서 샀는데너무 귀여워서 입을때마다 행복해요</td>\n",
       "    </tr>\n",
       "    <tr>\n",
       "      <th>27</th>\n",
       "      <td>래빗 후드 집업 (화이트)</td>\n",
       "      <td>2021074901831</td>\n",
       "      <td>wofl318</td>\n",
       "      <td>100</td>\n",
       "      <td>크기랑 길이 적당해서 예쁘고 토끼귀도 너무 귀여워요</td>\n",
       "    </tr>\n",
       "    <tr>\n",
       "      <th>28</th>\n",
       "      <td>래빗 후드 집업 (화이트)</td>\n",
       "      <td>2021074901831</td>\n",
       "      <td>Mini뭘봐</td>\n",
       "      <td>100</td>\n",
       "      <td>솔직히 사진만 보구 기대도 많이 안했는데 너무 귀욥구 이뻐요!!! 여자친구도 좋아하...</td>\n",
       "    </tr>\n",
       "  </tbody>\n",
       "</table>\n",
       "<p>6532 rows × 5 columns</p>\n",
       "</div>"
      ],
      "text/plain": [
       "                     product_names     product_ids       user_names  \\\n",
       "0   하버드 클래식 더플 코트 HWLC-34301 BEIGE      5004147693              백림맘   \n",
       "1   하버드 클래식 더플 코트 HWLC-34301 BEIGE      5004147693              앙그류   \n",
       "2   하버드 클래식 더플 코트 HWLC-34301 BEIGE      5004147693  뉴비_122fcf376465   \n",
       "0    하버드 폴라플리스 셋업 HWSU-34303 BEIGE      5004005696             두리천사   \n",
       "0   덤블퍼 더플 코트 (네이비) CV233OCT01_NVY  CV233OCT01_NVY              썰썰맘   \n",
       "..                             ...             ...              ...   \n",
       "24                  래빗 후드 집업 (화이트)   2021074901831  soy_sauce_yummy   \n",
       "25                  래빗 후드 집업 (화이트)   2021074901831            Seaty   \n",
       "26                  래빗 후드 집업 (화이트)   2021074901831          son6oss   \n",
       "27                  래빗 후드 집업 (화이트)   2021074901831          wofl318   \n",
       "28                  래빗 후드 집업 (화이트)   2021074901831           Mini뭘봐   \n",
       "\n",
       "   user_ratings                                       user_reviews  \n",
       "0           100  겨울코트는 더플코트죠! 코트지만 누빔안감이 있어 따뜻해요!! 입학시즌 졸업시즌이라 ...  \n",
       "1           100              너무 이뻐요, 색감도 너무 이쁘고 어디에나 코디하기 좋을거 같아요.  \n",
       "2            80                         좋은물건감사합니다. 빠른 배송 교환 감사합니다.  \n",
       "0           100                    너무따뜻해요목둘레가 약간 답답하지만포슬포슬 보온 짱입니다  \n",
       "0           100  더블코트가 밝은색상이 있어서 네이비로 찾아보다가 커버낫에 있길래 냉큼 구입했어요 ㅎ...  \n",
       "..          ...                                                ...  \n",
       "24          100  짱 귀여운 토끼 귀 후드 … 사이즈는 팔도 길고 꽤 큽니다. 색깔은 약간의 형광기가...  \n",
       "25          100            마음에 드네요, 가격이 저렴합니다.배송이 빠릅니다. 디자인이 예쁘네요.  \n",
       "26          100                      그저 귀여워서 샀는데너무 귀여워서 입을때마다 행복해요  \n",
       "27          100                       크기랑 길이 적당해서 예쁘고 토끼귀도 너무 귀여워요  \n",
       "28          100  솔직히 사진만 보구 기대도 많이 안했는데 너무 귀욥구 이뻐요!!! 여자친구도 좋아하...  \n",
       "\n",
       "[6532 rows x 5 columns]"
      ]
     },
     "execution_count": 35,
     "metadata": {},
     "output_type": "execute_result"
    }
   ],
   "source": [
    "df_musinsa_review_raw_2 = df_musinsa_review_raw\n",
    "df_musinsa_review_raw_2"
   ]
  },
  {
   "cell_type": "code",
   "execution_count": 36,
   "metadata": {},
   "outputs": [],
   "source": [
    "df_musinsa_review_raw_2.to_csv('[이청하]review_아우터_240118.csv_2', index=False)"
   ]
  },
  {
   "cell_type": "markdown",
   "metadata": {},
   "source": [
    "---"
   ]
  },
  {
   "cell_type": "markdown",
   "metadata": {},
   "source": [
    "# 데이터 합치기"
   ]
  },
  {
   "cell_type": "code",
   "execution_count": 107,
   "metadata": {},
   "outputs": [
    {
     "data": {
      "text/plain": [
       "100"
      ]
     },
     "execution_count": 107,
     "metadata": {},
     "output_type": "execute_result"
    }
   ],
   "source": [
    "df_1 = pd.read_csv('[이청하]musinsa_아우터_240118_1.csv')\n",
    "len(df_1)"
   ]
  },
  {
   "cell_type": "code",
   "execution_count": 108,
   "metadata": {},
   "outputs": [
    {
     "data": {
      "text/plain": [
       "6"
      ]
     },
     "execution_count": 108,
     "metadata": {},
     "output_type": "execute_result"
    }
   ],
   "source": [
    "df_1_2 = pd.read_csv('[이청하]musinsa_아우터_240118_1_2.csv')\n",
    "len(df_1_2)"
   ]
  },
  {
   "cell_type": "code",
   "execution_count": 106,
   "metadata": {},
   "outputs": [
    {
     "data": {
      "text/plain": [
       "106"
      ]
     },
     "execution_count": 106,
     "metadata": {},
     "output_type": "execute_result"
    }
   ],
   "source": [
    "df = pd.concat([df_1, df_1_2], axis=0, ignore_index=True)\n",
    "len(df)"
   ]
  },
  {
   "cell_type": "code",
   "execution_count": 109,
   "metadata": {},
   "outputs": [
    {
     "data": {
      "text/plain": [
       "74"
      ]
     },
     "execution_count": 109,
     "metadata": {},
     "output_type": "execute_result"
    }
   ],
   "source": [
    "df_1_3 = pd.read_csv('[이청하]musinsa_아우터_240118_1_3.csv')\n",
    "len(df_1_3)"
   ]
  },
  {
   "cell_type": "code",
   "execution_count": 110,
   "metadata": {},
   "outputs": [
    {
     "data": {
      "text/plain": [
       "180"
      ]
     },
     "execution_count": 110,
     "metadata": {},
     "output_type": "execute_result"
    }
   ],
   "source": [
    "df = pd.concat([df, df_1_3], axis=0, ignore_index=True)\n",
    "len(df)"
   ]
  },
  {
   "cell_type": "code",
   "execution_count": 111,
   "metadata": {},
   "outputs": [
    {
     "data": {
      "text/plain": [
       "528"
      ]
     },
     "execution_count": 111,
     "metadata": {},
     "output_type": "execute_result"
    }
   ],
   "source": [
    "df_2 = pd.read_csv('[이청하]musinsa_아우터_240118_2.csv')\n",
    "len(df_2)"
   ]
  },
  {
   "cell_type": "code",
   "execution_count": 112,
   "metadata": {},
   "outputs": [
    {
     "data": {
      "text/plain": [
       "708"
      ]
     },
     "execution_count": 112,
     "metadata": {},
     "output_type": "execute_result"
    }
   ],
   "source": [
    "df = pd.concat([df, df_2], axis=0, ignore_index=True)\n",
    "len(df)"
   ]
  },
  {
   "cell_type": "code",
   "execution_count": 113,
   "metadata": {},
   "outputs": [
    {
     "data": {
      "text/plain": [
       "10"
      ]
     },
     "execution_count": 113,
     "metadata": {},
     "output_type": "execute_result"
    }
   ],
   "source": [
    "df_2_2 = pd.read_csv('[이청하]musinsa_아우터_240118_2_2.csv')\n",
    "len(df_2_2)"
   ]
  },
  {
   "cell_type": "code",
   "execution_count": 114,
   "metadata": {},
   "outputs": [
    {
     "data": {
      "text/plain": [
       "718"
      ]
     },
     "execution_count": 114,
     "metadata": {},
     "output_type": "execute_result"
    }
   ],
   "source": [
    "df = pd.concat([df, df_2_2], axis=0, ignore_index=True)\n",
    "len(df)"
   ]
  },
  {
   "cell_type": "code",
   "execution_count": 115,
   "metadata": {},
   "outputs": [
    {
     "data": {
      "text/plain": [
       "2"
      ]
     },
     "execution_count": 115,
     "metadata": {},
     "output_type": "execute_result"
    }
   ],
   "source": [
    "df_2_3 = pd.read_csv('[이청하]musinsa_아우터_240118_2_3.csv')\n",
    "len(df_2_3)"
   ]
  },
  {
   "cell_type": "code",
   "execution_count": 116,
   "metadata": {},
   "outputs": [
    {
     "data": {
      "text/plain": [
       "720"
      ]
     },
     "execution_count": 116,
     "metadata": {},
     "output_type": "execute_result"
    }
   ],
   "source": [
    "df = pd.concat([df, df_2_3], axis=0, ignore_index=True)\n",
    "len(df)"
   ]
  },
  {
   "cell_type": "code",
   "execution_count": 119,
   "metadata": {},
   "outputs": [
    {
     "data": {
      "text/plain": [
       "359"
      ]
     },
     "execution_count": 119,
     "metadata": {},
     "output_type": "execute_result"
    }
   ],
   "source": [
    "df_3 = pd.read_csv('[이청하]musinsa_아우터_240118_3.csv')\n",
    "len(df_3)"
   ]
  },
  {
   "cell_type": "code",
   "execution_count": 120,
   "metadata": {},
   "outputs": [
    {
     "data": {
      "text/plain": [
       "1079"
      ]
     },
     "execution_count": 120,
     "metadata": {},
     "output_type": "execute_result"
    }
   ],
   "source": [
    "df = pd.concat([df, df_3], axis=0, ignore_index=True)\n",
    "len(df)"
   ]
  },
  {
   "cell_type": "code",
   "execution_count": 134,
   "metadata": {},
   "outputs": [],
   "source": [
    "df.to_csv('[이청하]musinsa_아우터_240118.csv', index=False)"
   ]
  },
  {
   "cell_type": "markdown",
   "metadata": {},
   "source": [
    "---"
   ]
  },
  {
   "cell_type": "code",
   "execution_count": 135,
   "metadata": {},
   "outputs": [
    {
     "data": {
      "text/plain": [
       "3325"
      ]
     },
     "execution_count": 135,
     "metadata": {},
     "output_type": "execute_result"
    }
   ],
   "source": [
    "df_reivew_1 = pd.read_csv('[이청하]review_아우터_240118.csv_1')\n",
    "len(df_reivew_1)"
   ]
  },
  {
   "cell_type": "code",
   "execution_count": 136,
   "metadata": {},
   "outputs": [
    {
     "data": {
      "text/plain": [
       "185"
      ]
     },
     "execution_count": 136,
     "metadata": {},
     "output_type": "execute_result"
    }
   ],
   "source": [
    "df_reivew_1_2 = pd.read_csv('[이청하]review_아우터_240118.csv_1_2')\n",
    "len(df_reivew_1_2)"
   ]
  },
  {
   "cell_type": "code",
   "execution_count": 138,
   "metadata": {},
   "outputs": [
    {
     "data": {
      "text/plain": [
       "3510"
      ]
     },
     "execution_count": 138,
     "metadata": {},
     "output_type": "execute_result"
    }
   ],
   "source": [
    "df_review = pd.concat([df_reivew_1, df_reivew_1_2], axis=0, ignore_index=True)\n",
    "len(df_review)"
   ]
  },
  {
   "cell_type": "code",
   "execution_count": 139,
   "metadata": {},
   "outputs": [
    {
     "data": {
      "text/plain": [
       "2202"
      ]
     },
     "execution_count": 139,
     "metadata": {},
     "output_type": "execute_result"
    }
   ],
   "source": [
    "df_reivew_1_3 = pd.read_csv('[이청하]review_아우터_240118.csv_1_3')\n",
    "len(df_reivew_1_3)"
   ]
  },
  {
   "cell_type": "code",
   "execution_count": 141,
   "metadata": {},
   "outputs": [
    {
     "data": {
      "text/plain": [
       "7914"
      ]
     },
     "execution_count": 141,
     "metadata": {},
     "output_type": "execute_result"
    }
   ],
   "source": [
    "df_review = pd.concat([df_review, df_reivew_1_3], axis=0, ignore_index=True)\n",
    "len(df_review)"
   ]
  },
  {
   "cell_type": "code",
   "execution_count": 142,
   "metadata": {},
   "outputs": [
    {
     "data": {
      "text/plain": [
       "6532"
      ]
     },
     "execution_count": 142,
     "metadata": {},
     "output_type": "execute_result"
    }
   ],
   "source": [
    "df_reivew_2 = pd.read_csv('[이청하]review_아우터_240118.csv_2')\n",
    "len(df_reivew_2)"
   ]
  },
  {
   "cell_type": "code",
   "execution_count": 143,
   "metadata": {},
   "outputs": [
    {
     "data": {
      "text/plain": [
       "14446"
      ]
     },
     "execution_count": 143,
     "metadata": {},
     "output_type": "execute_result"
    }
   ],
   "source": [
    "df_review = pd.concat([df_review, df_reivew_2], axis=0, ignore_index=True)\n",
    "len(df_review)"
   ]
  },
  {
   "cell_type": "code",
   "execution_count": 144,
   "metadata": {},
   "outputs": [
    {
     "data": {
      "text/plain": [
       "209"
      ]
     },
     "execution_count": 144,
     "metadata": {},
     "output_type": "execute_result"
    }
   ],
   "source": [
    "df_reivew_2_2 = pd.read_csv('[이청하]review_아우터_240118.csv_2_2')\n",
    "len(df_reivew_2_2)"
   ]
  },
  {
   "cell_type": "code",
   "execution_count": 145,
   "metadata": {},
   "outputs": [
    {
     "data": {
      "text/plain": [
       "14655"
      ]
     },
     "execution_count": 145,
     "metadata": {},
     "output_type": "execute_result"
    }
   ],
   "source": [
    "df_review = pd.concat([df_review, df_reivew_2_2], axis=0, ignore_index=True)\n",
    "len(df_review)"
   ]
  },
  {
   "cell_type": "code",
   "execution_count": 146,
   "metadata": {},
   "outputs": [
    {
     "data": {
      "text/plain": [
       "25"
      ]
     },
     "execution_count": 146,
     "metadata": {},
     "output_type": "execute_result"
    }
   ],
   "source": [
    "df_reivew_2_3 = pd.read_csv('[이청하]review_아우터_240118.csv_2_3')\n",
    "len(df_reivew_2_3)"
   ]
  },
  {
   "cell_type": "code",
   "execution_count": 147,
   "metadata": {},
   "outputs": [
    {
     "data": {
      "text/plain": [
       "14680"
      ]
     },
     "execution_count": 147,
     "metadata": {},
     "output_type": "execute_result"
    }
   ],
   "source": [
    "df_review = pd.concat([df_review, df_reivew_2_3], axis=0, ignore_index=True)\n",
    "len(df_review)"
   ]
  },
  {
   "cell_type": "code",
   "execution_count": 148,
   "metadata": {},
   "outputs": [
    {
     "data": {
      "text/plain": [
       "6035"
      ]
     },
     "execution_count": 148,
     "metadata": {},
     "output_type": "execute_result"
    }
   ],
   "source": [
    "df_reivew_3 = pd.read_csv('[이청하]review_아우터_240118.csv_3')\n",
    "len(df_reivew_3)"
   ]
  },
  {
   "cell_type": "code",
   "execution_count": 149,
   "metadata": {},
   "outputs": [
    {
     "data": {
      "text/plain": [
       "20715"
      ]
     },
     "execution_count": 149,
     "metadata": {},
     "output_type": "execute_result"
    }
   ],
   "source": [
    "df_review = pd.concat([df_review, df_reivew_3], axis=0, ignore_index=True)\n",
    "len(df_review)"
   ]
  },
  {
   "cell_type": "code",
   "execution_count": 150,
   "metadata": {},
   "outputs": [],
   "source": [
    "df_review.to_csv('[이청하]review_아우터_240118.csv', index=False)"
   ]
  },
  {
   "cell_type": "code",
   "execution_count": 153,
   "metadata": {},
   "outputs": [
    {
     "data": {
      "text/html": [
       "<div>\n",
       "<style scoped>\n",
       "    .dataframe tbody tr th:only-of-type {\n",
       "        vertical-align: middle;\n",
       "    }\n",
       "\n",
       "    .dataframe tbody tr th {\n",
       "        vertical-align: top;\n",
       "    }\n",
       "\n",
       "    .dataframe thead th {\n",
       "        text-align: right;\n",
       "    }\n",
       "</style>\n",
       "<table border=\"1\" class=\"dataframe\">\n",
       "  <thead>\n",
       "    <tr style=\"text-align: right;\">\n",
       "      <th></th>\n",
       "      <th>product_names</th>\n",
       "      <th>product_ids</th>\n",
       "      <th>user_names</th>\n",
       "      <th>user_ratings</th>\n",
       "      <th>user_reviews</th>\n",
       "    </tr>\n",
       "  </thead>\n",
       "  <tbody>\n",
       "    <tr>\n",
       "      <th>0</th>\n",
       "      <td>베이직 플리스 자켓 (U00DTJK59)</td>\n",
       "      <td>2646018</td>\n",
       "      <td>은양지꽃</td>\n",
       "      <td>80</td>\n",
       "      <td>좀 커서 건조기 돌렸는데 잘 안줄어드네요 ㅋ입고다닐만해요</td>\n",
       "    </tr>\n",
       "    <tr>\n",
       "      <th>1</th>\n",
       "      <td>베이직 플리스 자켓 (U00DTJK59)</td>\n",
       "      <td>2646018</td>\n",
       "      <td>떡볶이 사줘</td>\n",
       "      <td>80</td>\n",
       "      <td>따닷하니 좋네요 다들 한번 편하게 사서 입어보세요너무너무 좋아요</td>\n",
       "    </tr>\n",
       "    <tr>\n",
       "      <th>2</th>\n",
       "      <td>베이직 플리스 자켓 (U00DTJK59)</td>\n",
       "      <td>2646018</td>\n",
       "      <td>oh_sori</td>\n",
       "      <td>100</td>\n",
       "      <td>일단 색깔이 보통 생각하는 그레이가 아닌 소라 색이 섞여있는 밝은 그레이 라 너무 ...</td>\n",
       "    </tr>\n",
       "    <tr>\n",
       "      <th>3</th>\n",
       "      <td>베이직 플리스 자켓 (U00DTJK59)</td>\n",
       "      <td>2646018</td>\n",
       "      <td>773 bono</td>\n",
       "      <td>80</td>\n",
       "      <td>가볍고 편해요 헉교에서 잘 입어요 보플은 좀 생기네요</td>\n",
       "    </tr>\n",
       "    <tr>\n",
       "      <th>4</th>\n",
       "      <td>베이직 플리스 자켓 (U00DTJK59)</td>\n",
       "      <td>2646018</td>\n",
       "      <td>.,,,,,,</td>\n",
       "      <td>100</td>\n",
       "      <td>M사이즈가 품절이라 라지로 사서 클줄알았는데 사이즈괜찮았고 예뻐용</td>\n",
       "    </tr>\n",
       "    <tr>\n",
       "      <th>...</th>\n",
       "      <td>...</td>\n",
       "      <td>...</td>\n",
       "      <td>...</td>\n",
       "      <td>...</td>\n",
       "      <td>...</td>\n",
       "    </tr>\n",
       "    <tr>\n",
       "      <th>20710</th>\n",
       "      <td>코트 양털 후리스2X 블랙</td>\n",
       "      <td>PA001</td>\n",
       "      <td>바니바니뚜</td>\n",
       "      <td>100</td>\n",
       "      <td>두툼한 오버핏으로 떨어지는 스타일이라 좋아요</td>\n",
       "    </tr>\n",
       "    <tr>\n",
       "      <th>20711</th>\n",
       "      <td>코트 양털 후리스2X 블랙</td>\n",
       "      <td>PA001</td>\n",
       "      <td>일어나하체하자</td>\n",
       "      <td>100</td>\n",
       "      <td>평소 XL 입는 운동 좋아하는 사람입니다~이 옷은 L로 가는게 나았을 것 같네요전 ...</td>\n",
       "    </tr>\n",
       "    <tr>\n",
       "      <th>20712</th>\n",
       "      <td>코트 양털 후리스2X 블랙</td>\n",
       "      <td>PA001</td>\n",
       "      <td>멤버_e874915b3161</td>\n",
       "      <td>80</td>\n",
       "      <td>가성비 아주괜찮은제품이지만 오래는 못입늘거같아요</td>\n",
       "    </tr>\n",
       "    <tr>\n",
       "      <th>20713</th>\n",
       "      <td>코트 양털 후리스2X 블랙</td>\n",
       "      <td>PA001</td>\n",
       "      <td>김동현1225</td>\n",
       "      <td>100</td>\n",
       "      <td>따뜻하고 좋아요 입기가편해서좋습니다정말좋습니다</td>\n",
       "    </tr>\n",
       "    <tr>\n",
       "      <th>20714</th>\n",
       "      <td>코트 양털 후리스2X 블랙</td>\n",
       "      <td>PA001</td>\n",
       "      <td>후망</td>\n",
       "      <td>100</td>\n",
       "      <td>배송은 늦었지만 오버하게 입으려고 제일 큰 사이즈 샀는데 확실히 오버하고 이쁘네요.</td>\n",
       "    </tr>\n",
       "  </tbody>\n",
       "</table>\n",
       "<p>20715 rows × 5 columns</p>\n",
       "</div>"
      ],
      "text/plain": [
       "                product_names product_ids       user_names  user_ratings  \\\n",
       "0      베이직 플리스 자켓 (U00DTJK59)     2646018             은양지꽃            80   \n",
       "1      베이직 플리스 자켓 (U00DTJK59)     2646018           떡볶이 사줘            80   \n",
       "2      베이직 플리스 자켓 (U00DTJK59)     2646018          oh_sori           100   \n",
       "3      베이직 플리스 자켓 (U00DTJK59)     2646018         773 bono            80   \n",
       "4      베이직 플리스 자켓 (U00DTJK59)     2646018          .,,,,,,           100   \n",
       "...                       ...         ...              ...           ...   \n",
       "20710          코트 양털 후리스2X 블랙       PA001            바니바니뚜           100   \n",
       "20711          코트 양털 후리스2X 블랙       PA001          일어나하체하자           100   \n",
       "20712          코트 양털 후리스2X 블랙       PA001  멤버_e874915b3161            80   \n",
       "20713          코트 양털 후리스2X 블랙       PA001          김동현1225           100   \n",
       "20714          코트 양털 후리스2X 블랙       PA001               후망           100   \n",
       "\n",
       "                                            user_reviews  \n",
       "0                        좀 커서 건조기 돌렸는데 잘 안줄어드네요 ㅋ입고다닐만해요  \n",
       "1                    따닷하니 좋네요 다들 한번 편하게 사서 입어보세요너무너무 좋아요  \n",
       "2      일단 색깔이 보통 생각하는 그레이가 아닌 소라 색이 섞여있는 밝은 그레이 라 너무 ...  \n",
       "3                          가볍고 편해요 헉교에서 잘 입어요 보플은 좀 생기네요  \n",
       "4                   M사이즈가 품절이라 라지로 사서 클줄알았는데 사이즈괜찮았고 예뻐용  \n",
       "...                                                  ...  \n",
       "20710                           두툼한 오버핏으로 떨어지는 스타일이라 좋아요  \n",
       "20711  평소 XL 입는 운동 좋아하는 사람입니다~이 옷은 L로 가는게 나았을 것 같네요전 ...  \n",
       "20712                         가성비 아주괜찮은제품이지만 오래는 못입늘거같아요  \n",
       "20713                          따뜻하고 좋아요 입기가편해서좋습니다정말좋습니다  \n",
       "20714     배송은 늦었지만 오버하게 입으려고 제일 큰 사이즈 샀는데 확실히 오버하고 이쁘네요.  \n",
       "\n",
       "[20715 rows x 5 columns]"
      ]
     },
     "execution_count": 153,
     "metadata": {},
     "output_type": "execute_result"
    }
   ],
   "source": [
    "df_review"
   ]
  },
  {
   "cell_type": "code",
   "execution_count": 154,
   "metadata": {},
   "outputs": [
    {
     "name": "stdout",
     "output_type": "stream",
     "text": [
      "<class 'pandas.core.frame.DataFrame'>\n",
      "RangeIndex: 20715 entries, 0 to 20714\n",
      "Data columns (total 5 columns):\n",
      " #   Column         Non-Null Count  Dtype \n",
      "---  ------         --------------  ----- \n",
      " 0   product_names  20715 non-null  object\n",
      " 1   product_ids    20715 non-null  object\n",
      " 2   user_names     20715 non-null  object\n",
      " 3   user_ratings   20715 non-null  int64 \n",
      " 4   user_reviews   20715 non-null  object\n",
      "dtypes: int64(1), object(4)\n",
      "memory usage: 809.3+ KB\n"
     ]
    }
   ],
   "source": [
    "df_review.info()"
   ]
  },
  {
   "cell_type": "code",
   "execution_count": 155,
   "metadata": {},
   "outputs": [
    {
     "name": "stdout",
     "output_type": "stream",
     "text": [
      "<class 'pandas.core.frame.DataFrame'>\n",
      "RangeIndex: 1079 entries, 0 to 1078\n",
      "Data columns (total 17 columns):\n",
      " #   Column           Non-Null Count  Dtype  \n",
      "---  ------           --------------  -----  \n",
      " 0   major_category   1079 non-null   object \n",
      " 1   middle_category  1079 non-null   object \n",
      " 2   name             1079 non-null   object \n",
      " 3   number           1079 non-null   object \n",
      " 4   limit            1079 non-null   int64  \n",
      " 5   exclusive        1079 non-null   int64  \n",
      " 6   target_gender    1079 non-null   int64  \n",
      " 7   buy_gender       623 non-null    float64\n",
      " 8   buy_age          1079 non-null   object \n",
      " 9   view             1076 non-null   float64\n",
      " 10  like             1079 non-null   int64  \n",
      " 11  price            1079 non-null   float64\n",
      " 12  discount_rate    1079 non-null   int64  \n",
      " 13  delivery_date    1077 non-null   float64\n",
      " 14  rating           909 non-null    float64\n",
      " 15  review           1079 non-null   int64  \n",
      " 16  buy              611 non-null    float64\n",
      "dtypes: float64(6), int64(6), object(5)\n",
      "memory usage: 143.4+ KB\n"
     ]
    }
   ],
   "source": [
    "df.info()"
   ]
  },
  {
   "cell_type": "code",
   "execution_count": null,
   "metadata": {},
   "outputs": [],
   "source": []
  }
 ],
 "metadata": {
  "colab": {
   "provenance": []
  },
  "kernelspec": {
   "display_name": "Python 3 (ipykernel)",
   "language": "python",
   "name": "python3"
  },
  "language_info": {
   "codemirror_mode": {
    "name": "ipython",
    "version": 3
   },
   "file_extension": ".py",
   "mimetype": "text/x-python",
   "name": "python",
   "nbconvert_exporter": "python",
   "pygments_lexer": "ipython3",
   "version": "3.11.5"
  }
 },
 "nbformat": 4,
 "nbformat_minor": 4
}
